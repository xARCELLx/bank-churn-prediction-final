{
 "cells": [
  {
   "cell_type": "markdown",
   "metadata": {},
   "source": [
    "\n",
    "# Bank Customer Churn Prediction - Summary"
   ]
  },
  {
   "cell_type": "markdown",
   "metadata": {},
   "source": [
    "## Dependencies"
   ]
  },
  {
   "cell_type": "code",
   "execution_count": 1,
   "metadata": {
    "execution": {
     "iopub.execute_input": "2022-11-28T15:30:46.189226Z",
     "iopub.status.busy": "2022-11-28T15:30:46.189226Z",
     "iopub.status.idle": "2022-11-28T15:30:59.999249Z",
     "shell.execute_reply": "2022-11-28T15:30:59.998280Z",
     "shell.execute_reply.started": "2022-11-28T15:30:46.189226Z"
    },
    "tags": []
   },
   "outputs": [],
   "source": [
    "import pandas as pd\n",
    "import numpy as np\n",
    "import os\n",
    "\n",
    "# Matplotlib for visualization\n",
    "from matplotlib import pyplot as plt\n",
    "# display plots in the notebook\n",
    "%matplotlib inline\n",
    "\n",
    "# Seaborn for easier visualization\n",
    "import seaborn as sns\n",
    "### sns.set_style('darkgrid')\n",
    "\n",
    "# store elements as dictionary keys and their counts as dictionary values\n",
    "from collections import Counter\n",
    "\n",
    "# # scikit-learn\n",
    "from sklearn.model_selection import train_test_split\n",
    "\n",
    "from sklearn.preprocessing import MinMaxScaler, OneHotEncoder, LabelEncoder, LabelBinarizer\n",
    "from sklearn.compose import ColumnTransformer, make_column_transformer\n",
    "# from sklearn.pipeline import make_pipeline\n",
    "from sklearn.model_selection import GridSearchCV\n",
    "\n",
    "# Function for creating model pipelines - imblearn\n",
    "from imblearn.pipeline import make_pipeline as imbl_pipe\n",
    "\n",
    "# # Over-sampling using SMOTE\n",
    "# from imblearn.over_sampling import SMOTE\n",
    "\n",
    "# Classification metrics\n",
    "from sklearn.metrics import confusion_matrix, classification_report\n",
    "from sklearn.metrics import accuracy_score, f1_score, precision_score, recall_score\n",
    "\n",
    "from sklearn.linear_model import LogisticRegression \n",
    "from sklearn.ensemble import RandomForestClassifier\n",
    "from sklearn.svm import SVC \n",
    "from sklearn import tree\n",
    "\n",
    "import xgboost as xgb\n",
    "\n",
    "import joblib\n",
    "from tensorflow.keras.models import load_model\n",
    "# Keras\n",
    "#from tensorflow.keras.wrappers.scikit_learn import KerasClassifier\n",
    "# from tensorflow.keras.layers import Dense, Input, Dropout\n",
    "# from tensorflow.keras.models import Sequential\n"
   ]
  },
  {
   "cell_type": "code",
   "execution_count": 2,
   "metadata": {},
   "outputs": [],
   "source": [
    "# If you are runnig \"Dark Reader\" on Chrome,install \"jupyterthemes \n",
    "#  and run these lines so the legends and axes become visible\n",
    "## from jupyterthemes import jtplot\n",
    "## jtplot.style(theme='monokai', context='notebook', ticks=True, grid=False)\n",
    "\n",
    "# To reset default matplotlib rcParams\n",
    "## jtplot.reset()\n"
   ]
  },
  {
   "cell_type": "markdown",
   "metadata": {},
   "source": [
    "## Load Analytical Base Table"
   ]
  },
  {
   "cell_type": "code",
   "execution_count": 2,
   "metadata": {
    "execution": {
     "iopub.execute_input": "2022-11-28T15:31:40.828896Z",
     "iopub.status.busy": "2022-11-28T15:31:40.827904Z",
     "iopub.status.idle": "2022-11-28T15:31:40.879966Z",
     "shell.execute_reply": "2022-11-28T15:31:40.878965Z",
     "shell.execute_reply.started": "2022-11-28T15:31:40.828896Z"
    }
   },
   "outputs": [
    {
     "name": "stdout",
     "output_type": "stream",
     "text": [
      "Dataframe dimensions: (10000, 11)\n"
     ]
    },
    {
     "data": {
      "text/html": [
       "<div>\n",
       "<style scoped>\n",
       "    .dataframe tbody tr th:only-of-type {\n",
       "        vertical-align: middle;\n",
       "    }\n",
       "\n",
       "    .dataframe tbody tr th {\n",
       "        vertical-align: top;\n",
       "    }\n",
       "\n",
       "    .dataframe thead th {\n",
       "        text-align: right;\n",
       "    }\n",
       "</style>\n",
       "<table border=\"1\" class=\"dataframe\">\n",
       "  <thead>\n",
       "    <tr style=\"text-align: right;\">\n",
       "      <th></th>\n",
       "      <th>CreditScore</th>\n",
       "      <th>Geography</th>\n",
       "      <th>Gender</th>\n",
       "      <th>Age</th>\n",
       "      <th>Tenure</th>\n",
       "      <th>Balance</th>\n",
       "      <th>NumOfProducts</th>\n",
       "      <th>HasCrCard</th>\n",
       "      <th>IsActiveMember</th>\n",
       "      <th>EstimatedSalary</th>\n",
       "      <th>Exited</th>\n",
       "    </tr>\n",
       "  </thead>\n",
       "  <tbody>\n",
       "    <tr>\n",
       "      <th>0</th>\n",
       "      <td>619</td>\n",
       "      <td>France</td>\n",
       "      <td>Female</td>\n",
       "      <td>42</td>\n",
       "      <td>2</td>\n",
       "      <td>0.00</td>\n",
       "      <td>1</td>\n",
       "      <td>1</td>\n",
       "      <td>1</td>\n",
       "      <td>101348.88</td>\n",
       "      <td>1</td>\n",
       "    </tr>\n",
       "    <tr>\n",
       "      <th>1</th>\n",
       "      <td>608</td>\n",
       "      <td>Spain</td>\n",
       "      <td>Female</td>\n",
       "      <td>41</td>\n",
       "      <td>1</td>\n",
       "      <td>83807.86</td>\n",
       "      <td>1</td>\n",
       "      <td>0</td>\n",
       "      <td>1</td>\n",
       "      <td>112542.58</td>\n",
       "      <td>0</td>\n",
       "    </tr>\n",
       "    <tr>\n",
       "      <th>2</th>\n",
       "      <td>502</td>\n",
       "      <td>France</td>\n",
       "      <td>Female</td>\n",
       "      <td>42</td>\n",
       "      <td>8</td>\n",
       "      <td>159660.80</td>\n",
       "      <td>3</td>\n",
       "      <td>1</td>\n",
       "      <td>0</td>\n",
       "      <td>113931.57</td>\n",
       "      <td>1</td>\n",
       "    </tr>\n",
       "    <tr>\n",
       "      <th>3</th>\n",
       "      <td>699</td>\n",
       "      <td>France</td>\n",
       "      <td>Female</td>\n",
       "      <td>39</td>\n",
       "      <td>1</td>\n",
       "      <td>0.00</td>\n",
       "      <td>2</td>\n",
       "      <td>0</td>\n",
       "      <td>0</td>\n",
       "      <td>93826.63</td>\n",
       "      <td>0</td>\n",
       "    </tr>\n",
       "    <tr>\n",
       "      <th>4</th>\n",
       "      <td>850</td>\n",
       "      <td>Spain</td>\n",
       "      <td>Female</td>\n",
       "      <td>43</td>\n",
       "      <td>2</td>\n",
       "      <td>125510.82</td>\n",
       "      <td>1</td>\n",
       "      <td>1</td>\n",
       "      <td>1</td>\n",
       "      <td>79084.10</td>\n",
       "      <td>0</td>\n",
       "    </tr>\n",
       "  </tbody>\n",
       "</table>\n",
       "</div>"
      ],
      "text/plain": [
       "   CreditScore Geography  Gender  Age  Tenure    Balance  NumOfProducts  \\\n",
       "0          619    France  Female   42       2       0.00              1   \n",
       "1          608     Spain  Female   41       1   83807.86              1   \n",
       "2          502    France  Female   42       8  159660.80              3   \n",
       "3          699    France  Female   39       1       0.00              2   \n",
       "4          850     Spain  Female   43       2  125510.82              1   \n",
       "\n",
       "   HasCrCard  IsActiveMember  EstimatedSalary  Exited  \n",
       "0          1               1        101348.88       1  \n",
       "1          0               1        112542.58       0  \n",
       "2          1               0        113931.57       1  \n",
       "3          0               0         93826.63       0  \n",
       "4          1               1         79084.10       0  "
      ]
     },
     "execution_count": 2,
     "metadata": {},
     "output_type": "execute_result"
    }
   ],
   "source": [
    "df = pd.read_csv(os.path.join(\"Resources\", \"analytical_base_table.csv\"))\n",
    "print(f\"Dataframe dimensions: {df.shape}\")\n",
    "df.head()"
   ]
  },
  {
   "cell_type": "markdown",
   "metadata": {},
   "source": [
    "### Separate dataframe into separate object"
   ]
  },
  {
   "cell_type": "code",
   "execution_count": 3,
   "metadata": {
    "execution": {
     "iopub.execute_input": "2022-11-28T15:32:00.288509Z",
     "iopub.status.busy": "2022-11-28T15:32:00.287509Z",
     "iopub.status.idle": "2022-11-28T15:32:00.307209Z",
     "shell.execute_reply": "2022-11-28T15:32:00.306239Z",
     "shell.execute_reply.started": "2022-11-28T15:32:00.288509Z"
    }
   },
   "outputs": [
    {
     "name": "stdout",
     "output_type": "stream",
     "text": [
      "(10000, 10) (10000,)\n"
     ]
    }
   ],
   "source": [
    "# Object for target variable\n",
    "y = df.Exited\n",
    "\n",
    "# object for input features\n",
    "X = df.drop(['Exited'], axis=1)\n",
    "\n",
    "# display shapes of X and y\n",
    "print(X.shape, y.shape)"
   ]
  },
  {
   "cell_type": "markdown",
   "metadata": {},
   "source": [
    "## Create a Train Test Split"
   ]
  },
  {
   "cell_type": "code",
   "execution_count": 4,
   "metadata": {
    "execution": {
     "iopub.execute_input": "2022-11-28T15:32:15.887009Z",
     "iopub.status.busy": "2022-11-28T15:32:15.887009Z",
     "iopub.status.idle": "2022-11-28T15:32:15.906657Z",
     "shell.execute_reply": "2022-11-28T15:32:15.905696Z",
     "shell.execute_reply.started": "2022-11-28T15:32:15.887009Z"
    },
    "scrolled": true
   },
   "outputs": [
    {
     "name": "stdout",
     "output_type": "stream",
     "text": [
      "7000 3000 7000 3000\n"
     ]
    }
   ],
   "source": [
    "random_state = 10\n",
    "\n",
    "# Split X and y into train and test sets\n",
    "X_train, X_test, y_train, y_test = train_test_split(X, y, test_size=0.3,\n",
    "                                                    random_state=random_state,\n",
    "                                                   stratify=df.Exited)\n",
    "\n",
    "# Print number of observations in X_train, X_test, y_train, and y_test\n",
    "print(len(X_train), len(X_test), len(y_train), len(y_test))"
   ]
  },
  {
   "cell_type": "code",
   "execution_count": 14,
   "metadata": {
    "execution": {
     "iopub.execute_input": "2022-11-28T15:42:54.370517Z",
     "iopub.status.busy": "2022-11-28T15:42:54.370517Z",
     "iopub.status.idle": "2022-11-28T15:42:54.380808Z",
     "shell.execute_reply": "2022-11-28T15:42:54.379803Z",
     "shell.execute_reply.started": "2022-11-28T15:42:54.370517Z"
    },
    "tags": []
   },
   "outputs": [],
   "source": [
    "# Get a Numpy representation of the DataFrame\n",
    "X_train = X_train.values\n",
    "X_test = X_test.values"
   ]
  },
  {
   "cell_type": "markdown",
   "metadata": {},
   "source": [
    "## Load Saved Models"
   ]
  },
  {
   "cell_type": "code",
   "execution_count": 5,
   "metadata": {
    "execution": {
     "iopub.execute_input": "2022-11-28T15:36:15.682053Z",
     "iopub.status.busy": "2022-11-28T15:36:15.682053Z",
     "iopub.status.idle": "2022-11-28T15:36:17.649259Z",
     "shell.execute_reply": "2022-11-28T15:36:17.648235Z",
     "shell.execute_reply.started": "2022-11-28T15:36:15.682053Z"
    }
   },
   "outputs": [],
   "source": [
    "dt_model = joblib.load('models/nate_decision_tree.sav')\n",
    "dl_model = joblib.load('models/scikeras.sav')\n",
    "##knn_model = joblib.load('models/nate_knn.sav')\n",
    "lr_model = joblib.load('models/nate_logistic_regression.sav')\n",
    "rf_model = joblib.load('models/nate_random_forest.sav')\n",
    "svm_model = joblib.load('models/SVM_model.sav')\n",
    "xgb_model = joblib.load('models/XGBoost_model.sav')\n"
   ]
  },
  {
   "cell_type": "markdown",
   "metadata": {},
   "source": [
    "**Dictionary `'models'`**\n",
    "\n",
    "We are going to create the dictionary `models` with names of all models. We will be using it later for plotting and displaying results of the models."
   ]
  },
  {
   "cell_type": "code",
   "execution_count": 6,
   "metadata": {
    "execution": {
     "iopub.execute_input": "2022-11-28T15:36:47.207021Z",
     "iopub.status.busy": "2022-11-28T15:36:47.206005Z",
     "iopub.status.idle": "2022-11-28T15:36:47.227366Z",
     "shell.execute_reply": "2022-11-28T15:36:47.226347Z",
     "shell.execute_reply.started": "2022-11-28T15:36:47.207021Z"
    }
   },
   "outputs": [],
   "source": [
    "# Create models dictionary, it will be needed for ploting\n",
    "models = {\n",
    "    'dt' : 'Decision Tree',\n",
    "    'dl': 'Deep Learning',\n",
    "    #'knn' : 'K-nearest Neighbors',\n",
    "    'lr' : 'Logistic Regression',\n",
    "    'rf' : 'Random Forest',\n",
    "    'svm' : 'Support Vector Machine (SVM)',\n",
    "    'xgb' : 'XGBoost'\n",
    "}"
   ]
  },
  {
   "cell_type": "markdown",
   "metadata": {},
   "source": [
    "**Dictionary `'loaded_models'`**\n",
    "\n",
    "The dictionary `loaded_models` with names of all loaded models. We will be using it later for plotting and displaying results of the models."
   ]
  },
  {
   "cell_type": "code",
   "execution_count": 7,
   "metadata": {
    "execution": {
     "iopub.execute_input": "2022-11-28T15:37:21.660481Z",
     "iopub.status.busy": "2022-11-28T15:37:21.660481Z",
     "iopub.status.idle": "2022-11-28T15:37:21.677699Z",
     "shell.execute_reply": "2022-11-28T15:37:21.676737Z",
     "shell.execute_reply.started": "2022-11-28T15:37:21.660481Z"
    }
   },
   "outputs": [],
   "source": [
    "# Dictionary of all loaded models\n",
    "loaded_models = {\n",
    "    'dt' : dt_model,\n",
    "    'dl': dl_model,\n",
    "    #'knn': knn_model,\n",
    "    'lr' : lr_model,\n",
    "    'rf' : rf_model,\n",
    "    'svm' : svm_model,\n",
    "    'xgb' : xgb_model\n",
    "}"
   ]
  },
  {
   "cell_type": "markdown",
   "metadata": {},
   "source": [
    "'target_names' variable will be used later for printing evaluation results."
   ]
  },
  {
   "cell_type": "code",
   "execution_count": 8,
   "metadata": {
    "execution": {
     "iopub.execute_input": "2022-11-28T15:37:32.873758Z",
     "iopub.status.busy": "2022-11-28T15:37:32.872758Z",
     "iopub.status.idle": "2022-11-28T15:37:32.884948Z",
     "shell.execute_reply": "2022-11-28T15:37:32.883966Z",
     "shell.execute_reply.started": "2022-11-28T15:37:32.873758Z"
    }
   },
   "outputs": [],
   "source": [
    "target_names = ['Stays', 'Exits']"
   ]
  },
  {
   "cell_type": "markdown",
   "metadata": {},
   "source": [
    "### Helper Functions"
   ]
  },
  {
   "cell_type": "markdown",
   "metadata": {},
   "source": [
    "**The function for creating the dataframe with evaluation metrics for each model.**\n",
    "\n",
    "<pre>input: loaded models dictionary\n",
    "output: evaluation metrics dataframe</pre>"
   ]
  },
  {
   "cell_type": "code",
   "execution_count": 9,
   "metadata": {
    "execution": {
     "iopub.execute_input": "2022-11-28T15:37:58.974550Z",
     "iopub.status.busy": "2022-11-28T15:37:58.974550Z",
     "iopub.status.idle": "2022-11-28T15:37:58.983548Z",
     "shell.execute_reply": "2022-11-28T15:37:58.982546Z",
     "shell.execute_reply.started": "2022-11-28T15:37:58.974550Z"
    }
   },
   "outputs": [],
   "source": [
    "def evaluation(fit_models):\n",
    "    lst = []\n",
    "    for name, model in fit_models.items():\n",
    "        pred = model.predict(X_test)\n",
    "        lst.append([name, \n",
    "                    precision_score(y_test, pred, average='macro'),\n",
    "                    recall_score(y_test, pred, average='macro'),\n",
    "                    f1_score(y_test, pred, average='macro'),\n",
    "                    accuracy_score(y_test, pred)])\n",
    "\n",
    "    eval_df = pd.DataFrame(lst, columns=['model', 'precision', 'recall', 'f1_macro', 'accuracy'])\n",
    "    eval_df.set_index('model', inplace = True)\n",
    "    return eval_df"
   ]
  },
  {
   "cell_type": "markdown",
   "metadata": {},
   "source": [
    "**The helper function for displaying confusion matrix and classification report.**\n",
    "\n",
    "<pre>input: loaded models dictionary, models dictionary and a dictionary key for one of the models\n",
    "output: confusion matrix dataframe and classification report</pre>"
   ]
  },
  {
   "cell_type": "code",
   "execution_count": 10,
   "metadata": {
    "execution": {
     "iopub.execute_input": "2022-11-28T15:38:16.203550Z",
     "iopub.status.busy": "2022-11-28T15:38:16.203550Z",
     "iopub.status.idle": "2022-11-28T15:38:16.215875Z",
     "shell.execute_reply": "2022-11-28T15:38:16.214867Z",
     "shell.execute_reply.started": "2022-11-28T15:38:16.203550Z"
    }
   },
   "outputs": [],
   "source": [
    "def class_rep_cm(fit_models, models, model_id):\n",
    "    # Predict classes using model_id\n",
    "    pred = fit_models[model_id].predict(X_test)\n",
    "    print()\n",
    "    print('\\t', models[model_id])\n",
    "    print('\\t', '='*len(models[model_id]))\n",
    "\n",
    "    # Display confusion matrix for y_test and pred\n",
    "    conf_df = pd.DataFrame(confusion_matrix(y_test, pred), columns=target_names, index=target_names)\n",
    "    conf_df.index.name = 'True Labels'\n",
    "    conf_df = conf_df.rename_axis('Predicted Labels', axis='columns')\n",
    "    display(conf_df)\n",
    "    \n",
    "    # Display classification report\n",
    "    print()\n",
    "    print(classification_report(y_test, pred, target_names=target_names))\n"
   ]
  },
  {
   "cell_type": "markdown",
   "metadata": {},
   "source": [
    "**The function for ploting one model's confusion matrix heatmaps without and with normalization.**\n",
    "\n",
    "<pre>input: loaded models dictionary, models dictionary and dictionary key for one model, colormap for heatmaps\n",
    "output: plot of two heatmaps</pre> "
   ]
  },
  {
   "cell_type": "code",
   "execution_count": 11,
   "metadata": {
    "execution": {
     "iopub.execute_input": "2022-11-28T15:38:38.278016Z",
     "iopub.status.busy": "2022-11-28T15:38:38.277023Z",
     "iopub.status.idle": "2022-11-28T15:38:38.295726Z",
     "shell.execute_reply": "2022-11-28T15:38:38.294688Z",
     "shell.execute_reply.started": "2022-11-28T15:38:38.278016Z"
    }
   },
   "outputs": [],
   "source": [
    "def plot_conf_mat_w_and_wo_norm(fit_models, models, model_id, color):\n",
    "    # Plot confusion matrix heatmaps\n",
    "    pred = fit_models[model_id].predict(X_test)\n",
    "\n",
    "    f, (ax1, ax2) = plt.subplots(1, 2, figsize=(12, 4))\n",
    "    f.suptitle(models[model_id], fontsize=14)\n",
    "    f.subplots_adjust(top=0.85, wspace=0.3)\n",
    "\n",
    "    # confusion matrix without normalization\n",
    "    mat = confusion_matrix(y_test, pred)\n",
    "    sns.heatmap(mat,\n",
    "                annot=True,\n",
    "                annot_kws=dict(fontsize=14),\n",
    "                fmt='d',\n",
    "                cbar=True,\n",
    "                square=True,\n",
    "                cmap=color,\n",
    "                ax=ax1)\n",
    "\n",
    "    ax1.set_xticklabels(labels=target_names)\n",
    "    ax1.set_yticklabels(labels=target_names, va='center')\n",
    "    ax1.set_title('Confusion Matrix w/o Normalization')\n",
    "    ax1.set_xlabel('Predicted Label', size=12)\n",
    "    ax1.set_ylabel('True Label', size=12)\n",
    "\n",
    "    # normalized confusion matrix\n",
    "    matn = mat / mat.sum(axis=1)[:, np.newaxis]\n",
    "    sns.heatmap(matn,\n",
    "                annot=True,\n",
    "                annot_kws=dict(fontsize=14),\n",
    "                fmt='.2f',\n",
    "                cbar=True,\n",
    "                square=True,\n",
    "                cmap=color,\n",
    "                vmin = 0,\n",
    "                vmax = 1,\n",
    "                ax=ax2)\n",
    "\n",
    "    ax2.set_xticklabels(labels=target_names)\n",
    "    ax2.set_yticklabels(labels=target_names, va='center')\n",
    "    ax2.set_title('Normalized Confusion Matrix')\n",
    "    ax2.set_xlabel('Predicted Label', size=12)\n",
    "    ax2.set_ylabel('True Label', size=12)\n",
    "\n",
    "    plt.show()"
   ]
  },
  {
   "cell_type": "markdown",
   "metadata": {},
   "source": [
    "**The helper function for ploting heatmaps for normalized confusion matrices for all models.**\n",
    "\n",
    "<pre>input: loaded models dictionary, models dictionary and colormap for heatmaps\n",
    "output: plot of heatmaps for each model</pre>"
   ]
  },
  {
   "cell_type": "code",
   "execution_count": 12,
   "metadata": {
    "execution": {
     "iopub.execute_input": "2022-11-28T15:38:53.128407Z",
     "iopub.status.busy": "2022-11-28T15:38:53.128407Z",
     "iopub.status.idle": "2022-11-28T15:38:53.144468Z",
     "shell.execute_reply": "2022-11-28T15:38:53.143585Z",
     "shell.execute_reply.started": "2022-11-28T15:38:53.128407Z"
    }
   },
   "outputs": [],
   "source": [
    "def plot_norm_conf_matrices(fit_models, models, color):\n",
    "    # Prepare lists of coordinates for axes\n",
    "    lt = []  # list for full subplots\n",
    "    ltd = []  # list for empty subplots\n",
    "    col = 2  # number of columns\n",
    "    n_mod = len(fit_models)  # number of fitted models\n",
    "    \n",
    "    # Number of rows\n",
    "    row = - (n_mod // -col)\n",
    "    \n",
    "    # Create lists of coordinates for full and empty subplots\n",
    "    for r in range(row):\n",
    "        for c in range(col):\n",
    "            if n_mod >= (r + 1) * (c + 1):\n",
    "                lt.append([r, c])\n",
    "            else:\n",
    "                ltd.append([r, c])\n",
    "    \n",
    "    # Create figure and subplots\n",
    "    figs_y = row * 4  # y size\n",
    "    f, axs = plt.subplots(row, col, figsize=(10, figs_y))\n",
    "    f.suptitle('Normalized Confusion Matrices', fontsize=14)\n",
    "    f.subplots_adjust(top=0.94, wspace=0.90, hspace=0.2)\n",
    "    \n",
    "    # Reshape axes; needed in case of only 1 row\n",
    "    axs = axs.reshape(row,-col)\n",
    "\n",
    "    # Loop to delete N last empty subplots (if any)\n",
    "    for n in range(len(ltd)):\n",
    "        r = ltd[n][0]\n",
    "        c = ltd[n][1]\n",
    "        f.delaxes(ax= axs[r, c])\n",
    "        \n",
    "    # Loop to plot all full subplots\n",
    "    i = 0\n",
    "    # Loop for each fitted model        \n",
    "    for id, model in fit_models.items():\n",
    "        pred = model.predict(X_test)\n",
    "        name = models[id]\n",
    "        r = lt[i][0]\n",
    "        c = lt[i][1]\n",
    "        i += 1\n",
    "     \n",
    "        mat = confusion_matrix(y_test, pred)    \n",
    "        # normalized confusion matrix\n",
    "        matn = mat / mat.sum(axis=1)[:, np.newaxis]\n",
    "\n",
    "        ax = axs[r, c]\n",
    "        sns.heatmap(matn,\n",
    "                    annot=True,\n",
    "                    annot_kws=dict(fontsize=14),\n",
    "                    fmt='.2f',\n",
    "                    cbar=False,\n",
    "                    square=True,\n",
    "                    cmap=color,\n",
    "                    vmin = 0,\n",
    "                    vmax = 1,\n",
    "                    #cbar_kws = {'shrink' : 0.85},\n",
    "                    ax=ax)\n",
    "    \n",
    "        ax.set_xticklabels(labels=target_names)\n",
    "        ax.set_yticklabels(labels=target_names, va='center')\n",
    "        ax.set_title(name)\n",
    "        ax.set_xlabel('Predicted Label', size=12)\n",
    "        ax.set_ylabel('True Label', size=12)\n",
    "\n",
    "    plt.show()"
   ]
  },
  {
   "cell_type": "markdown",
   "metadata": {},
   "source": [
    "### Display evaluation metrics"
   ]
  },
  {
   "cell_type": "code",
   "execution_count": 15,
   "metadata": {
    "execution": {
     "iopub.execute_input": "2022-11-28T15:43:23.400814Z",
     "iopub.status.busy": "2022-11-28T15:43:23.400814Z",
     "iopub.status.idle": "2022-11-28T15:43:24.184883Z",
     "shell.execute_reply": "2022-11-28T15:43:24.183881Z",
     "shell.execute_reply.started": "2022-11-28T15:43:23.400814Z"
    },
    "tags": []
   },
   "outputs": [
    {
     "data": {
      "text/html": [
       "<div>\n",
       "<style scoped>\n",
       "    .dataframe tbody tr th:only-of-type {\n",
       "        vertical-align: middle;\n",
       "    }\n",
       "\n",
       "    .dataframe tbody tr th {\n",
       "        vertical-align: top;\n",
       "    }\n",
       "\n",
       "    .dataframe thead th {\n",
       "        text-align: right;\n",
       "    }\n",
       "</style>\n",
       "<table border=\"1\" class=\"dataframe\">\n",
       "  <thead>\n",
       "    <tr style=\"text-align: right;\">\n",
       "      <th></th>\n",
       "      <th>precision</th>\n",
       "      <th>recall</th>\n",
       "      <th>f1_macro</th>\n",
       "      <th>accuracy</th>\n",
       "    </tr>\n",
       "    <tr>\n",
       "      <th>model</th>\n",
       "      <th></th>\n",
       "      <th></th>\n",
       "      <th></th>\n",
       "      <th></th>\n",
       "    </tr>\n",
       "  </thead>\n",
       "  <tbody>\n",
       "    <tr>\n",
       "      <th>dt</th>\n",
       "      <td>0.705436</td>\n",
       "      <td>0.752161</td>\n",
       "      <td>0.721427</td>\n",
       "      <td>0.797333</td>\n",
       "    </tr>\n",
       "    <tr>\n",
       "      <th>dl</th>\n",
       "      <td>0.674098</td>\n",
       "      <td>0.754000</td>\n",
       "      <td>0.678814</td>\n",
       "      <td>0.733333</td>\n",
       "    </tr>\n",
       "    <tr>\n",
       "      <th>lr</th>\n",
       "      <td>0.636816</td>\n",
       "      <td>0.695442</td>\n",
       "      <td>0.639900</td>\n",
       "      <td>0.707000</td>\n",
       "    </tr>\n",
       "    <tr>\n",
       "      <th>rf</th>\n",
       "      <td>0.750844</td>\n",
       "      <td>0.756587</td>\n",
       "      <td>0.753637</td>\n",
       "      <td>0.838333</td>\n",
       "    </tr>\n",
       "    <tr>\n",
       "      <th>svm</th>\n",
       "      <td>0.695592</td>\n",
       "      <td>0.764136</td>\n",
       "      <td>0.711246</td>\n",
       "      <td>0.775667</td>\n",
       "    </tr>\n",
       "    <tr>\n",
       "      <th>xgb</th>\n",
       "      <td>0.777935</td>\n",
       "      <td>0.752207</td>\n",
       "      <td>0.763716</td>\n",
       "      <td>0.853667</td>\n",
       "    </tr>\n",
       "  </tbody>\n",
       "</table>\n",
       "</div>"
      ],
      "text/plain": [
       "       precision    recall  f1_macro  accuracy\n",
       "model                                         \n",
       "dt      0.705436  0.752161  0.721427  0.797333\n",
       "dl      0.674098  0.754000  0.678814  0.733333\n",
       "lr      0.636816  0.695442  0.639900  0.707000\n",
       "rf      0.750844  0.756587  0.753637  0.838333\n",
       "svm     0.695592  0.764136  0.711246  0.775667\n",
       "xgb     0.777935  0.752207  0.763716  0.853667"
      ]
     },
     "execution_count": 15,
     "metadata": {},
     "output_type": "execute_result"
    }
   ],
   "source": [
    "# Display evaluation metrics\n",
    "evaluation(loaded_models)"
   ]
  },
  {
   "cell_type": "markdown",
   "metadata": {},
   "source": [
    "During cross-validation we were trying two scorers, f1_macro and accuracy, and then used a model that had better recal for true positive (\"Exits\"). "
   ]
  },
  {
   "cell_type": "markdown",
   "metadata": {},
   "source": [
    "### Display confusion matrix and classification report "
   ]
  },
  {
   "cell_type": "code",
   "execution_count": 16,
   "metadata": {
    "execution": {
     "iopub.execute_input": "2022-11-28T15:45:09.032969Z",
     "iopub.status.busy": "2022-11-28T15:45:09.032464Z",
     "iopub.status.idle": "2022-11-28T15:45:09.915248Z",
     "shell.execute_reply": "2022-11-28T15:45:09.914248Z",
     "shell.execute_reply.started": "2022-11-28T15:45:09.032969Z"
    },
    "scrolled": true
   },
   "outputs": [
    {
     "name": "stdout",
     "output_type": "stream",
     "text": [
      "\n",
      "\t Decision Tree\n",
      "\t =============\n"
     ]
    },
    {
     "data": {
      "text/html": [
       "<div>\n",
       "<style scoped>\n",
       "    .dataframe tbody tr th:only-of-type {\n",
       "        vertical-align: middle;\n",
       "    }\n",
       "\n",
       "    .dataframe tbody tr th {\n",
       "        vertical-align: top;\n",
       "    }\n",
       "\n",
       "    .dataframe thead th {\n",
       "        text-align: right;\n",
       "    }\n",
       "</style>\n",
       "<table border=\"1\" class=\"dataframe\">\n",
       "  <thead>\n",
       "    <tr style=\"text-align: right;\">\n",
       "      <th>Predicted Labels</th>\n",
       "      <th>Stays</th>\n",
       "      <th>Exits</th>\n",
       "    </tr>\n",
       "    <tr>\n",
       "      <th>True Labels</th>\n",
       "      <th></th>\n",
       "      <th></th>\n",
       "    </tr>\n",
       "  </thead>\n",
       "  <tbody>\n",
       "    <tr>\n",
       "      <th>Stays</th>\n",
       "      <td>1979</td>\n",
       "      <td>410</td>\n",
       "    </tr>\n",
       "    <tr>\n",
       "      <th>Exits</th>\n",
       "      <td>198</td>\n",
       "      <td>413</td>\n",
       "    </tr>\n",
       "  </tbody>\n",
       "</table>\n",
       "</div>"
      ],
      "text/plain": [
       "Predicted Labels  Stays  Exits\n",
       "True Labels                   \n",
       "Stays              1979    410\n",
       "Exits               198    413"
      ]
     },
     "metadata": {},
     "output_type": "display_data"
    },
    {
     "name": "stdout",
     "output_type": "stream",
     "text": [
      "\n",
      "              precision    recall  f1-score   support\n",
      "\n",
      "       Stays       0.91      0.83      0.87      2389\n",
      "       Exits       0.50      0.68      0.58       611\n",
      "\n",
      "    accuracy                           0.80      3000\n",
      "   macro avg       0.71      0.75      0.72      3000\n",
      "weighted avg       0.83      0.80      0.81      3000\n",
      "\n",
      "\n",
      "\t Deep Learning\n",
      "\t =============\n"
     ]
    },
    {
     "data": {
      "text/html": [
       "<div>\n",
       "<style scoped>\n",
       "    .dataframe tbody tr th:only-of-type {\n",
       "        vertical-align: middle;\n",
       "    }\n",
       "\n",
       "    .dataframe tbody tr th {\n",
       "        vertical-align: top;\n",
       "    }\n",
       "\n",
       "    .dataframe thead th {\n",
       "        text-align: right;\n",
       "    }\n",
       "</style>\n",
       "<table border=\"1\" class=\"dataframe\">\n",
       "  <thead>\n",
       "    <tr style=\"text-align: right;\">\n",
       "      <th>Predicted Labels</th>\n",
       "      <th>Stays</th>\n",
       "      <th>Exits</th>\n",
       "    </tr>\n",
       "    <tr>\n",
       "      <th>True Labels</th>\n",
       "      <th></th>\n",
       "      <th></th>\n",
       "    </tr>\n",
       "  </thead>\n",
       "  <tbody>\n",
       "    <tr>\n",
       "      <th>Stays</th>\n",
       "      <td>1718</td>\n",
       "      <td>671</td>\n",
       "    </tr>\n",
       "    <tr>\n",
       "      <th>Exits</th>\n",
       "      <td>129</td>\n",
       "      <td>482</td>\n",
       "    </tr>\n",
       "  </tbody>\n",
       "</table>\n",
       "</div>"
      ],
      "text/plain": [
       "Predicted Labels  Stays  Exits\n",
       "True Labels                   \n",
       "Stays              1718    671\n",
       "Exits               129    482"
      ]
     },
     "metadata": {},
     "output_type": "display_data"
    },
    {
     "name": "stdout",
     "output_type": "stream",
     "text": [
      "\n",
      "              precision    recall  f1-score   support\n",
      "\n",
      "       Stays       0.93      0.72      0.81      2389\n",
      "       Exits       0.42      0.79      0.55       611\n",
      "\n",
      "    accuracy                           0.73      3000\n",
      "   macro avg       0.67      0.75      0.68      3000\n",
      "weighted avg       0.83      0.73      0.76      3000\n",
      "\n",
      "\n",
      "\t Logistic Regression\n",
      "\t ===================\n"
     ]
    },
    {
     "data": {
      "text/html": [
       "<div>\n",
       "<style scoped>\n",
       "    .dataframe tbody tr th:only-of-type {\n",
       "        vertical-align: middle;\n",
       "    }\n",
       "\n",
       "    .dataframe tbody tr th {\n",
       "        vertical-align: top;\n",
       "    }\n",
       "\n",
       "    .dataframe thead th {\n",
       "        text-align: right;\n",
       "    }\n",
       "</style>\n",
       "<table border=\"1\" class=\"dataframe\">\n",
       "  <thead>\n",
       "    <tr style=\"text-align: right;\">\n",
       "      <th>Predicted Labels</th>\n",
       "      <th>Stays</th>\n",
       "      <th>Exits</th>\n",
       "    </tr>\n",
       "    <tr>\n",
       "      <th>True Labels</th>\n",
       "      <th></th>\n",
       "      <th></th>\n",
       "    </tr>\n",
       "  </thead>\n",
       "  <tbody>\n",
       "    <tr>\n",
       "      <th>Stays</th>\n",
       "      <td>1708</td>\n",
       "      <td>681</td>\n",
       "    </tr>\n",
       "    <tr>\n",
       "      <th>Exits</th>\n",
       "      <td>198</td>\n",
       "      <td>413</td>\n",
       "    </tr>\n",
       "  </tbody>\n",
       "</table>\n",
       "</div>"
      ],
      "text/plain": [
       "Predicted Labels  Stays  Exits\n",
       "True Labels                   \n",
       "Stays              1708    681\n",
       "Exits               198    413"
      ]
     },
     "metadata": {},
     "output_type": "display_data"
    },
    {
     "name": "stdout",
     "output_type": "stream",
     "text": [
      "\n",
      "              precision    recall  f1-score   support\n",
      "\n",
      "       Stays       0.90      0.71      0.80      2389\n",
      "       Exits       0.38      0.68      0.48       611\n",
      "\n",
      "    accuracy                           0.71      3000\n",
      "   macro avg       0.64      0.70      0.64      3000\n",
      "weighted avg       0.79      0.71      0.73      3000\n",
      "\n",
      "\n",
      "\t Random Forest\n",
      "\t =============\n"
     ]
    },
    {
     "data": {
      "text/html": [
       "<div>\n",
       "<style scoped>\n",
       "    .dataframe tbody tr th:only-of-type {\n",
       "        vertical-align: middle;\n",
       "    }\n",
       "\n",
       "    .dataframe tbody tr th {\n",
       "        vertical-align: top;\n",
       "    }\n",
       "\n",
       "    .dataframe thead th {\n",
       "        text-align: right;\n",
       "    }\n",
       "</style>\n",
       "<table border=\"1\" class=\"dataframe\">\n",
       "  <thead>\n",
       "    <tr style=\"text-align: right;\">\n",
       "      <th>Predicted Labels</th>\n",
       "      <th>Stays</th>\n",
       "      <th>Exits</th>\n",
       "    </tr>\n",
       "    <tr>\n",
       "      <th>True Labels</th>\n",
       "      <th></th>\n",
       "      <th></th>\n",
       "    </tr>\n",
       "  </thead>\n",
       "  <tbody>\n",
       "    <tr>\n",
       "      <th>Stays</th>\n",
       "      <td>2137</td>\n",
       "      <td>252</td>\n",
       "    </tr>\n",
       "    <tr>\n",
       "      <th>Exits</th>\n",
       "      <td>233</td>\n",
       "      <td>378</td>\n",
       "    </tr>\n",
       "  </tbody>\n",
       "</table>\n",
       "</div>"
      ],
      "text/plain": [
       "Predicted Labels  Stays  Exits\n",
       "True Labels                   \n",
       "Stays              2137    252\n",
       "Exits               233    378"
      ]
     },
     "metadata": {},
     "output_type": "display_data"
    },
    {
     "name": "stdout",
     "output_type": "stream",
     "text": [
      "\n",
      "              precision    recall  f1-score   support\n",
      "\n",
      "       Stays       0.90      0.89      0.90      2389\n",
      "       Exits       0.60      0.62      0.61       611\n",
      "\n",
      "    accuracy                           0.84      3000\n",
      "   macro avg       0.75      0.76      0.75      3000\n",
      "weighted avg       0.84      0.84      0.84      3000\n",
      "\n",
      "\n",
      "\t Support Vector Machine (SVM)\n",
      "\t ============================\n"
     ]
    },
    {
     "data": {
      "text/html": [
       "<div>\n",
       "<style scoped>\n",
       "    .dataframe tbody tr th:only-of-type {\n",
       "        vertical-align: middle;\n",
       "    }\n",
       "\n",
       "    .dataframe tbody tr th {\n",
       "        vertical-align: top;\n",
       "    }\n",
       "\n",
       "    .dataframe thead th {\n",
       "        text-align: right;\n",
       "    }\n",
       "</style>\n",
       "<table border=\"1\" class=\"dataframe\">\n",
       "  <thead>\n",
       "    <tr style=\"text-align: right;\">\n",
       "      <th>Predicted Labels</th>\n",
       "      <th>Stays</th>\n",
       "      <th>Exits</th>\n",
       "    </tr>\n",
       "    <tr>\n",
       "      <th>True Labels</th>\n",
       "      <th></th>\n",
       "      <th></th>\n",
       "    </tr>\n",
       "  </thead>\n",
       "  <tbody>\n",
       "    <tr>\n",
       "      <th>Stays</th>\n",
       "      <td>1872</td>\n",
       "      <td>517</td>\n",
       "    </tr>\n",
       "    <tr>\n",
       "      <th>Exits</th>\n",
       "      <td>156</td>\n",
       "      <td>455</td>\n",
       "    </tr>\n",
       "  </tbody>\n",
       "</table>\n",
       "</div>"
      ],
      "text/plain": [
       "Predicted Labels  Stays  Exits\n",
       "True Labels                   \n",
       "Stays              1872    517\n",
       "Exits               156    455"
      ]
     },
     "metadata": {},
     "output_type": "display_data"
    },
    {
     "name": "stdout",
     "output_type": "stream",
     "text": [
      "\n",
      "              precision    recall  f1-score   support\n",
      "\n",
      "       Stays       0.92      0.78      0.85      2389\n",
      "       Exits       0.47      0.74      0.57       611\n",
      "\n",
      "    accuracy                           0.78      3000\n",
      "   macro avg       0.70      0.76      0.71      3000\n",
      "weighted avg       0.83      0.78      0.79      3000\n",
      "\n",
      "\n",
      "\t XGBoost\n",
      "\t =======\n"
     ]
    },
    {
     "data": {
      "text/html": [
       "<div>\n",
       "<style scoped>\n",
       "    .dataframe tbody tr th:only-of-type {\n",
       "        vertical-align: middle;\n",
       "    }\n",
       "\n",
       "    .dataframe tbody tr th {\n",
       "        vertical-align: top;\n",
       "    }\n",
       "\n",
       "    .dataframe thead th {\n",
       "        text-align: right;\n",
       "    }\n",
       "</style>\n",
       "<table border=\"1\" class=\"dataframe\">\n",
       "  <thead>\n",
       "    <tr style=\"text-align: right;\">\n",
       "      <th>Predicted Labels</th>\n",
       "      <th>Stays</th>\n",
       "      <th>Exits</th>\n",
       "    </tr>\n",
       "    <tr>\n",
       "      <th>True Labels</th>\n",
       "      <th></th>\n",
       "      <th></th>\n",
       "    </tr>\n",
       "  </thead>\n",
       "  <tbody>\n",
       "    <tr>\n",
       "      <th>Stays</th>\n",
       "      <td>2206</td>\n",
       "      <td>183</td>\n",
       "    </tr>\n",
       "    <tr>\n",
       "      <th>Exits</th>\n",
       "      <td>256</td>\n",
       "      <td>355</td>\n",
       "    </tr>\n",
       "  </tbody>\n",
       "</table>\n",
       "</div>"
      ],
      "text/plain": [
       "Predicted Labels  Stays  Exits\n",
       "True Labels                   \n",
       "Stays              2206    183\n",
       "Exits               256    355"
      ]
     },
     "metadata": {},
     "output_type": "display_data"
    },
    {
     "name": "stdout",
     "output_type": "stream",
     "text": [
      "\n",
      "              precision    recall  f1-score   support\n",
      "\n",
      "       Stays       0.90      0.92      0.91      2389\n",
      "       Exits       0.66      0.58      0.62       611\n",
      "\n",
      "    accuracy                           0.85      3000\n",
      "   macro avg       0.78      0.75      0.76      3000\n",
      "weighted avg       0.85      0.85      0.85      3000\n",
      "\n"
     ]
    }
   ],
   "source": [
    "# Display classification report and confusion matrix for all models\n",
    "\n",
    "for model in models.keys():\n",
    "    class_rep_cm(loaded_models, models, model)"
   ]
  },
  {
   "cell_type": "markdown",
   "metadata": {},
   "source": [
    "### Plot normalized confusion matrix heatmaps for all loaded models"
   ]
  },
  {
   "cell_type": "code",
   "execution_count": 17,
   "metadata": {
    "execution": {
     "iopub.execute_input": "2022-11-28T15:45:51.155266Z",
     "iopub.status.busy": "2022-11-28T15:45:51.155266Z",
     "iopub.status.idle": "2022-11-28T15:45:52.683368Z",
     "shell.execute_reply": "2022-11-28T15:45:52.682367Z",
     "shell.execute_reply.started": "2022-11-28T15:45:51.155266Z"
    }
   },
   "outputs": [
    {
     "data": {
      "image/png": "[encoded data removed]",
      "text/plain": [
       "<Figure size 720x864 with 6 Axes>"
      ]
     },
     "metadata": {
      "needs_background": "light"
     },
     "output_type": "display_data"
    }
   ],
   "source": [
    "# Plot all confusion matrices \n",
    "plot_norm_conf_matrices(loaded_models, models, 'Reds')"
   ]
  },
  {
   "cell_type": "markdown",
   "metadata": {},
   "source": [
    "From the above heatmaps we can see that Deep Learning and SVM are behaving the best. We have pretty leveled predictions for both, true negatives (\"Stays\") and true positives (\"Exits\"). "
   ]
  },
  {
   "cell_type": "markdown",
   "metadata": {},
   "source": [
    "## Impact of SMOTE to SVM model results"
   ]
  },
  {
   "cell_type": "markdown",
   "metadata": {},
   "source": [
    "In our project we used of SMOTE to handle issues with the imbalanced data.\n",
    "\n",
    "SMOTE (Synthetic Minority Over-sampling Technique) is an over-sampling method that creates new (synthetic) samples based on the samples in our minority classes. It finds the k-nearest-neighbors of each member of the minority classes.\n",
    "\n",
    "The new samples should be generated only in the training set to ensure our model generalizes well to unseen data. We used [imblearn](https://imbalanced-learn.readthedocs.io/en/stable/generated/imblearn.over_sampling.SMOTE.html) python package.\n",
    "\n",
    "We will now show what impact SMOTE had to results of our SVM model."
   ]
  },
  {
   "cell_type": "code",
   "execution_count": 18,
   "metadata": {
    "execution": {
     "iopub.execute_input": "2022-11-28T15:46:59.599169Z",
     "iopub.status.busy": "2022-11-28T15:46:59.598156Z",
     "iopub.status.idle": "2022-11-28T15:46:59.647994Z",
     "shell.execute_reply": "2022-11-28T15:46:59.646994Z",
     "shell.execute_reply.started": "2022-11-28T15:46:59.598156Z"
    }
   },
   "outputs": [],
   "source": [
    "# Load SVM models, one without and one with SMOTE\n",
    "svm_model_nos = joblib.load('models/SVM_model_nos.sav')\n",
    "svm_model_s = joblib.load('models/SVM_model_s.sav')"
   ]
  },
  {
   "cell_type": "code",
   "execution_count": 19,
   "metadata": {
    "execution": {
     "iopub.execute_input": "2022-11-28T15:47:13.043329Z",
     "iopub.status.busy": "2022-11-28T15:47:13.043329Z",
     "iopub.status.idle": "2022-11-28T15:47:13.052615Z",
     "shell.execute_reply": "2022-11-28T15:47:13.051377Z",
     "shell.execute_reply.started": "2022-11-28T15:47:13.043329Z"
    }
   },
   "outputs": [],
   "source": [
    "# Create SVM models dictionary, to be needed for ploting\n",
    "models_svm = {\n",
    "    'svm_nos' : 'SVM - without SMOTE',\n",
    "    'svm_s' : 'SVM - with SMOTE'\n",
    "}"
   ]
  },
  {
   "cell_type": "code",
   "execution_count": 20,
   "metadata": {
    "execution": {
     "iopub.execute_input": "2022-11-28T15:47:16.977360Z",
     "iopub.status.busy": "2022-11-28T15:47:16.977360Z",
     "iopub.status.idle": "2022-11-28T15:47:16.995750Z",
     "shell.execute_reply": "2022-11-28T15:47:16.993760Z",
     "shell.execute_reply.started": "2022-11-28T15:47:16.977360Z"
    }
   },
   "outputs": [],
   "source": [
    "# Dictionary of both SVM models\n",
    "loaded_models_svm = {\n",
    "    'svm_nos' : svm_model_nos,\n",
    "    'svm_s' : svm_model_s\n",
    "}"
   ]
  },
  {
   "cell_type": "markdown",
   "metadata": {
    "tags": []
   },
   "source": [
    "### Confusion matrix and classification report"
   ]
  },
  {
   "cell_type": "markdown",
   "metadata": {},
   "source": [
    "Let's look first at confusion matrix and cclassification report for both models."
   ]
  },
  {
   "cell_type": "code",
   "execution_count": 21,
   "metadata": {
    "execution": {
     "iopub.execute_input": "2022-11-28T15:47:51.568594Z",
     "iopub.status.busy": "2022-11-28T15:47:51.568594Z",
     "iopub.status.idle": "2022-11-28T15:47:52.231431Z",
     "shell.execute_reply": "2022-11-28T15:47:52.230468Z",
     "shell.execute_reply.started": "2022-11-28T15:47:51.568594Z"
    },
    "scrolled": true,
    "tags": []
   },
   "outputs": [
    {
     "name": "stdout",
     "output_type": "stream",
     "text": [
      "\n",
      "\t SVM - without SMOTE\n",
      "\t ===================\n"
     ]
    },
    {
     "data": {
      "text/html": [
       "<div>\n",
       "<style scoped>\n",
       "    .dataframe tbody tr th:only-of-type {\n",
       "        vertical-align: middle;\n",
       "    }\n",
       "\n",
       "    .dataframe tbody tr th {\n",
       "        vertical-align: top;\n",
       "    }\n",
       "\n",
       "    .dataframe thead th {\n",
       "        text-align: right;\n",
       "    }\n",
       "</style>\n",
       "<table border=\"1\" class=\"dataframe\">\n",
       "  <thead>\n",
       "    <tr style=\"text-align: right;\">\n",
       "      <th>Predicted Labels</th>\n",
       "      <th>Stays</th>\n",
       "      <th>Exits</th>\n",
       "    </tr>\n",
       "    <tr>\n",
       "      <th>True Labels</th>\n",
       "      <th></th>\n",
       "      <th></th>\n",
       "    </tr>\n",
       "  </thead>\n",
       "  <tbody>\n",
       "    <tr>\n",
       "      <th>Stays</th>\n",
       "      <td>2311</td>\n",
       "      <td>78</td>\n",
       "    </tr>\n",
       "    <tr>\n",
       "      <th>Exits</th>\n",
       "      <td>328</td>\n",
       "      <td>283</td>\n",
       "    </tr>\n",
       "  </tbody>\n",
       "</table>\n",
       "</div>"
      ],
      "text/plain": [
       "Predicted Labels  Stays  Exits\n",
       "True Labels                   \n",
       "Stays              2311     78\n",
       "Exits               328    283"
      ]
     },
     "metadata": {},
     "output_type": "display_data"
    },
    {
     "name": "stdout",
     "output_type": "stream",
     "text": [
      "\n",
      "              precision    recall  f1-score   support\n",
      "\n",
      "       Stays       0.88      0.97      0.92      2389\n",
      "       Exits       0.78      0.46      0.58       611\n",
      "\n",
      "    accuracy                           0.86      3000\n",
      "   macro avg       0.83      0.72      0.75      3000\n",
      "weighted avg       0.86      0.86      0.85      3000\n",
      "\n",
      "\n",
      "\t SVM - with SMOTE\n",
      "\t ================\n"
     ]
    },
    {
     "data": {
      "text/html": [
       "<div>\n",
       "<style scoped>\n",
       "    .dataframe tbody tr th:only-of-type {\n",
       "        vertical-align: middle;\n",
       "    }\n",
       "\n",
       "    .dataframe tbody tr th {\n",
       "        vertical-align: top;\n",
       "    }\n",
       "\n",
       "    .dataframe thead th {\n",
       "        text-align: right;\n",
       "    }\n",
       "</style>\n",
       "<table border=\"1\" class=\"dataframe\">\n",
       "  <thead>\n",
       "    <tr style=\"text-align: right;\">\n",
       "      <th>Predicted Labels</th>\n",
       "      <th>Stays</th>\n",
       "      <th>Exits</th>\n",
       "    </tr>\n",
       "    <tr>\n",
       "      <th>True Labels</th>\n",
       "      <th></th>\n",
       "      <th></th>\n",
       "    </tr>\n",
       "  </thead>\n",
       "  <tbody>\n",
       "    <tr>\n",
       "      <th>Stays</th>\n",
       "      <td>1872</td>\n",
       "      <td>517</td>\n",
       "    </tr>\n",
       "    <tr>\n",
       "      <th>Exits</th>\n",
       "      <td>156</td>\n",
       "      <td>455</td>\n",
       "    </tr>\n",
       "  </tbody>\n",
       "</table>\n",
       "</div>"
      ],
      "text/plain": [
       "Predicted Labels  Stays  Exits\n",
       "True Labels                   \n",
       "Stays              1872    517\n",
       "Exits               156    455"
      ]
     },
     "metadata": {},
     "output_type": "display_data"
    },
    {
     "name": "stdout",
     "output_type": "stream",
     "text": [
      "\n",
      "              precision    recall  f1-score   support\n",
      "\n",
      "       Stays       0.92      0.78      0.85      2389\n",
      "       Exits       0.47      0.74      0.57       611\n",
      "\n",
      "    accuracy                           0.78      3000\n",
      "   macro avg       0.70      0.76      0.71      3000\n",
      "weighted avg       0.83      0.78      0.79      3000\n",
      "\n"
     ]
    }
   ],
   "source": [
    "# Display classification report and confusion matrix for both SVM models\n",
    "\n",
    "for model in models_svm.keys():\n",
    "    class_rep_cm(loaded_models_svm, models_svm, model)"
   ]
  },
  {
   "cell_type": "markdown",
   "metadata": {},
   "source": [
    "It is obvious that using SMOTE give us much better recall results what is a general goal for customer churning tasks."
   ]
  },
  {
   "cell_type": "markdown",
   "metadata": {},
   "source": [
    "Next, we will look at heatmaps of confusion matrices. It is a nice visaul tool to compare efficiency of models.\n",
    "\n",
    "On the left side we will display confusion matrix and on the right side normalized confusion matrix. We want to show that for imbalanced data, confusion matrix without normalization is very deceiving."
   ]
  },
  {
   "cell_type": "markdown",
   "metadata": {},
   "source": [
    "### No SMOTE"
   ]
  },
  {
   "cell_type": "code",
   "execution_count": 22,
   "metadata": {
    "execution": {
     "iopub.execute_input": "2022-11-28T15:48:21.365345Z",
     "iopub.status.busy": "2022-11-28T15:48:21.364332Z",
     "iopub.status.idle": "2022-11-28T15:48:21.903951Z",
     "shell.execute_reply": "2022-11-28T15:48:21.902987Z",
     "shell.execute_reply.started": "2022-11-28T15:48:21.365345Z"
    },
    "tags": []
   },
   "outputs": [
    {
     "data": {
      "image/png": "[encoded data removed]",
      "text/plain": [
       "<Figure size 864x288 with 4 Axes>"
      ]
     },
     "metadata": {
      "needs_background": "light"
     },
     "output_type": "display_data"
    }
   ],
   "source": [
    "# Plot confusion matrix and its normalized version.\n",
    "plot_conf_mat_w_and_wo_norm(loaded_models_svm, models_svm, 'svm_nos', 'Reds')"
   ]
  },
  {
   "cell_type": "markdown",
   "metadata": {},
   "source": [
    "### With SMOTE"
   ]
  },
  {
   "cell_type": "code",
   "execution_count": 23,
   "metadata": {
    "execution": {
     "iopub.execute_input": "2022-11-28T15:48:49.419171Z",
     "iopub.status.busy": "2022-11-28T15:48:49.419171Z",
     "iopub.status.idle": "2022-11-28T15:48:50.123815Z",
     "shell.execute_reply": "2022-11-28T15:48:50.122854Z",
     "shell.execute_reply.started": "2022-11-28T15:48:49.419171Z"
    }
   },
   "outputs": [
    {
     "data": {
      "image/png": "[encoded data removed]",
      "text/plain": [
       "<Figure size 864x288 with 4 Axes>"
      ]
     },
     "metadata": {
      "needs_background": "light"
     },
     "output_type": "display_data"
    }
   ],
   "source": [
    "plot_conf_mat_w_and_wo_norm(loaded_models_svm, models_svm, 'svm_s', 'Reds')"
   ]
  },
  {
   "cell_type": "markdown",
   "metadata": {},
   "source": [
    "As we noted earlier, using SMOTE gave us very good results. We have 74% true positives."
   ]
  },
  {
   "cell_type": "markdown",
   "metadata": {},
   "source": [
    "### Compare normalized confusion matrices"
   ]
  },
  {
   "cell_type": "code",
   "execution_count": 24,
   "metadata": {
    "execution": {
     "iopub.execute_input": "2022-11-28T15:49:02.301980Z",
     "iopub.status.busy": "2022-11-28T15:49:02.301980Z",
     "iopub.status.idle": "2022-11-28T15:49:03.057368Z",
     "shell.execute_reply": "2022-11-28T15:49:03.056355Z",
     "shell.execute_reply.started": "2022-11-28T15:49:02.301980Z"
    }
   },
   "outputs": [
    {
     "data": {
      "image/png": "[encoded data removed]",
      "text/plain": [
       "<Figure size 720x288 with 2 Axes>"
      ]
     },
     "metadata": {
      "needs_background": "light"
     },
     "output_type": "display_data"
    }
   ],
   "source": [
    "# Plot all confusion matrices \n",
    "plot_norm_conf_matrices(loaded_models_svm, models_svm, 'Reds')"
   ]
  }
 ],
 "metadata": {
  "kernelspec": {
   "display_name": "bank-churn",
   "language": "python",
   "name": "conda-env-bank-churn-py"
  },
  "language_info": {
   "codemirror_mode": {
    "name": "ipython",
    "version": 3
   },
   "file_extension": ".py",
   "mimetype": "text/x-python",
   "name": "python",
   "nbconvert_exporter": "python",
   "pygments_lexer": "ipython3",
   "version": "3.9.15"
  }
 },
 "nbformat": 4,
 "nbformat_minor": 4
}
