{
 "cells": [
  {
   "cell_type": "code",
   "execution_count": 1,
   "metadata": {
    "execution": {
     "iopub.execute_input": "2022-11-22T04:43:45.326978Z",
     "iopub.status.busy": "2022-11-22T04:43:45.326978Z",
     "iopub.status.idle": "2022-11-22T04:43:51.236911Z",
     "shell.execute_reply": "2022-11-22T04:43:51.235909Z",
     "shell.execute_reply.started": "2022-11-22T04:43:45.326978Z"
    }
   },
   "outputs": [],
   "source": [
    "import os\n",
    "\n",
    "import pandas as pd\n",
    "import numpy as np\n",
    "\n",
    "# store elements as dictionary keys and their counts as dictionary values\n",
    "from collections import Counter\n",
    "\n",
    "# scikit-learn\n",
    "from sklearn.model_selection import train_test_split\n",
    "\n",
    "from sklearn.preprocessing import MinMaxScaler, OneHotEncoder, LabelEncoder\n",
    "from sklearn.compose import ColumnTransformer, make_column_transformer\n",
    "from sklearn.pipeline import make_pipeline\n",
    "\n",
    "# Classification metrics\n",
    "from sklearn.metrics import confusion_matrix, classification_report\n",
    "\n",
    "# Function for creating model pipelines - sklearn\n",
    "from sklearn.pipeline import make_pipeline\n",
    "\n",
    "# Function for creating model pipelines - imblearn\n",
    "from imblearn.pipeline import make_pipeline as imbl_pipe\n",
    "\n",
    "# Over-sampling using SMOTE\n",
    "from imblearn.over_sampling import SMOTE\n"
   ]
  },
  {
   "cell_type": "code",
   "execution_count": 2,
   "metadata": {
    "execution": {
     "iopub.execute_input": "2022-11-22T04:43:51.239912Z",
     "iopub.status.busy": "2022-11-22T04:43:51.238909Z",
     "iopub.status.idle": "2022-11-22T04:43:51.284960Z",
     "shell.execute_reply": "2022-11-22T04:43:51.283921Z",
     "shell.execute_reply.started": "2022-11-22T04:43:51.239912Z"
    }
   },
   "outputs": [
    {
     "data": {
      "text/html": [
       "<div>\n",
       "<style scoped>\n",
       "    .dataframe tbody tr th:only-of-type {\n",
       "        vertical-align: middle;\n",
       "    }\n",
       "\n",
       "    .dataframe tbody tr th {\n",
       "        vertical-align: top;\n",
       "    }\n",
       "\n",
       "    .dataframe thead th {\n",
       "        text-align: right;\n",
       "    }\n",
       "</style>\n",
       "<table border=\"1\" class=\"dataframe\">\n",
       "  <thead>\n",
       "    <tr style=\"text-align: right;\">\n",
       "      <th></th>\n",
       "      <th>CreditScore</th>\n",
       "      <th>Geography</th>\n",
       "      <th>Gender</th>\n",
       "      <th>Age</th>\n",
       "      <th>Tenure</th>\n",
       "      <th>Balance</th>\n",
       "      <th>NumOfProducts</th>\n",
       "      <th>HasCrCard</th>\n",
       "      <th>IsActiveMember</th>\n",
       "      <th>EstimatedSalary</th>\n",
       "      <th>Exited</th>\n",
       "    </tr>\n",
       "  </thead>\n",
       "  <tbody>\n",
       "    <tr>\n",
       "      <th>0</th>\n",
       "      <td>619</td>\n",
       "      <td>France</td>\n",
       "      <td>Female</td>\n",
       "      <td>42</td>\n",
       "      <td>2</td>\n",
       "      <td>0.00</td>\n",
       "      <td>1</td>\n",
       "      <td>1</td>\n",
       "      <td>1</td>\n",
       "      <td>101348.88</td>\n",
       "      <td>1</td>\n",
       "    </tr>\n",
       "    <tr>\n",
       "      <th>1</th>\n",
       "      <td>608</td>\n",
       "      <td>Spain</td>\n",
       "      <td>Female</td>\n",
       "      <td>41</td>\n",
       "      <td>1</td>\n",
       "      <td>83807.86</td>\n",
       "      <td>1</td>\n",
       "      <td>0</td>\n",
       "      <td>1</td>\n",
       "      <td>112542.58</td>\n",
       "      <td>0</td>\n",
       "    </tr>\n",
       "    <tr>\n",
       "      <th>2</th>\n",
       "      <td>502</td>\n",
       "      <td>France</td>\n",
       "      <td>Female</td>\n",
       "      <td>42</td>\n",
       "      <td>8</td>\n",
       "      <td>159660.80</td>\n",
       "      <td>3</td>\n",
       "      <td>1</td>\n",
       "      <td>0</td>\n",
       "      <td>113931.57</td>\n",
       "      <td>1</td>\n",
       "    </tr>\n",
       "    <tr>\n",
       "      <th>3</th>\n",
       "      <td>699</td>\n",
       "      <td>France</td>\n",
       "      <td>Female</td>\n",
       "      <td>39</td>\n",
       "      <td>1</td>\n",
       "      <td>0.00</td>\n",
       "      <td>2</td>\n",
       "      <td>0</td>\n",
       "      <td>0</td>\n",
       "      <td>93826.63</td>\n",
       "      <td>0</td>\n",
       "    </tr>\n",
       "    <tr>\n",
       "      <th>4</th>\n",
       "      <td>850</td>\n",
       "      <td>Spain</td>\n",
       "      <td>Female</td>\n",
       "      <td>43</td>\n",
       "      <td>2</td>\n",
       "      <td>125510.82</td>\n",
       "      <td>1</td>\n",
       "      <td>1</td>\n",
       "      <td>1</td>\n",
       "      <td>79084.10</td>\n",
       "      <td>0</td>\n",
       "    </tr>\n",
       "  </tbody>\n",
       "</table>\n",
       "</div>"
      ],
      "text/plain": [
       "   CreditScore Geography  Gender  Age  Tenure    Balance  NumOfProducts  \\\n",
       "0          619    France  Female   42       2       0.00              1   \n",
       "1          608     Spain  Female   41       1   83807.86              1   \n",
       "2          502    France  Female   42       8  159660.80              3   \n",
       "3          699    France  Female   39       1       0.00              2   \n",
       "4          850     Spain  Female   43       2  125510.82              1   \n",
       "\n",
       "   HasCrCard  IsActiveMember  EstimatedSalary  Exited  \n",
       "0          1               1        101348.88       1  \n",
       "1          0               1        112542.58       0  \n",
       "2          1               0        113931.57       1  \n",
       "3          0               0         93826.63       0  \n",
       "4          1               1         79084.10       0  "
      ]
     },
     "execution_count": 2,
     "metadata": {},
     "output_type": "execute_result"
    }
   ],
   "source": [
    "abt = pd.read_csv(\"../Resources/analytical_base_table.csv\")\n",
    "abt.head()"
   ]
  },
  {
   "cell_type": "markdown",
   "metadata": {},
   "source": [
    "## Models Training"
   ]
  },
  {
   "cell_type": "markdown",
   "metadata": {},
   "source": [
    "## Let's start by splitting our dataframe into separate objects:\n",
    "\n",
    "y for the target varibale\n",
    "\n",
    "X for the input features"
   ]
  },
  {
   "cell_type": "code",
   "execution_count": 3,
   "metadata": {
    "execution": {
     "iopub.execute_input": "2022-11-22T04:43:51.287085Z",
     "iopub.status.busy": "2022-11-22T04:43:51.286086Z",
     "iopub.status.idle": "2022-11-22T04:43:51.300087Z",
     "shell.execute_reply": "2022-11-22T04:43:51.299095Z",
     "shell.execute_reply.started": "2022-11-22T04:43:51.287085Z"
    }
   },
   "outputs": [
    {
     "name": "stdout",
     "output_type": "stream",
     "text": [
      "(10000, 10) (10000,)\n"
     ]
    }
   ],
   "source": [
    "#Separate dataframe into separate object\n",
    "\n",
    "# Object for target variable\n",
    "y = abt.Exited\n",
    "\n",
    "# object for input features\n",
    "X = abt.drop(['Exited'], axis=1)\n",
    "\n",
    "# display shapes of X and y\n",
    "print(X.shape, y.shape)\n"
   ]
  },
  {
   "cell_type": "code",
   "execution_count": 4,
   "metadata": {
    "execution": {
     "iopub.execute_input": "2022-11-22T04:43:51.304085Z",
     "iopub.status.busy": "2022-11-22T04:43:51.303087Z",
     "iopub.status.idle": "2022-11-22T04:43:51.331091Z",
     "shell.execute_reply": "2022-11-22T04:43:51.330087Z",
     "shell.execute_reply.started": "2022-11-22T04:43:51.304085Z"
    }
   },
   "outputs": [
    {
     "data": {
      "text/plain": [
       "['CreditScore',\n",
       " 'Age',\n",
       " 'Tenure',\n",
       " 'Balance',\n",
       " 'NumOfProducts',\n",
       " 'HasCrCard',\n",
       " 'IsActiveMember',\n",
       " 'EstimatedSalary']"
      ]
     },
     "execution_count": 4,
     "metadata": {},
     "output_type": "execute_result"
    }
   ],
   "source": [
    "# List numerical features\n",
    "num_columns = X.select_dtypes(include='number').columns.tolist()\n",
    "num_columns"
   ]
  },
  {
   "cell_type": "code",
   "execution_count": 5,
   "metadata": {
    "execution": {
     "iopub.execute_input": "2022-11-22T04:43:51.334087Z",
     "iopub.status.busy": "2022-11-22T04:43:51.333087Z",
     "iopub.status.idle": "2022-11-22T04:43:51.347085Z",
     "shell.execute_reply": "2022-11-22T04:43:51.346089Z",
     "shell.execute_reply.started": "2022-11-22T04:43:51.334087Z"
    }
   },
   "outputs": [
    {
     "data": {
      "text/plain": [
       "['Geography', 'Gender']"
      ]
     },
     "execution_count": 5,
     "metadata": {},
     "output_type": "execute_result"
    }
   ],
   "source": [
    "# List categorical features\n",
    "cat_columns = X.select_dtypes(include='object').columns.tolist()\n",
    "cat_columns"
   ]
  },
  {
   "cell_type": "code",
   "execution_count": 6,
   "metadata": {
    "execution": {
     "iopub.execute_input": "2022-11-22T04:43:51.350090Z",
     "iopub.status.busy": "2022-11-22T04:43:51.349086Z",
     "iopub.status.idle": "2022-11-22T04:43:51.363085Z",
     "shell.execute_reply": "2022-11-22T04:43:51.362086Z",
     "shell.execute_reply.started": "2022-11-22T04:43:51.350090Z"
    }
   },
   "outputs": [],
   "source": [
    "def class_count(a):\n",
    "    counter=Counter(a)\n",
    "    kv=[list(counter.keys()),list(counter.values())]\n",
    "    abt2 = pd.DataFrame(np.array(kv).T, columns=['Exited','Count'])\n",
    "    abt2['Count'] = abt2['Count'].astype('int64')\n",
    "    abt2['%'] = round(abt2['Count'] / a.shape[0] * 100, 2)\n",
    "    return abt2.sort_values('Count',ascending=False)"
   ]
  },
  {
   "cell_type": "code",
   "execution_count": 7,
   "metadata": {
    "execution": {
     "iopub.execute_input": "2022-11-22T04:43:51.366086Z",
     "iopub.status.busy": "2022-11-22T04:43:51.365087Z",
     "iopub.status.idle": "2022-11-22T04:43:51.412140Z",
     "shell.execute_reply": "2022-11-22T04:43:51.410142Z",
     "shell.execute_reply.started": "2022-11-22T04:43:51.366086Z"
    }
   },
   "outputs": [
    {
     "data": {
      "text/html": [
       "<div>\n",
       "<style scoped>\n",
       "    .dataframe tbody tr th:only-of-type {\n",
       "        vertical-align: middle;\n",
       "    }\n",
       "\n",
       "    .dataframe tbody tr th {\n",
       "        vertical-align: top;\n",
       "    }\n",
       "\n",
       "    .dataframe thead th {\n",
       "        text-align: right;\n",
       "    }\n",
       "</style>\n",
       "<table border=\"1\" class=\"dataframe\">\n",
       "  <thead>\n",
       "    <tr style=\"text-align: right;\">\n",
       "      <th></th>\n",
       "      <th>Exited</th>\n",
       "      <th>Count</th>\n",
       "      <th>%</th>\n",
       "    </tr>\n",
       "  </thead>\n",
       "  <tbody>\n",
       "    <tr>\n",
       "      <th>1</th>\n",
       "      <td>0</td>\n",
       "      <td>7963</td>\n",
       "      <td>79.63</td>\n",
       "    </tr>\n",
       "    <tr>\n",
       "      <th>0</th>\n",
       "      <td>1</td>\n",
       "      <td>2037</td>\n",
       "      <td>20.37</td>\n",
       "    </tr>\n",
       "  </tbody>\n",
       "</table>\n",
       "</div>"
      ],
      "text/plain": [
       "   Exited  Count      %\n",
       "1       0   7963  79.63\n",
       "0       1   2037  20.37"
      ]
     },
     "execution_count": 7,
     "metadata": {},
     "output_type": "execute_result"
    }
   ],
   "source": [
    "class_count(y)\n"
   ]
  },
  {
   "cell_type": "markdown",
   "metadata": {},
   "source": [
    "## Create a Train Test Split\n",
    "\n",
    "We will continue with splitting our data into separate training and test sets.\n",
    "\n",
    "30% of observations will be set aside for the test set\n",
    "\n",
    "the rest, 70%, will be used as the training set"
   ]
  },
  {
   "cell_type": "code",
   "execution_count": 8,
   "metadata": {
    "execution": {
     "iopub.execute_input": "2022-11-22T04:43:51.415141Z",
     "iopub.status.busy": "2022-11-22T04:43:51.414140Z",
     "iopub.status.idle": "2022-11-22T04:43:51.443141Z",
     "shell.execute_reply": "2022-11-22T04:43:51.442138Z",
     "shell.execute_reply.started": "2022-11-22T04:43:51.414140Z"
    }
   },
   "outputs": [
    {
     "name": "stdout",
     "output_type": "stream",
     "text": [
      "7000 3000 7000 3000\n"
     ]
    }
   ],
   "source": [
    "random_state = 10\n",
    "\n",
    "# Split X and y into train and test sets\n",
    "X_train, X_test, y_train, y_test = train_test_split(X, y,\n",
    "                                                    test_size=0.3,\n",
    "                                                    random_state=random_state,\n",
    "                                                    stratify=abt.Exited)\n",
    "\n",
    "# Print number of observations in X_train, X_test, y_train, and y_test\n",
    "print(len(X_train), len(X_test), len(y_train), len(y_test))"
   ]
  },
  {
   "cell_type": "code",
   "execution_count": 9,
   "metadata": {
    "execution": {
     "iopub.execute_input": "2022-11-22T04:43:51.446140Z",
     "iopub.status.busy": "2022-11-22T04:43:51.445139Z",
     "iopub.status.idle": "2022-11-22T04:43:51.474148Z",
     "shell.execute_reply": "2022-11-22T04:43:51.473146Z",
     "shell.execute_reply.started": "2022-11-22T04:43:51.446140Z"
    }
   },
   "outputs": [
    {
     "name": "stdout",
     "output_type": "stream",
     "text": [
      "<class 'pandas.core.frame.DataFrame'>\n",
      "Int64Index: 7000 entries, 8061 to 4741\n",
      "Data columns (total 10 columns):\n",
      " #   Column           Non-Null Count  Dtype  \n",
      "---  ------           --------------  -----  \n",
      " 0   CreditScore      7000 non-null   int64  \n",
      " 1   Geography        7000 non-null   object \n",
      " 2   Gender           7000 non-null   object \n",
      " 3   Age              7000 non-null   int64  \n",
      " 4   Tenure           7000 non-null   int64  \n",
      " 5   Balance          7000 non-null   float64\n",
      " 6   NumOfProducts    7000 non-null   int64  \n",
      " 7   HasCrCard        7000 non-null   int64  \n",
      " 8   IsActiveMember   7000 non-null   int64  \n",
      " 9   EstimatedSalary  7000 non-null   float64\n",
      "dtypes: float64(2), int64(6), object(2)\n",
      "memory usage: 601.6+ KB\n"
     ]
    }
   ],
   "source": [
    "X_train.info()"
   ]
  },
  {
   "cell_type": "markdown",
   "metadata": {},
   "source": [
    "## Pre-processing Pipeline\n",
    " \n",
    " ##Scale numerical data and encode categorical data\n",
    "Construct a pre-processing pipeline from the given transformers: MinMaxScaler and OneHotEncoder Create lists of indexes from the list of column namesNeed to be numeric not string to specify columns name in column transformer"
   ]
  },
  {
   "cell_type": "code",
   "execution_count": 10,
   "metadata": {
    "execution": {
     "iopub.execute_input": "2022-11-22T04:43:51.479148Z",
     "iopub.status.busy": "2022-11-22T04:43:51.479148Z",
     "iopub.status.idle": "2022-11-22T04:43:51.489663Z",
     "shell.execute_reply": "2022-11-22T04:43:51.488662Z",
     "shell.execute_reply.started": "2022-11-22T04:43:51.479148Z"
    }
   },
   "outputs": [
    {
     "name": "stdout",
     "output_type": "stream",
     "text": [
      "[0, 3, 4, 5, 6, 7, 8, 9]\n"
     ]
    }
   ],
   "source": [
    "num_features = [] \n",
    "\n",
    "for i in num_columns:\n",
    "    location = X.columns.get_loc(i)\n",
    "    num_features.append(location)\n",
    "print(num_features)  "
   ]
  },
  {
   "cell_type": "code",
   "execution_count": 11,
   "metadata": {
    "execution": {
     "iopub.execute_input": "2022-11-22T04:43:51.491668Z",
     "iopub.status.busy": "2022-11-22T04:43:51.491668Z",
     "iopub.status.idle": "2022-11-22T04:43:51.505668Z",
     "shell.execute_reply": "2022-11-22T04:43:51.504663Z",
     "shell.execute_reply.started": "2022-11-22T04:43:51.491668Z"
    }
   },
   "outputs": [
    {
     "name": "stdout",
     "output_type": "stream",
     "text": [
      "[1, 2]\n"
     ]
    }
   ],
   "source": [
    "cat_features = []\n",
    "\n",
    "for i in cat_columns:\n",
    "    location = X.columns.get_loc(i)\n",
    "    cat_features.append(location)\n",
    "print(cat_features) "
   ]
  },
  {
   "cell_type": "code",
   "execution_count": 12,
   "metadata": {
    "execution": {
     "iopub.execute_input": "2022-11-22T04:43:51.508666Z",
     "iopub.status.busy": "2022-11-22T04:43:51.507666Z",
     "iopub.status.idle": "2022-11-22T04:43:51.538670Z",
     "shell.execute_reply": "2022-11-22T04:43:51.536663Z",
     "shell.execute_reply.started": "2022-11-22T04:43:51.508666Z"
    }
   },
   "outputs": [
    {
     "data": {
      "text/plain": [
       "ColumnTransformer(transformers=[('minmaxscaler', MinMaxScaler(),\n",
       "                                 [0, 3, 4, 5, 6, 7, 8, 9]),\n",
       "                                ('onehotencoder', OneHotEncoder(sparse=False),\n",
       "                                 [1, 2])])"
      ]
     },
     "execution_count": 12,
     "metadata": {},
     "output_type": "execute_result"
    }
   ],
   "source": [
    "# Define column transformer\n",
    "# Need to be numeric not string to specify columns name \n",
    "preprocess = make_column_transformer(\n",
    "    (MinMaxScaler(), num_features),\n",
    "    (OneHotEncoder(sparse=False), cat_features)\n",
    ")\n",
    "preprocess"
   ]
  },
  {
   "cell_type": "code",
   "execution_count": 13,
   "metadata": {
    "execution": {
     "iopub.execute_input": "2022-11-22T04:43:51.540666Z",
     "iopub.status.busy": "2022-11-22T04:43:51.539668Z",
     "iopub.status.idle": "2022-11-22T04:43:51.568664Z",
     "shell.execute_reply": "2022-11-22T04:43:51.567663Z",
     "shell.execute_reply.started": "2022-11-22T04:43:51.540666Z"
    }
   },
   "outputs": [
    {
     "data": {
      "text/plain": [
       "Pipeline(steps=[('columntransformer',\n",
       "                 ColumnTransformer(transformers=[('minmaxscaler',\n",
       "                                                  MinMaxScaler(),\n",
       "                                                  [0, 3, 4, 5, 6, 7, 8, 9]),\n",
       "                                                 ('onehotencoder',\n",
       "                                                  OneHotEncoder(sparse=False),\n",
       "                                                  [1, 2])])),\n",
       "                ('smote', SMOTE(random_state=10)),\n",
       "                ('randomforestclassifier', RandomForestClassifier())])"
      ]
     },
     "execution_count": 13,
     "metadata": {},
     "output_type": "execute_result"
    }
   ],
   "source": [
    "# Import classifier\n",
    "from sklearn.ensemble import RandomForestClassifier\n",
    "\n",
    "# Define model with pipeline\n",
    "model = imbl_pipe(preprocess,\n",
    "                  SMOTE(sampling_strategy='auto', random_state=random_state),\n",
    "                  RandomForestClassifier())\n",
    "\n",
    "model"
   ]
  },
  {
   "cell_type": "code",
   "execution_count": 14,
   "metadata": {
    "execution": {
     "iopub.execute_input": "2022-11-22T04:43:51.571673Z",
     "iopub.status.busy": "2022-11-22T04:43:51.570675Z",
     "iopub.status.idle": "2022-11-22T04:43:51.583674Z",
     "shell.execute_reply": "2022-11-22T04:43:51.582670Z",
     "shell.execute_reply.started": "2022-11-22T04:43:51.571673Z"
    }
   },
   "outputs": [],
   "source": [
    " # Create the GridSearchCV model\n",
    "# Create the GridSearch estimator along with a parameter object containing the values to adjust\n",
    "from sklearn.model_selection import GridSearchCV\n",
    "rf_param_grid = {\n",
    "    'randomforestclassifier__n_estimators' : [50, 100, 150],\n",
    "    'randomforestclassifier__max_features' : ['sqrt', 0.33],\n",
    "    'randomforestclassifier__min_samples_leaf' : [1, 5 ,10, 15],\n",
    "    'randomforestclassifier__criterion' : ['gini', 'entropy'],\n",
    "    'randomforestclassifier__min_samples_split' : [2, 3, 4]\n",
    "}\n",
    "rf_grid = GridSearchCV(model, rf_param_grid, verbose=3, cv= 5, scoring='accuracy')"
   ]
  },
  {
   "cell_type": "code",
   "execution_count": 15,
   "metadata": {
    "execution": {
     "iopub.execute_input": "2022-11-22T04:43:51.585182Z",
     "iopub.status.busy": "2022-11-22T04:43:51.585182Z",
     "iopub.status.idle": "2022-11-22T04:43:51.599191Z",
     "shell.execute_reply": "2022-11-22T04:43:51.598188Z",
     "shell.execute_reply.started": "2022-11-22T04:43:51.585182Z"
    }
   },
   "outputs": [],
   "source": [
    "X_train = X_train.values\n",
    "X_test = X_test.values"
   ]
  },
  {
   "cell_type": "code",
   "execution_count": 16,
   "metadata": {
    "execution": {
     "iopub.execute_input": "2022-11-22T04:43:51.602190Z",
     "iopub.status.busy": "2022-11-22T04:43:51.601191Z",
     "iopub.status.idle": "2022-11-22T04:55:53.822699Z",
     "shell.execute_reply": "2022-11-22T04:55:53.821691Z",
     "shell.execute_reply.started": "2022-11-22T04:43:51.602190Z"
    },
    "scrolled": true,
    "tags": []
   },
   "outputs": [
    {
     "name": "stdout",
     "output_type": "stream",
     "text": [
      "Fitting 5 folds for each of 144 candidates, totalling 720 fits\n",
      "[CV 1/5] END randomforestclassifier__criterion=gini, randomforestclassifier__max_features=sqrt, randomforestclassifier__min_samples_leaf=1, randomforestclassifier__min_samples_split=2, randomforestclassifier__n_estimators=50;, score=0.836 total time=   0.4s\n",
      "[CV 2/5] END randomforestclassifier__criterion=gini, randomforestclassifier__max_features=sqrt, randomforestclassifier__min_samples_leaf=1, randomforestclassifier__min_samples_split=2, randomforestclassifier__n_estimators=50;, score=0.839 total time=   0.4s\n",
      "[CV 3/5] END randomforestclassifier__criterion=gini, randomforestclassifier__max_features=sqrt, randomforestclassifier__min_samples_leaf=1, randomforestclassifier__min_samples_split=2, randomforestclassifier__n_estimators=50;, score=0.834 total time=   0.4s\n",
      "[CV 4/5] END randomforestclassifier__criterion=gini, randomforestclassifier__max_features=sqrt, randomforestclassifier__min_samples_leaf=1, randomforestclassifier__min_samples_split=2, randomforestclassifier__n_estimators=50;, score=0.838 total time=   0.4s\n",
      "[CV 5/5] END randomforestclassifier__criterion=gini, randomforestclassifier__max_features=sqrt, randomforestclassifier__min_samples_leaf=1, randomforestclassifier__min_samples_split=2, randomforestclassifier__n_estimators=50;, score=0.850 total time=   0.4s\n",
      "[CV 1/5] END randomforestclassifier__criterion=gini, randomforestclassifier__max_features=sqrt, randomforestclassifier__min_samples_leaf=1, randomforestclassifier__min_samples_split=2, randomforestclassifier__n_estimators=100;, score=0.838 total time=   0.9s\n",
      "[CV 2/5] END randomforestclassifier__criterion=gini, randomforestclassifier__max_features=sqrt, randomforestclassifier__min_samples_leaf=1, randomforestclassifier__min_samples_split=2, randomforestclassifier__n_estimators=100;, score=0.839 total time=   1.0s\n",
      "[CV 3/5] END randomforestclassifier__criterion=gini, randomforestclassifier__max_features=sqrt, randomforestclassifier__min_samples_leaf=1, randomforestclassifier__min_samples_split=2, randomforestclassifier__n_estimators=100;, score=0.829 total time=   0.9s\n",
      "[CV 4/5] END randomforestclassifier__criterion=gini, randomforestclassifier__max_features=sqrt, randomforestclassifier__min_samples_leaf=1, randomforestclassifier__min_samples_split=2, randomforestclassifier__n_estimators=100;, score=0.842 total time=   0.8s\n",
      "[CV 5/5] END randomforestclassifier__criterion=gini, randomforestclassifier__max_features=sqrt, randomforestclassifier__min_samples_leaf=1, randomforestclassifier__min_samples_split=2, randomforestclassifier__n_estimators=100;, score=0.838 total time=   0.9s\n",
      "[CV 1/5] END randomforestclassifier__criterion=gini, randomforestclassifier__max_features=sqrt, randomforestclassifier__min_samples_leaf=1, randomforestclassifier__min_samples_split=2, randomforestclassifier__n_estimators=150;, score=0.846 total time=   1.3s\n",
      "[CV 2/5] END randomforestclassifier__criterion=gini, randomforestclassifier__max_features=sqrt, randomforestclassifier__min_samples_leaf=1, randomforestclassifier__min_samples_split=2, randomforestclassifier__n_estimators=150;, score=0.841 total time=   1.4s\n",
      "[CV 3/5] END randomforestclassifier__criterion=gini, randomforestclassifier__max_features=sqrt, randomforestclassifier__min_samples_leaf=1, randomforestclassifier__min_samples_split=2, randomforestclassifier__n_estimators=150;, score=0.829 total time=   1.5s\n",
      "[CV 4/5] END randomforestclassifier__criterion=gini, randomforestclassifier__max_features=sqrt, randomforestclassifier__min_samples_leaf=1, randomforestclassifier__min_samples_split=2, randomforestclassifier__n_estimators=150;, score=0.839 total time=   1.7s\n",
      "[CV 5/5] END randomforestclassifier__criterion=gini, randomforestclassifier__max_features=sqrt, randomforestclassifier__min_samples_leaf=1, randomforestclassifier__min_samples_split=2, randomforestclassifier__n_estimators=150;, score=0.844 total time=   1.4s\n",
      "[CV 1/5] END randomforestclassifier__criterion=gini, randomforestclassifier__max_features=sqrt, randomforestclassifier__min_samples_leaf=1, randomforestclassifier__min_samples_split=3, randomforestclassifier__n_estimators=50;, score=0.841 total time=   0.4s\n",
      "[CV 2/5] END randomforestclassifier__criterion=gini, randomforestclassifier__max_features=sqrt, randomforestclassifier__min_samples_leaf=1, randomforestclassifier__min_samples_split=3, randomforestclassifier__n_estimators=50;, score=0.833 total time=   0.4s\n",
      "[CV 3/5] END randomforestclassifier__criterion=gini, randomforestclassifier__max_features=sqrt, randomforestclassifier__min_samples_leaf=1, randomforestclassifier__min_samples_split=3, randomforestclassifier__n_estimators=50;, score=0.816 total time=   0.4s\n",
      "[CV 4/5] END randomforestclassifier__criterion=gini, randomforestclassifier__max_features=sqrt, randomforestclassifier__min_samples_leaf=1, randomforestclassifier__min_samples_split=3, randomforestclassifier__n_estimators=50;, score=0.839 total time=   0.4s\n",
      "[CV 5/5] END randomforestclassifier__criterion=gini, randomforestclassifier__max_features=sqrt, randomforestclassifier__min_samples_leaf=1, randomforestclassifier__min_samples_split=3, randomforestclassifier__n_estimators=50;, score=0.838 total time=   0.4s\n",
      "[CV 1/5] END randomforestclassifier__criterion=gini, randomforestclassifier__max_features=sqrt, randomforestclassifier__min_samples_leaf=1, randomforestclassifier__min_samples_split=3, randomforestclassifier__n_estimators=100;, score=0.834 total time=   0.9s\n",
      "[CV 2/5] END randomforestclassifier__criterion=gini, randomforestclassifier__max_features=sqrt, randomforestclassifier__min_samples_leaf=1, randomforestclassifier__min_samples_split=3, randomforestclassifier__n_estimators=100;, score=0.837 total time=   0.9s\n",
      "[CV 3/5] END randomforestclassifier__criterion=gini, randomforestclassifier__max_features=sqrt, randomforestclassifier__min_samples_leaf=1, randomforestclassifier__min_samples_split=3, randomforestclassifier__n_estimators=100;, score=0.827 total time=   0.9s\n",
      "[CV 4/5] END randomforestclassifier__criterion=gini, randomforestclassifier__max_features=sqrt, randomforestclassifier__min_samples_leaf=1, randomforestclassifier__min_samples_split=3, randomforestclassifier__n_estimators=100;, score=0.837 total time=   0.9s\n",
      "[CV 5/5] END randomforestclassifier__criterion=gini, randomforestclassifier__max_features=sqrt, randomforestclassifier__min_samples_leaf=1, randomforestclassifier__min_samples_split=3, randomforestclassifier__n_estimators=100;, score=0.838 total time=   0.9s\n",
      "[CV 1/5] END randomforestclassifier__criterion=gini, randomforestclassifier__max_features=sqrt, randomforestclassifier__min_samples_leaf=1, randomforestclassifier__min_samples_split=3, randomforestclassifier__n_estimators=150;, score=0.845 total time=   1.3s\n",
      "[CV 2/5] END randomforestclassifier__criterion=gini, randomforestclassifier__max_features=sqrt, randomforestclassifier__min_samples_leaf=1, randomforestclassifier__min_samples_split=3, randomforestclassifier__n_estimators=150;, score=0.844 total time=   1.4s\n",
      "[CV 3/5] END randomforestclassifier__criterion=gini, randomforestclassifier__max_features=sqrt, randomforestclassifier__min_samples_leaf=1, randomforestclassifier__min_samples_split=3, randomforestclassifier__n_estimators=150;, score=0.824 total time=   1.3s\n",
      "[CV 4/5] END randomforestclassifier__criterion=gini, randomforestclassifier__max_features=sqrt, randomforestclassifier__min_samples_leaf=1, randomforestclassifier__min_samples_split=3, randomforestclassifier__n_estimators=150;, score=0.831 total time=   1.3s\n",
      "[CV 5/5] END randomforestclassifier__criterion=gini, randomforestclassifier__max_features=sqrt, randomforestclassifier__min_samples_leaf=1, randomforestclassifier__min_samples_split=3, randomforestclassifier__n_estimators=150;, score=0.839 total time=   1.4s\n",
      "[CV 1/5] END randomforestclassifier__criterion=gini, randomforestclassifier__max_features=sqrt, randomforestclassifier__min_samples_leaf=1, randomforestclassifier__min_samples_split=4, randomforestclassifier__n_estimators=50;, score=0.832 total time=   0.4s\n",
      "[CV 2/5] END randomforestclassifier__criterion=gini, randomforestclassifier__max_features=sqrt, randomforestclassifier__min_samples_leaf=1, randomforestclassifier__min_samples_split=4, randomforestclassifier__n_estimators=50;, score=0.839 total time=   0.4s\n",
      "[CV 3/5] END randomforestclassifier__criterion=gini, randomforestclassifier__max_features=sqrt, randomforestclassifier__min_samples_leaf=1, randomforestclassifier__min_samples_split=4, randomforestclassifier__n_estimators=50;, score=0.834 total time=   0.4s\n",
      "[CV 4/5] END randomforestclassifier__criterion=gini, randomforestclassifier__max_features=sqrt, randomforestclassifier__min_samples_leaf=1, randomforestclassifier__min_samples_split=4, randomforestclassifier__n_estimators=50;, score=0.836 total time=   0.4s\n",
      "[CV 5/5] END randomforestclassifier__criterion=gini, randomforestclassifier__max_features=sqrt, randomforestclassifier__min_samples_leaf=1, randomforestclassifier__min_samples_split=4, randomforestclassifier__n_estimators=50;, score=0.845 total time=   0.4s\n",
      "[CV 1/5] END randomforestclassifier__criterion=gini, randomforestclassifier__max_features=sqrt, randomforestclassifier__min_samples_leaf=1, randomforestclassifier__min_samples_split=4, randomforestclassifier__n_estimators=100;, score=0.840 total time=   0.9s\n",
      "[CV 2/5] END randomforestclassifier__criterion=gini, randomforestclassifier__max_features=sqrt, randomforestclassifier__min_samples_leaf=1, randomforestclassifier__min_samples_split=4, randomforestclassifier__n_estimators=100;, score=0.834 total time=   0.9s\n",
      "[CV 3/5] END randomforestclassifier__criterion=gini, randomforestclassifier__max_features=sqrt, randomforestclassifier__min_samples_leaf=1, randomforestclassifier__min_samples_split=4, randomforestclassifier__n_estimators=100;, score=0.824 total time=   0.9s\n",
      "[CV 4/5] END randomforestclassifier__criterion=gini, randomforestclassifier__max_features=sqrt, randomforestclassifier__min_samples_leaf=1, randomforestclassifier__min_samples_split=4, randomforestclassifier__n_estimators=100;, score=0.838 total time=   0.9s\n",
      "[CV 5/5] END randomforestclassifier__criterion=gini, randomforestclassifier__max_features=sqrt, randomforestclassifier__min_samples_leaf=1, randomforestclassifier__min_samples_split=4, randomforestclassifier__n_estimators=100;, score=0.839 total time=   0.8s\n",
      "[CV 1/5] END randomforestclassifier__criterion=gini, randomforestclassifier__max_features=sqrt, randomforestclassifier__min_samples_leaf=1, randomforestclassifier__min_samples_split=4, randomforestclassifier__n_estimators=150;, score=0.841 total time=   1.3s\n",
      "[CV 2/5] END randomforestclassifier__criterion=gini, randomforestclassifier__max_features=sqrt, randomforestclassifier__min_samples_leaf=1, randomforestclassifier__min_samples_split=4, randomforestclassifier__n_estimators=150;, score=0.841 total time=   1.4s\n",
      "[CV 3/5] END randomforestclassifier__criterion=gini, randomforestclassifier__max_features=sqrt, randomforestclassifier__min_samples_leaf=1, randomforestclassifier__min_samples_split=4, randomforestclassifier__n_estimators=150;, score=0.831 total time=   1.3s\n",
      "[CV 4/5] END randomforestclassifier__criterion=gini, randomforestclassifier__max_features=sqrt, randomforestclassifier__min_samples_leaf=1, randomforestclassifier__min_samples_split=4, randomforestclassifier__n_estimators=150;, score=0.839 total time=   1.3s\n",
      "[CV 5/5] END randomforestclassifier__criterion=gini, randomforestclassifier__max_features=sqrt, randomforestclassifier__min_samples_leaf=1, randomforestclassifier__min_samples_split=4, randomforestclassifier__n_estimators=150;, score=0.839 total time=   1.3s\n",
      "[CV 1/5] END randomforestclassifier__criterion=gini, randomforestclassifier__max_features=sqrt, randomforestclassifier__min_samples_leaf=5, randomforestclassifier__min_samples_split=2, randomforestclassifier__n_estimators=50;, score=0.840 total time=   0.4s\n",
      "[CV 2/5] END randomforestclassifier__criterion=gini, randomforestclassifier__max_features=sqrt, randomforestclassifier__min_samples_leaf=5, randomforestclassifier__min_samples_split=2, randomforestclassifier__n_estimators=50;, score=0.829 total time=   0.4s\n",
      "[CV 3/5] END randomforestclassifier__criterion=gini, randomforestclassifier__max_features=sqrt, randomforestclassifier__min_samples_leaf=5, randomforestclassifier__min_samples_split=2, randomforestclassifier__n_estimators=50;, score=0.815 total time=   0.3s\n",
      "[CV 4/5] END randomforestclassifier__criterion=gini, randomforestclassifier__max_features=sqrt, randomforestclassifier__min_samples_leaf=5, randomforestclassifier__min_samples_split=2, randomforestclassifier__n_estimators=50;, score=0.824 total time=   0.4s\n",
      "[CV 5/5] END randomforestclassifier__criterion=gini, randomforestclassifier__max_features=sqrt, randomforestclassifier__min_samples_leaf=5, randomforestclassifier__min_samples_split=2, randomforestclassifier__n_estimators=50;, score=0.836 total time=   0.4s\n",
      "[CV 1/5] END randomforestclassifier__criterion=gini, randomforestclassifier__max_features=sqrt, randomforestclassifier__min_samples_leaf=5, randomforestclassifier__min_samples_split=2, randomforestclassifier__n_estimators=100;, score=0.840 total time=   0.8s\n",
      "[CV 2/5] END randomforestclassifier__criterion=gini, randomforestclassifier__max_features=sqrt, randomforestclassifier__min_samples_leaf=5, randomforestclassifier__min_samples_split=2, randomforestclassifier__n_estimators=100;, score=0.826 total time=   0.7s\n",
      "[CV 3/5] END randomforestclassifier__criterion=gini, randomforestclassifier__max_features=sqrt, randomforestclassifier__min_samples_leaf=5, randomforestclassifier__min_samples_split=2, randomforestclassifier__n_estimators=100;, score=0.815 total time=   0.8s\n",
      "[CV 4/5] END randomforestclassifier__criterion=gini, randomforestclassifier__max_features=sqrt, randomforestclassifier__min_samples_leaf=5, randomforestclassifier__min_samples_split=2, randomforestclassifier__n_estimators=100;, score=0.821 total time=   0.8s\n",
      "[CV 5/5] END randomforestclassifier__criterion=gini, randomforestclassifier__max_features=sqrt, randomforestclassifier__min_samples_leaf=5, randomforestclassifier__min_samples_split=2, randomforestclassifier__n_estimators=100;, score=0.839 total time=   0.8s\n",
      "[CV 1/5] END randomforestclassifier__criterion=gini, randomforestclassifier__max_features=sqrt, randomforestclassifier__min_samples_leaf=5, randomforestclassifier__min_samples_split=2, randomforestclassifier__n_estimators=150;, score=0.839 total time=   1.1s\n",
      "[CV 2/5] END randomforestclassifier__criterion=gini, randomforestclassifier__max_features=sqrt, randomforestclassifier__min_samples_leaf=5, randomforestclassifier__min_samples_split=2, randomforestclassifier__n_estimators=150;, score=0.827 total time=   1.2s\n",
      "[CV 3/5] END randomforestclassifier__criterion=gini, randomforestclassifier__max_features=sqrt, randomforestclassifier__min_samples_leaf=5, randomforestclassifier__min_samples_split=2, randomforestclassifier__n_estimators=150;, score=0.814 total time=   1.3s\n",
      "[CV 4/5] END randomforestclassifier__criterion=gini, randomforestclassifier__max_features=sqrt, randomforestclassifier__min_samples_leaf=5, randomforestclassifier__min_samples_split=2, randomforestclassifier__n_estimators=150;, score=0.828 total time=   1.2s\n",
      "[CV 5/5] END randomforestclassifier__criterion=gini, randomforestclassifier__max_features=sqrt, randomforestclassifier__min_samples_leaf=5, randomforestclassifier__min_samples_split=2, randomforestclassifier__n_estimators=150;, score=0.845 total time=   1.2s\n",
      "[CV 1/5] END randomforestclassifier__criterion=gini, randomforestclassifier__max_features=sqrt, randomforestclassifier__min_samples_leaf=5, randomforestclassifier__min_samples_split=3, randomforestclassifier__n_estimators=50;, score=0.839 total time=   0.3s\n",
      "[CV 2/5] END randomforestclassifier__criterion=gini, randomforestclassifier__max_features=sqrt, randomforestclassifier__min_samples_leaf=5, randomforestclassifier__min_samples_split=3, randomforestclassifier__n_estimators=50;, score=0.826 total time=   0.4s\n",
      "[CV 3/5] END randomforestclassifier__criterion=gini, randomforestclassifier__max_features=sqrt, randomforestclassifier__min_samples_leaf=5, randomforestclassifier__min_samples_split=3, randomforestclassifier__n_estimators=50;, score=0.806 total time=   0.4s\n",
      "[CV 4/5] END randomforestclassifier__criterion=gini, randomforestclassifier__max_features=sqrt, randomforestclassifier__min_samples_leaf=5, randomforestclassifier__min_samples_split=3, randomforestclassifier__n_estimators=50;, score=0.835 total time=   0.3s\n",
      "[CV 5/5] END randomforestclassifier__criterion=gini, randomforestclassifier__max_features=sqrt, randomforestclassifier__min_samples_leaf=5, randomforestclassifier__min_samples_split=3, randomforestclassifier__n_estimators=50;, score=0.839 total time=   0.4s\n",
      "[CV 1/5] END randomforestclassifier__criterion=gini, randomforestclassifier__max_features=sqrt, randomforestclassifier__min_samples_leaf=5, randomforestclassifier__min_samples_split=3, randomforestclassifier__n_estimators=100;, score=0.840 total time=   0.8s\n",
      "[CV 2/5] END randomforestclassifier__criterion=gini, randomforestclassifier__max_features=sqrt, randomforestclassifier__min_samples_leaf=5, randomforestclassifier__min_samples_split=3, randomforestclassifier__n_estimators=100;, score=0.827 total time=   0.8s\n",
      "[CV 3/5] END randomforestclassifier__criterion=gini, randomforestclassifier__max_features=sqrt, randomforestclassifier__min_samples_leaf=5, randomforestclassifier__min_samples_split=3, randomforestclassifier__n_estimators=100;, score=0.811 total time=   0.8s\n",
      "[CV 4/5] END randomforestclassifier__criterion=gini, randomforestclassifier__max_features=sqrt, randomforestclassifier__min_samples_leaf=5, randomforestclassifier__min_samples_split=3, randomforestclassifier__n_estimators=100;, score=0.829 total time=   0.7s\n",
      "[CV 5/5] END randomforestclassifier__criterion=gini, randomforestclassifier__max_features=sqrt, randomforestclassifier__min_samples_leaf=5, randomforestclassifier__min_samples_split=3, randomforestclassifier__n_estimators=100;, score=0.836 total time=   0.7s\n",
      "[CV 1/5] END randomforestclassifier__criterion=gini, randomforestclassifier__max_features=sqrt, randomforestclassifier__min_samples_leaf=5, randomforestclassifier__min_samples_split=3, randomforestclassifier__n_estimators=150;, score=0.841 total time=   1.2s\n",
      "[CV 2/5] END randomforestclassifier__criterion=gini, randomforestclassifier__max_features=sqrt, randomforestclassifier__min_samples_leaf=5, randomforestclassifier__min_samples_split=3, randomforestclassifier__n_estimators=150;, score=0.831 total time=   1.1s\n",
      "[CV 3/5] END randomforestclassifier__criterion=gini, randomforestclassifier__max_features=sqrt, randomforestclassifier__min_samples_leaf=5, randomforestclassifier__min_samples_split=3, randomforestclassifier__n_estimators=150;, score=0.811 total time=   1.1s\n",
      "[CV 4/5] END randomforestclassifier__criterion=gini, randomforestclassifier__max_features=sqrt, randomforestclassifier__min_samples_leaf=5, randomforestclassifier__min_samples_split=3, randomforestclassifier__n_estimators=150;, score=0.826 total time=   1.1s\n",
      "[CV 5/5] END randomforestclassifier__criterion=gini, randomforestclassifier__max_features=sqrt, randomforestclassifier__min_samples_leaf=5, randomforestclassifier__min_samples_split=3, randomforestclassifier__n_estimators=150;, score=0.839 total time=   1.1s\n",
      "[CV 1/5] END randomforestclassifier__criterion=gini, randomforestclassifier__max_features=sqrt, randomforestclassifier__min_samples_leaf=5, randomforestclassifier__min_samples_split=4, randomforestclassifier__n_estimators=50;, score=0.834 total time=   0.4s\n",
      "[CV 2/5] END randomforestclassifier__criterion=gini, randomforestclassifier__max_features=sqrt, randomforestclassifier__min_samples_leaf=5, randomforestclassifier__min_samples_split=4, randomforestclassifier__n_estimators=50;, score=0.826 total time=   0.3s\n",
      "[CV 3/5] END randomforestclassifier__criterion=gini, randomforestclassifier__max_features=sqrt, randomforestclassifier__min_samples_leaf=5, randomforestclassifier__min_samples_split=4, randomforestclassifier__n_estimators=50;, score=0.810 total time=   0.4s\n",
      "[CV 4/5] END randomforestclassifier__criterion=gini, randomforestclassifier__max_features=sqrt, randomforestclassifier__min_samples_leaf=5, randomforestclassifier__min_samples_split=4, randomforestclassifier__n_estimators=50;, score=0.826 total time=   0.4s\n",
      "[CV 5/5] END randomforestclassifier__criterion=gini, randomforestclassifier__max_features=sqrt, randomforestclassifier__min_samples_leaf=5, randomforestclassifier__min_samples_split=4, randomforestclassifier__n_estimators=50;, score=0.835 total time=   0.4s\n",
      "[CV 1/5] END randomforestclassifier__criterion=gini, randomforestclassifier__max_features=sqrt, randomforestclassifier__min_samples_leaf=5, randomforestclassifier__min_samples_split=4, randomforestclassifier__n_estimators=100;, score=0.835 total time=   0.8s\n",
      "[CV 2/5] END randomforestclassifier__criterion=gini, randomforestclassifier__max_features=sqrt, randomforestclassifier__min_samples_leaf=5, randomforestclassifier__min_samples_split=4, randomforestclassifier__n_estimators=100;, score=0.830 total time=   0.9s\n",
      "[CV 3/5] END randomforestclassifier__criterion=gini, randomforestclassifier__max_features=sqrt, randomforestclassifier__min_samples_leaf=5, randomforestclassifier__min_samples_split=4, randomforestclassifier__n_estimators=100;, score=0.814 total time=   0.8s\n",
      "[CV 4/5] END randomforestclassifier__criterion=gini, randomforestclassifier__max_features=sqrt, randomforestclassifier__min_samples_leaf=5, randomforestclassifier__min_samples_split=4, randomforestclassifier__n_estimators=100;, score=0.826 total time=   0.8s\n",
      "[CV 5/5] END randomforestclassifier__criterion=gini, randomforestclassifier__max_features=sqrt, randomforestclassifier__min_samples_leaf=5, randomforestclassifier__min_samples_split=4, randomforestclassifier__n_estimators=100;, score=0.841 total time=   0.7s\n",
      "[CV 1/5] END randomforestclassifier__criterion=gini, randomforestclassifier__max_features=sqrt, randomforestclassifier__min_samples_leaf=5, randomforestclassifier__min_samples_split=4, randomforestclassifier__n_estimators=150;, score=0.839 total time=   1.2s\n",
      "[CV 2/5] END randomforestclassifier__criterion=gini, randomforestclassifier__max_features=sqrt, randomforestclassifier__min_samples_leaf=5, randomforestclassifier__min_samples_split=4, randomforestclassifier__n_estimators=150;, score=0.834 total time=   1.5s\n",
      "[CV 3/5] END randomforestclassifier__criterion=gini, randomforestclassifier__max_features=sqrt, randomforestclassifier__min_samples_leaf=5, randomforestclassifier__min_samples_split=4, randomforestclassifier__n_estimators=150;, score=0.811 total time=   1.2s\n",
      "[CV 4/5] END randomforestclassifier__criterion=gini, randomforestclassifier__max_features=sqrt, randomforestclassifier__min_samples_leaf=5, randomforestclassifier__min_samples_split=4, randomforestclassifier__n_estimators=150;, score=0.826 total time=   1.1s\n",
      "[CV 5/5] END randomforestclassifier__criterion=gini, randomforestclassifier__max_features=sqrt, randomforestclassifier__min_samples_leaf=5, randomforestclassifier__min_samples_split=4, randomforestclassifier__n_estimators=150;, score=0.840 total time=   1.1s\n",
      "[CV 1/5] END randomforestclassifier__criterion=gini, randomforestclassifier__max_features=sqrt, randomforestclassifier__min_samples_leaf=10, randomforestclassifier__min_samples_split=2, randomforestclassifier__n_estimators=50;, score=0.822 total time=   0.3s\n",
      "[CV 2/5] END randomforestclassifier__criterion=gini, randomforestclassifier__max_features=sqrt, randomforestclassifier__min_samples_leaf=10, randomforestclassifier__min_samples_split=2, randomforestclassifier__n_estimators=50;, score=0.818 total time=   0.3s\n",
      "[CV 3/5] END randomforestclassifier__criterion=gini, randomforestclassifier__max_features=sqrt, randomforestclassifier__min_samples_leaf=10, randomforestclassifier__min_samples_split=2, randomforestclassifier__n_estimators=50;, score=0.799 total time=   0.3s\n",
      "[CV 4/5] END randomforestclassifier__criterion=gini, randomforestclassifier__max_features=sqrt, randomforestclassifier__min_samples_leaf=10, randomforestclassifier__min_samples_split=2, randomforestclassifier__n_estimators=50;, score=0.818 total time=   0.3s\n",
      "[CV 5/5] END randomforestclassifier__criterion=gini, randomforestclassifier__max_features=sqrt, randomforestclassifier__min_samples_leaf=10, randomforestclassifier__min_samples_split=2, randomforestclassifier__n_estimators=50;, score=0.835 total time=   0.3s\n",
      "[CV 1/5] END randomforestclassifier__criterion=gini, randomforestclassifier__max_features=sqrt, randomforestclassifier__min_samples_leaf=10, randomforestclassifier__min_samples_split=2, randomforestclassifier__n_estimators=100;, score=0.832 total time=   0.7s\n",
      "[CV 2/5] END randomforestclassifier__criterion=gini, randomforestclassifier__max_features=sqrt, randomforestclassifier__min_samples_leaf=10, randomforestclassifier__min_samples_split=2, randomforestclassifier__n_estimators=100;, score=0.822 total time=   0.7s\n",
      "[CV 3/5] END randomforestclassifier__criterion=gini, randomforestclassifier__max_features=sqrt, randomforestclassifier__min_samples_leaf=10, randomforestclassifier__min_samples_split=2, randomforestclassifier__n_estimators=100;, score=0.809 total time=   0.7s\n",
      "[CV 4/5] END randomforestclassifier__criterion=gini, randomforestclassifier__max_features=sqrt, randomforestclassifier__min_samples_leaf=10, randomforestclassifier__min_samples_split=2, randomforestclassifier__n_estimators=100;, score=0.816 total time=   0.7s\n",
      "[CV 5/5] END randomforestclassifier__criterion=gini, randomforestclassifier__max_features=sqrt, randomforestclassifier__min_samples_leaf=10, randomforestclassifier__min_samples_split=2, randomforestclassifier__n_estimators=100;, score=0.836 total time=   0.7s\n",
      "[CV 1/5] END randomforestclassifier__criterion=gini, randomforestclassifier__max_features=sqrt, randomforestclassifier__min_samples_leaf=10, randomforestclassifier__min_samples_split=2, randomforestclassifier__n_estimators=150;, score=0.827 total time=   1.1s\n",
      "[CV 2/5] END randomforestclassifier__criterion=gini, randomforestclassifier__max_features=sqrt, randomforestclassifier__min_samples_leaf=10, randomforestclassifier__min_samples_split=2, randomforestclassifier__n_estimators=150;, score=0.822 total time=   1.1s\n",
      "[CV 3/5] END randomforestclassifier__criterion=gini, randomforestclassifier__max_features=sqrt, randomforestclassifier__min_samples_leaf=10, randomforestclassifier__min_samples_split=2, randomforestclassifier__n_estimators=150;, score=0.802 total time=   1.1s\n",
      "[CV 4/5] END randomforestclassifier__criterion=gini, randomforestclassifier__max_features=sqrt, randomforestclassifier__min_samples_leaf=10, randomforestclassifier__min_samples_split=2, randomforestclassifier__n_estimators=150;, score=0.824 total time=   1.1s\n",
      "[CV 5/5] END randomforestclassifier__criterion=gini, randomforestclassifier__max_features=sqrt, randomforestclassifier__min_samples_leaf=10, randomforestclassifier__min_samples_split=2, randomforestclassifier__n_estimators=150;, score=0.834 total time=   1.3s\n",
      "[CV 1/5] END randomforestclassifier__criterion=gini, randomforestclassifier__max_features=sqrt, randomforestclassifier__min_samples_leaf=10, randomforestclassifier__min_samples_split=3, randomforestclassifier__n_estimators=50;, score=0.828 total time=   0.5s\n",
      "[CV 2/5] END randomforestclassifier__criterion=gini, randomforestclassifier__max_features=sqrt, randomforestclassifier__min_samples_leaf=10, randomforestclassifier__min_samples_split=3, randomforestclassifier__n_estimators=50;, score=0.820 total time=   0.6s\n",
      "[CV 3/5] END randomforestclassifier__criterion=gini, randomforestclassifier__max_features=sqrt, randomforestclassifier__min_samples_leaf=10, randomforestclassifier__min_samples_split=3, randomforestclassifier__n_estimators=50;, score=0.808 total time=   0.4s\n",
      "[CV 4/5] END randomforestclassifier__criterion=gini, randomforestclassifier__max_features=sqrt, randomforestclassifier__min_samples_leaf=10, randomforestclassifier__min_samples_split=3, randomforestclassifier__n_estimators=50;, score=0.828 total time=   0.4s\n",
      "[CV 5/5] END randomforestclassifier__criterion=gini, randomforestclassifier__max_features=sqrt, randomforestclassifier__min_samples_leaf=10, randomforestclassifier__min_samples_split=3, randomforestclassifier__n_estimators=50;, score=0.834 total time=   0.4s\n",
      "[CV 1/5] END randomforestclassifier__criterion=gini, randomforestclassifier__max_features=sqrt, randomforestclassifier__min_samples_leaf=10, randomforestclassifier__min_samples_split=3, randomforestclassifier__n_estimators=100;, score=0.830 total time=   0.7s\n",
      "[CV 2/5] END randomforestclassifier__criterion=gini, randomforestclassifier__max_features=sqrt, randomforestclassifier__min_samples_leaf=10, randomforestclassifier__min_samples_split=3, randomforestclassifier__n_estimators=100;, score=0.826 total time=   0.7s\n",
      "[CV 3/5] END randomforestclassifier__criterion=gini, randomforestclassifier__max_features=sqrt, randomforestclassifier__min_samples_leaf=10, randomforestclassifier__min_samples_split=3, randomforestclassifier__n_estimators=100;, score=0.802 total time=   0.7s\n",
      "[CV 4/5] END randomforestclassifier__criterion=gini, randomforestclassifier__max_features=sqrt, randomforestclassifier__min_samples_leaf=10, randomforestclassifier__min_samples_split=3, randomforestclassifier__n_estimators=100;, score=0.823 total time=   0.7s\n",
      "[CV 5/5] END randomforestclassifier__criterion=gini, randomforestclassifier__max_features=sqrt, randomforestclassifier__min_samples_leaf=10, randomforestclassifier__min_samples_split=3, randomforestclassifier__n_estimators=100;, score=0.836 total time=   0.6s\n",
      "[CV 1/5] END randomforestclassifier__criterion=gini, randomforestclassifier__max_features=sqrt, randomforestclassifier__min_samples_leaf=10, randomforestclassifier__min_samples_split=3, randomforestclassifier__n_estimators=150;, score=0.829 total time=   1.1s\n",
      "[CV 2/5] END randomforestclassifier__criterion=gini, randomforestclassifier__max_features=sqrt, randomforestclassifier__min_samples_leaf=10, randomforestclassifier__min_samples_split=3, randomforestclassifier__n_estimators=150;, score=0.825 total time=   1.4s\n",
      "[CV 3/5] END randomforestclassifier__criterion=gini, randomforestclassifier__max_features=sqrt, randomforestclassifier__min_samples_leaf=10, randomforestclassifier__min_samples_split=3, randomforestclassifier__n_estimators=150;, score=0.801 total time=   1.2s\n",
      "[CV 4/5] END randomforestclassifier__criterion=gini, randomforestclassifier__max_features=sqrt, randomforestclassifier__min_samples_leaf=10, randomforestclassifier__min_samples_split=3, randomforestclassifier__n_estimators=150;, score=0.822 total time=   1.3s\n",
      "[CV 5/5] END randomforestclassifier__criterion=gini, randomforestclassifier__max_features=sqrt, randomforestclassifier__min_samples_leaf=10, randomforestclassifier__min_samples_split=3, randomforestclassifier__n_estimators=150;, score=0.836 total time=   1.3s\n",
      "[CV 1/5] END randomforestclassifier__criterion=gini, randomforestclassifier__max_features=sqrt, randomforestclassifier__min_samples_leaf=10, randomforestclassifier__min_samples_split=4, randomforestclassifier__n_estimators=50;, score=0.830 total time=   0.4s\n",
      "[CV 2/5] END randomforestclassifier__criterion=gini, randomforestclassifier__max_features=sqrt, randomforestclassifier__min_samples_leaf=10, randomforestclassifier__min_samples_split=4, randomforestclassifier__n_estimators=50;, score=0.825 total time=   0.4s\n",
      "[CV 3/5] END randomforestclassifier__criterion=gini, randomforestclassifier__max_features=sqrt, randomforestclassifier__min_samples_leaf=10, randomforestclassifier__min_samples_split=4, randomforestclassifier__n_estimators=50;, score=0.806 total time=   0.4s\n",
      "[CV 4/5] END randomforestclassifier__criterion=gini, randomforestclassifier__max_features=sqrt, randomforestclassifier__min_samples_leaf=10, randomforestclassifier__min_samples_split=4, randomforestclassifier__n_estimators=50;, score=0.821 total time=   0.4s\n",
      "[CV 5/5] END randomforestclassifier__criterion=gini, randomforestclassifier__max_features=sqrt, randomforestclassifier__min_samples_leaf=10, randomforestclassifier__min_samples_split=4, randomforestclassifier__n_estimators=50;, score=0.823 total time=   0.4s\n",
      "[CV 1/5] END randomforestclassifier__criterion=gini, randomforestclassifier__max_features=sqrt, randomforestclassifier__min_samples_leaf=10, randomforestclassifier__min_samples_split=4, randomforestclassifier__n_estimators=100;, score=0.834 total time=   0.9s\n",
      "[CV 2/5] END randomforestclassifier__criterion=gini, randomforestclassifier__max_features=sqrt, randomforestclassifier__min_samples_leaf=10, randomforestclassifier__min_samples_split=4, randomforestclassifier__n_estimators=100;, score=0.824 total time=   0.7s\n",
      "[CV 3/5] END randomforestclassifier__criterion=gini, randomforestclassifier__max_features=sqrt, randomforestclassifier__min_samples_leaf=10, randomforestclassifier__min_samples_split=4, randomforestclassifier__n_estimators=100;, score=0.804 total time=   0.7s\n",
      "[CV 4/5] END randomforestclassifier__criterion=gini, randomforestclassifier__max_features=sqrt, randomforestclassifier__min_samples_leaf=10, randomforestclassifier__min_samples_split=4, randomforestclassifier__n_estimators=100;, score=0.821 total time=   0.8s\n",
      "[CV 5/5] END randomforestclassifier__criterion=gini, randomforestclassifier__max_features=sqrt, randomforestclassifier__min_samples_leaf=10, randomforestclassifier__min_samples_split=4, randomforestclassifier__n_estimators=100;, score=0.834 total time=   0.8s\n",
      "[CV 1/5] END randomforestclassifier__criterion=gini, randomforestclassifier__max_features=sqrt, randomforestclassifier__min_samples_leaf=10, randomforestclassifier__min_samples_split=4, randomforestclassifier__n_estimators=150;, score=0.836 total time=   1.1s\n",
      "[CV 2/5] END randomforestclassifier__criterion=gini, randomforestclassifier__max_features=sqrt, randomforestclassifier__min_samples_leaf=10, randomforestclassifier__min_samples_split=4, randomforestclassifier__n_estimators=150;, score=0.827 total time=   1.0s\n",
      "[CV 3/5] END randomforestclassifier__criterion=gini, randomforestclassifier__max_features=sqrt, randomforestclassifier__min_samples_leaf=10, randomforestclassifier__min_samples_split=4, randomforestclassifier__n_estimators=150;, score=0.803 total time=   1.3s\n",
      "[CV 4/5] END randomforestclassifier__criterion=gini, randomforestclassifier__max_features=sqrt, randomforestclassifier__min_samples_leaf=10, randomforestclassifier__min_samples_split=4, randomforestclassifier__n_estimators=150;, score=0.819 total time=   1.1s\n",
      "[CV 5/5] END randomforestclassifier__criterion=gini, randomforestclassifier__max_features=sqrt, randomforestclassifier__min_samples_leaf=10, randomforestclassifier__min_samples_split=4, randomforestclassifier__n_estimators=150;, score=0.831 total time=   1.1s\n",
      "[CV 1/5] END randomforestclassifier__criterion=gini, randomforestclassifier__max_features=sqrt, randomforestclassifier__min_samples_leaf=15, randomforestclassifier__min_samples_split=2, randomforestclassifier__n_estimators=50;, score=0.827 total time=   0.3s\n",
      "[CV 2/5] END randomforestclassifier__criterion=gini, randomforestclassifier__max_features=sqrt, randomforestclassifier__min_samples_leaf=15, randomforestclassifier__min_samples_split=2, randomforestclassifier__n_estimators=50;, score=0.815 total time=   0.3s\n",
      "[CV 3/5] END randomforestclassifier__criterion=gini, randomforestclassifier__max_features=sqrt, randomforestclassifier__min_samples_leaf=15, randomforestclassifier__min_samples_split=2, randomforestclassifier__n_estimators=50;, score=0.801 total time=   0.3s\n",
      "[CV 4/5] END randomforestclassifier__criterion=gini, randomforestclassifier__max_features=sqrt, randomforestclassifier__min_samples_leaf=15, randomforestclassifier__min_samples_split=2, randomforestclassifier__n_estimators=50;, score=0.812 total time=   0.3s\n",
      "[CV 5/5] END randomforestclassifier__criterion=gini, randomforestclassifier__max_features=sqrt, randomforestclassifier__min_samples_leaf=15, randomforestclassifier__min_samples_split=2, randomforestclassifier__n_estimators=50;, score=0.826 total time=   0.3s\n",
      "[CV 1/5] END randomforestclassifier__criterion=gini, randomforestclassifier__max_features=sqrt, randomforestclassifier__min_samples_leaf=15, randomforestclassifier__min_samples_split=2, randomforestclassifier__n_estimators=100;, score=0.834 total time=   0.7s\n",
      "[CV 2/5] END randomforestclassifier__criterion=gini, randomforestclassifier__max_features=sqrt, randomforestclassifier__min_samples_leaf=15, randomforestclassifier__min_samples_split=2, randomforestclassifier__n_estimators=100;, score=0.819 total time=   0.6s\n",
      "[CV 3/5] END randomforestclassifier__criterion=gini, randomforestclassifier__max_features=sqrt, randomforestclassifier__min_samples_leaf=15, randomforestclassifier__min_samples_split=2, randomforestclassifier__n_estimators=100;, score=0.799 total time=   0.7s\n",
      "[CV 4/5] END randomforestclassifier__criterion=gini, randomforestclassifier__max_features=sqrt, randomforestclassifier__min_samples_leaf=15, randomforestclassifier__min_samples_split=2, randomforestclassifier__n_estimators=100;, score=0.814 total time=   0.7s\n",
      "[CV 5/5] END randomforestclassifier__criterion=gini, randomforestclassifier__max_features=sqrt, randomforestclassifier__min_samples_leaf=15, randomforestclassifier__min_samples_split=2, randomforestclassifier__n_estimators=100;, score=0.824 total time=   0.6s\n",
      "[CV 1/5] END randomforestclassifier__criterion=gini, randomforestclassifier__max_features=sqrt, randomforestclassifier__min_samples_leaf=15, randomforestclassifier__min_samples_split=2, randomforestclassifier__n_estimators=150;, score=0.832 total time=   1.0s\n",
      "[CV 2/5] END randomforestclassifier__criterion=gini, randomforestclassifier__max_features=sqrt, randomforestclassifier__min_samples_leaf=15, randomforestclassifier__min_samples_split=2, randomforestclassifier__n_estimators=150;, score=0.824 total time=   1.0s\n",
      "[CV 3/5] END randomforestclassifier__criterion=gini, randomforestclassifier__max_features=sqrt, randomforestclassifier__min_samples_leaf=15, randomforestclassifier__min_samples_split=2, randomforestclassifier__n_estimators=150;, score=0.801 total time=   1.0s\n",
      "[CV 4/5] END randomforestclassifier__criterion=gini, randomforestclassifier__max_features=sqrt, randomforestclassifier__min_samples_leaf=15, randomforestclassifier__min_samples_split=2, randomforestclassifier__n_estimators=150;, score=0.815 total time=   1.0s\n",
      "[CV 5/5] END randomforestclassifier__criterion=gini, randomforestclassifier__max_features=sqrt, randomforestclassifier__min_samples_leaf=15, randomforestclassifier__min_samples_split=2, randomforestclassifier__n_estimators=150;, score=0.828 total time=   0.9s\n",
      "[CV 1/5] END randomforestclassifier__criterion=gini, randomforestclassifier__max_features=sqrt, randomforestclassifier__min_samples_leaf=15, randomforestclassifier__min_samples_split=3, randomforestclassifier__n_estimators=50;, score=0.824 total time=   0.3s\n",
      "[CV 2/5] END randomforestclassifier__criterion=gini, randomforestclassifier__max_features=sqrt, randomforestclassifier__min_samples_leaf=15, randomforestclassifier__min_samples_split=3, randomforestclassifier__n_estimators=50;, score=0.820 total time=   0.3s\n",
      "[CV 3/5] END randomforestclassifier__criterion=gini, randomforestclassifier__max_features=sqrt, randomforestclassifier__min_samples_leaf=15, randomforestclassifier__min_samples_split=3, randomforestclassifier__n_estimators=50;, score=0.809 total time=   0.3s\n",
      "[CV 4/5] END randomforestclassifier__criterion=gini, randomforestclassifier__max_features=sqrt, randomforestclassifier__min_samples_leaf=15, randomforestclassifier__min_samples_split=3, randomforestclassifier__n_estimators=50;, score=0.819 total time=   0.3s\n",
      "[CV 5/5] END randomforestclassifier__criterion=gini, randomforestclassifier__max_features=sqrt, randomforestclassifier__min_samples_leaf=15, randomforestclassifier__min_samples_split=3, randomforestclassifier__n_estimators=50;, score=0.827 total time=   0.3s\n",
      "[CV 1/5] END randomforestclassifier__criterion=gini, randomforestclassifier__max_features=sqrt, randomforestclassifier__min_samples_leaf=15, randomforestclassifier__min_samples_split=3, randomforestclassifier__n_estimators=100;, score=0.829 total time=   0.6s\n",
      "[CV 2/5] END randomforestclassifier__criterion=gini, randomforestclassifier__max_features=sqrt, randomforestclassifier__min_samples_leaf=15, randomforestclassifier__min_samples_split=3, randomforestclassifier__n_estimators=100;, score=0.821 total time=   0.6s\n",
      "[CV 3/5] END randomforestclassifier__criterion=gini, randomforestclassifier__max_features=sqrt, randomforestclassifier__min_samples_leaf=15, randomforestclassifier__min_samples_split=3, randomforestclassifier__n_estimators=100;, score=0.798 total time=   0.6s\n",
      "[CV 4/5] END randomforestclassifier__criterion=gini, randomforestclassifier__max_features=sqrt, randomforestclassifier__min_samples_leaf=15, randomforestclassifier__min_samples_split=3, randomforestclassifier__n_estimators=100;, score=0.814 total time=   0.6s\n",
      "[CV 5/5] END randomforestclassifier__criterion=gini, randomforestclassifier__max_features=sqrt, randomforestclassifier__min_samples_leaf=15, randomforestclassifier__min_samples_split=3, randomforestclassifier__n_estimators=100;, score=0.824 total time=   0.7s\n",
      "[CV 1/5] END randomforestclassifier__criterion=gini, randomforestclassifier__max_features=sqrt, randomforestclassifier__min_samples_leaf=15, randomforestclassifier__min_samples_split=3, randomforestclassifier__n_estimators=150;, score=0.829 total time=   1.0s\n",
      "[CV 2/5] END randomforestclassifier__criterion=gini, randomforestclassifier__max_features=sqrt, randomforestclassifier__min_samples_leaf=15, randomforestclassifier__min_samples_split=3, randomforestclassifier__n_estimators=150;, score=0.819 total time=   1.0s\n",
      "[CV 3/5] END randomforestclassifier__criterion=gini, randomforestclassifier__max_features=sqrt, randomforestclassifier__min_samples_leaf=15, randomforestclassifier__min_samples_split=3, randomforestclassifier__n_estimators=150;, score=0.799 total time=   0.9s\n",
      "[CV 4/5] END randomforestclassifier__criterion=gini, randomforestclassifier__max_features=sqrt, randomforestclassifier__min_samples_leaf=15, randomforestclassifier__min_samples_split=3, randomforestclassifier__n_estimators=150;, score=0.819 total time=   0.9s\n",
      "[CV 5/5] END randomforestclassifier__criterion=gini, randomforestclassifier__max_features=sqrt, randomforestclassifier__min_samples_leaf=15, randomforestclassifier__min_samples_split=3, randomforestclassifier__n_estimators=150;, score=0.822 total time=   0.9s\n",
      "[CV 1/5] END randomforestclassifier__criterion=gini, randomforestclassifier__max_features=sqrt, randomforestclassifier__min_samples_leaf=15, randomforestclassifier__min_samples_split=4, randomforestclassifier__n_estimators=50;, score=0.831 total time=   0.3s\n",
      "[CV 2/5] END randomforestclassifier__criterion=gini, randomforestclassifier__max_features=sqrt, randomforestclassifier__min_samples_leaf=15, randomforestclassifier__min_samples_split=4, randomforestclassifier__n_estimators=50;, score=0.816 total time=   0.3s\n",
      "[CV 3/5] END randomforestclassifier__criterion=gini, randomforestclassifier__max_features=sqrt, randomforestclassifier__min_samples_leaf=15, randomforestclassifier__min_samples_split=4, randomforestclassifier__n_estimators=50;, score=0.798 total time=   0.3s\n",
      "[CV 4/5] END randomforestclassifier__criterion=gini, randomforestclassifier__max_features=sqrt, randomforestclassifier__min_samples_leaf=15, randomforestclassifier__min_samples_split=4, randomforestclassifier__n_estimators=50;, score=0.814 total time=   0.3s\n",
      "[CV 5/5] END randomforestclassifier__criterion=gini, randomforestclassifier__max_features=sqrt, randomforestclassifier__min_samples_leaf=15, randomforestclassifier__min_samples_split=4, randomforestclassifier__n_estimators=50;, score=0.824 total time=   0.3s\n",
      "[CV 1/5] END randomforestclassifier__criterion=gini, randomforestclassifier__max_features=sqrt, randomforestclassifier__min_samples_leaf=15, randomforestclassifier__min_samples_split=4, randomforestclassifier__n_estimators=100;, score=0.831 total time=   0.6s\n",
      "[CV 2/5] END randomforestclassifier__criterion=gini, randomforestclassifier__max_features=sqrt, randomforestclassifier__min_samples_leaf=15, randomforestclassifier__min_samples_split=4, randomforestclassifier__n_estimators=100;, score=0.813 total time=   0.7s\n",
      "[CV 3/5] END randomforestclassifier__criterion=gini, randomforestclassifier__max_features=sqrt, randomforestclassifier__min_samples_leaf=15, randomforestclassifier__min_samples_split=4, randomforestclassifier__n_estimators=100;, score=0.796 total time=   0.6s\n",
      "[CV 4/5] END randomforestclassifier__criterion=gini, randomforestclassifier__max_features=sqrt, randomforestclassifier__min_samples_leaf=15, randomforestclassifier__min_samples_split=4, randomforestclassifier__n_estimators=100;, score=0.814 total time=   0.6s\n",
      "[CV 5/5] END randomforestclassifier__criterion=gini, randomforestclassifier__max_features=sqrt, randomforestclassifier__min_samples_leaf=15, randomforestclassifier__min_samples_split=4, randomforestclassifier__n_estimators=100;, score=0.826 total time=   0.6s\n",
      "[CV 1/5] END randomforestclassifier__criterion=gini, randomforestclassifier__max_features=sqrt, randomforestclassifier__min_samples_leaf=15, randomforestclassifier__min_samples_split=4, randomforestclassifier__n_estimators=150;, score=0.834 total time=   0.9s\n",
      "[CV 2/5] END randomforestclassifier__criterion=gini, randomforestclassifier__max_features=sqrt, randomforestclassifier__min_samples_leaf=15, randomforestclassifier__min_samples_split=4, randomforestclassifier__n_estimators=150;, score=0.820 total time=   0.9s\n",
      "[CV 3/5] END randomforestclassifier__criterion=gini, randomforestclassifier__max_features=sqrt, randomforestclassifier__min_samples_leaf=15, randomforestclassifier__min_samples_split=4, randomforestclassifier__n_estimators=150;, score=0.803 total time=   0.9s\n",
      "[CV 4/5] END randomforestclassifier__criterion=gini, randomforestclassifier__max_features=sqrt, randomforestclassifier__min_samples_leaf=15, randomforestclassifier__min_samples_split=4, randomforestclassifier__n_estimators=150;, score=0.812 total time=   0.9s\n",
      "[CV 5/5] END randomforestclassifier__criterion=gini, randomforestclassifier__max_features=sqrt, randomforestclassifier__min_samples_leaf=15, randomforestclassifier__min_samples_split=4, randomforestclassifier__n_estimators=150;, score=0.829 total time=   0.9s\n",
      "[CV 1/5] END randomforestclassifier__criterion=gini, randomforestclassifier__max_features=0.33, randomforestclassifier__min_samples_leaf=1, randomforestclassifier__min_samples_split=2, randomforestclassifier__n_estimators=50;, score=0.838 total time=   0.4s\n",
      "[CV 2/5] END randomforestclassifier__criterion=gini, randomforestclassifier__max_features=0.33, randomforestclassifier__min_samples_leaf=1, randomforestclassifier__min_samples_split=2, randomforestclassifier__n_estimators=50;, score=0.841 total time=   0.4s\n",
      "[CV 3/5] END randomforestclassifier__criterion=gini, randomforestclassifier__max_features=0.33, randomforestclassifier__min_samples_leaf=1, randomforestclassifier__min_samples_split=2, randomforestclassifier__n_estimators=50;, score=0.833 total time=   0.4s\n",
      "[CV 4/5] END randomforestclassifier__criterion=gini, randomforestclassifier__max_features=0.33, randomforestclassifier__min_samples_leaf=1, randomforestclassifier__min_samples_split=2, randomforestclassifier__n_estimators=50;, score=0.831 total time=   0.5s\n",
      "[CV 5/5] END randomforestclassifier__criterion=gini, randomforestclassifier__max_features=0.33, randomforestclassifier__min_samples_leaf=1, randomforestclassifier__min_samples_split=2, randomforestclassifier__n_estimators=50;, score=0.844 total time=   0.5s\n",
      "[CV 1/5] END randomforestclassifier__criterion=gini, randomforestclassifier__max_features=0.33, randomforestclassifier__min_samples_leaf=1, randomforestclassifier__min_samples_split=2, randomforestclassifier__n_estimators=100;, score=0.846 total time=   0.9s\n",
      "[CV 2/5] END randomforestclassifier__criterion=gini, randomforestclassifier__max_features=0.33, randomforestclassifier__min_samples_leaf=1, randomforestclassifier__min_samples_split=2, randomforestclassifier__n_estimators=100;, score=0.841 total time=   1.0s\n",
      "[CV 3/5] END randomforestclassifier__criterion=gini, randomforestclassifier__max_features=0.33, randomforestclassifier__min_samples_leaf=1, randomforestclassifier__min_samples_split=2, randomforestclassifier__n_estimators=100;, score=0.834 total time=   0.9s\n",
      "[CV 4/5] END randomforestclassifier__criterion=gini, randomforestclassifier__max_features=0.33, randomforestclassifier__min_samples_leaf=1, randomforestclassifier__min_samples_split=2, randomforestclassifier__n_estimators=100;, score=0.834 total time=   0.9s\n",
      "[CV 5/5] END randomforestclassifier__criterion=gini, randomforestclassifier__max_features=0.33, randomforestclassifier__min_samples_leaf=1, randomforestclassifier__min_samples_split=2, randomforestclassifier__n_estimators=100;, score=0.841 total time=   0.9s\n",
      "[CV 1/5] END randomforestclassifier__criterion=gini, randomforestclassifier__max_features=0.33, randomforestclassifier__min_samples_leaf=1, randomforestclassifier__min_samples_split=2, randomforestclassifier__n_estimators=150;, score=0.844 total time=   1.4s\n",
      "[CV 2/5] END randomforestclassifier__criterion=gini, randomforestclassifier__max_features=0.33, randomforestclassifier__min_samples_leaf=1, randomforestclassifier__min_samples_split=2, randomforestclassifier__n_estimators=150;, score=0.842 total time=   1.4s\n",
      "[CV 3/5] END randomforestclassifier__criterion=gini, randomforestclassifier__max_features=0.33, randomforestclassifier__min_samples_leaf=1, randomforestclassifier__min_samples_split=2, randomforestclassifier__n_estimators=150;, score=0.831 total time=   1.4s\n",
      "[CV 4/5] END randomforestclassifier__criterion=gini, randomforestclassifier__max_features=0.33, randomforestclassifier__min_samples_leaf=1, randomforestclassifier__min_samples_split=2, randomforestclassifier__n_estimators=150;, score=0.843 total time=   1.4s\n",
      "[CV 5/5] END randomforestclassifier__criterion=gini, randomforestclassifier__max_features=0.33, randomforestclassifier__min_samples_leaf=1, randomforestclassifier__min_samples_split=2, randomforestclassifier__n_estimators=150;, score=0.844 total time=   1.4s\n",
      "[CV 1/5] END randomforestclassifier__criterion=gini, randomforestclassifier__max_features=0.33, randomforestclassifier__min_samples_leaf=1, randomforestclassifier__min_samples_split=3, randomforestclassifier__n_estimators=50;, score=0.833 total time=   0.4s\n",
      "[CV 2/5] END randomforestclassifier__criterion=gini, randomforestclassifier__max_features=0.33, randomforestclassifier__min_samples_leaf=1, randomforestclassifier__min_samples_split=3, randomforestclassifier__n_estimators=50;, score=0.838 total time=   0.4s\n",
      "[CV 3/5] END randomforestclassifier__criterion=gini, randomforestclassifier__max_features=0.33, randomforestclassifier__min_samples_leaf=1, randomforestclassifier__min_samples_split=3, randomforestclassifier__n_estimators=50;, score=0.831 total time=   0.4s\n",
      "[CV 4/5] END randomforestclassifier__criterion=gini, randomforestclassifier__max_features=0.33, randomforestclassifier__min_samples_leaf=1, randomforestclassifier__min_samples_split=3, randomforestclassifier__n_estimators=50;, score=0.835 total time=   0.4s\n",
      "[CV 5/5] END randomforestclassifier__criterion=gini, randomforestclassifier__max_features=0.33, randomforestclassifier__min_samples_leaf=1, randomforestclassifier__min_samples_split=3, randomforestclassifier__n_estimators=50;, score=0.834 total time=   0.4s\n",
      "[CV 1/5] END randomforestclassifier__criterion=gini, randomforestclassifier__max_features=0.33, randomforestclassifier__min_samples_leaf=1, randomforestclassifier__min_samples_split=3, randomforestclassifier__n_estimators=100;, score=0.837 total time=   0.9s\n",
      "[CV 2/5] END randomforestclassifier__criterion=gini, randomforestclassifier__max_features=0.33, randomforestclassifier__min_samples_leaf=1, randomforestclassifier__min_samples_split=3, randomforestclassifier__n_estimators=100;, score=0.835 total time=   0.9s\n",
      "[CV 3/5] END randomforestclassifier__criterion=gini, randomforestclassifier__max_features=0.33, randomforestclassifier__min_samples_leaf=1, randomforestclassifier__min_samples_split=3, randomforestclassifier__n_estimators=100;, score=0.828 total time=   0.9s\n",
      "[CV 4/5] END randomforestclassifier__criterion=gini, randomforestclassifier__max_features=0.33, randomforestclassifier__min_samples_leaf=1, randomforestclassifier__min_samples_split=3, randomforestclassifier__n_estimators=100;, score=0.837 total time=   0.9s\n",
      "[CV 5/5] END randomforestclassifier__criterion=gini, randomforestclassifier__max_features=0.33, randomforestclassifier__min_samples_leaf=1, randomforestclassifier__min_samples_split=3, randomforestclassifier__n_estimators=100;, score=0.839 total time=   0.9s\n",
      "[CV 1/5] END randomforestclassifier__criterion=gini, randomforestclassifier__max_features=0.33, randomforestclassifier__min_samples_leaf=1, randomforestclassifier__min_samples_split=3, randomforestclassifier__n_estimators=150;, score=0.844 total time=   1.4s\n",
      "[CV 2/5] END randomforestclassifier__criterion=gini, randomforestclassifier__max_features=0.33, randomforestclassifier__min_samples_leaf=1, randomforestclassifier__min_samples_split=3, randomforestclassifier__n_estimators=150;, score=0.833 total time=   1.4s\n",
      "[CV 3/5] END randomforestclassifier__criterion=gini, randomforestclassifier__max_features=0.33, randomforestclassifier__min_samples_leaf=1, randomforestclassifier__min_samples_split=3, randomforestclassifier__n_estimators=150;, score=0.826 total time=   1.4s\n",
      "[CV 4/5] END randomforestclassifier__criterion=gini, randomforestclassifier__max_features=0.33, randomforestclassifier__min_samples_leaf=1, randomforestclassifier__min_samples_split=3, randomforestclassifier__n_estimators=150;, score=0.835 total time=   1.3s\n",
      "[CV 5/5] END randomforestclassifier__criterion=gini, randomforestclassifier__max_features=0.33, randomforestclassifier__min_samples_leaf=1, randomforestclassifier__min_samples_split=3, randomforestclassifier__n_estimators=150;, score=0.842 total time=   1.4s\n",
      "[CV 1/5] END randomforestclassifier__criterion=gini, randomforestclassifier__max_features=0.33, randomforestclassifier__min_samples_leaf=1, randomforestclassifier__min_samples_split=4, randomforestclassifier__n_estimators=50;, score=0.845 total time=   0.4s\n",
      "[CV 2/5] END randomforestclassifier__criterion=gini, randomforestclassifier__max_features=0.33, randomforestclassifier__min_samples_leaf=1, randomforestclassifier__min_samples_split=4, randomforestclassifier__n_estimators=50;, score=0.832 total time=   0.4s\n",
      "[CV 3/5] END randomforestclassifier__criterion=gini, randomforestclassifier__max_features=0.33, randomforestclassifier__min_samples_leaf=1, randomforestclassifier__min_samples_split=4, randomforestclassifier__n_estimators=50;, score=0.824 total time=   0.4s\n",
      "[CV 4/5] END randomforestclassifier__criterion=gini, randomforestclassifier__max_features=0.33, randomforestclassifier__min_samples_leaf=1, randomforestclassifier__min_samples_split=4, randomforestclassifier__n_estimators=50;, score=0.837 total time=   0.4s\n",
      "[CV 5/5] END randomforestclassifier__criterion=gini, randomforestclassifier__max_features=0.33, randomforestclassifier__min_samples_leaf=1, randomforestclassifier__min_samples_split=4, randomforestclassifier__n_estimators=50;, score=0.848 total time=   0.4s\n",
      "[CV 1/5] END randomforestclassifier__criterion=gini, randomforestclassifier__max_features=0.33, randomforestclassifier__min_samples_leaf=1, randomforestclassifier__min_samples_split=4, randomforestclassifier__n_estimators=100;, score=0.838 total time=   0.9s\n",
      "[CV 2/5] END randomforestclassifier__criterion=gini, randomforestclassifier__max_features=0.33, randomforestclassifier__min_samples_leaf=1, randomforestclassifier__min_samples_split=4, randomforestclassifier__n_estimators=100;, score=0.836 total time=   0.9s\n",
      "[CV 3/5] END randomforestclassifier__criterion=gini, randomforestclassifier__max_features=0.33, randomforestclassifier__min_samples_leaf=1, randomforestclassifier__min_samples_split=4, randomforestclassifier__n_estimators=100;, score=0.831 total time=   0.9s\n",
      "[CV 4/5] END randomforestclassifier__criterion=gini, randomforestclassifier__max_features=0.33, randomforestclassifier__min_samples_leaf=1, randomforestclassifier__min_samples_split=4, randomforestclassifier__n_estimators=100;, score=0.833 total time=   1.0s\n",
      "[CV 5/5] END randomforestclassifier__criterion=gini, randomforestclassifier__max_features=0.33, randomforestclassifier__min_samples_leaf=1, randomforestclassifier__min_samples_split=4, randomforestclassifier__n_estimators=100;, score=0.847 total time=   0.9s\n",
      "[CV 1/5] END randomforestclassifier__criterion=gini, randomforestclassifier__max_features=0.33, randomforestclassifier__min_samples_leaf=1, randomforestclassifier__min_samples_split=4, randomforestclassifier__n_estimators=150;, score=0.844 total time=   1.4s\n",
      "[CV 2/5] END randomforestclassifier__criterion=gini, randomforestclassifier__max_features=0.33, randomforestclassifier__min_samples_leaf=1, randomforestclassifier__min_samples_split=4, randomforestclassifier__n_estimators=150;, score=0.839 total time=   1.4s\n",
      "[CV 3/5] END randomforestclassifier__criterion=gini, randomforestclassifier__max_features=0.33, randomforestclassifier__min_samples_leaf=1, randomforestclassifier__min_samples_split=4, randomforestclassifier__n_estimators=150;, score=0.825 total time=   1.3s\n",
      "[CV 4/5] END randomforestclassifier__criterion=gini, randomforestclassifier__max_features=0.33, randomforestclassifier__min_samples_leaf=1, randomforestclassifier__min_samples_split=4, randomforestclassifier__n_estimators=150;, score=0.837 total time=   1.3s\n",
      "[CV 5/5] END randomforestclassifier__criterion=gini, randomforestclassifier__max_features=0.33, randomforestclassifier__min_samples_leaf=1, randomforestclassifier__min_samples_split=4, randomforestclassifier__n_estimators=150;, score=0.850 total time=   1.4s\n",
      "[CV 1/5] END randomforestclassifier__criterion=gini, randomforestclassifier__max_features=0.33, randomforestclassifier__min_samples_leaf=5, randomforestclassifier__min_samples_split=2, randomforestclassifier__n_estimators=50;, score=0.834 total time=   0.4s\n",
      "[CV 2/5] END randomforestclassifier__criterion=gini, randomforestclassifier__max_features=0.33, randomforestclassifier__min_samples_leaf=5, randomforestclassifier__min_samples_split=2, randomforestclassifier__n_estimators=50;, score=0.826 total time=   0.4s\n",
      "[CV 3/5] END randomforestclassifier__criterion=gini, randomforestclassifier__max_features=0.33, randomforestclassifier__min_samples_leaf=5, randomforestclassifier__min_samples_split=2, randomforestclassifier__n_estimators=50;, score=0.812 total time=   0.4s\n",
      "[CV 4/5] END randomforestclassifier__criterion=gini, randomforestclassifier__max_features=0.33, randomforestclassifier__min_samples_leaf=5, randomforestclassifier__min_samples_split=2, randomforestclassifier__n_estimators=50;, score=0.826 total time=   0.4s\n",
      "[CV 5/5] END randomforestclassifier__criterion=gini, randomforestclassifier__max_features=0.33, randomforestclassifier__min_samples_leaf=5, randomforestclassifier__min_samples_split=2, randomforestclassifier__n_estimators=50;, score=0.840 total time=   0.4s\n",
      "[CV 1/5] END randomforestclassifier__criterion=gini, randomforestclassifier__max_features=0.33, randomforestclassifier__min_samples_leaf=5, randomforestclassifier__min_samples_split=2, randomforestclassifier__n_estimators=100;, score=0.840 total time=   0.9s\n",
      "[CV 2/5] END randomforestclassifier__criterion=gini, randomforestclassifier__max_features=0.33, randomforestclassifier__min_samples_leaf=5, randomforestclassifier__min_samples_split=2, randomforestclassifier__n_estimators=100;, score=0.830 total time=   1.0s\n",
      "[CV 3/5] END randomforestclassifier__criterion=gini, randomforestclassifier__max_features=0.33, randomforestclassifier__min_samples_leaf=5, randomforestclassifier__min_samples_split=2, randomforestclassifier__n_estimators=100;, score=0.814 total time=   1.1s\n",
      "[CV 4/5] END randomforestclassifier__criterion=gini, randomforestclassifier__max_features=0.33, randomforestclassifier__min_samples_leaf=5, randomforestclassifier__min_samples_split=2, randomforestclassifier__n_estimators=100;, score=0.832 total time=   1.0s\n",
      "[CV 5/5] END randomforestclassifier__criterion=gini, randomforestclassifier__max_features=0.33, randomforestclassifier__min_samples_leaf=5, randomforestclassifier__min_samples_split=2, randomforestclassifier__n_estimators=100;, score=0.842 total time=   0.8s\n",
      "[CV 1/5] END randomforestclassifier__criterion=gini, randomforestclassifier__max_features=0.33, randomforestclassifier__min_samples_leaf=5, randomforestclassifier__min_samples_split=2, randomforestclassifier__n_estimators=150;, score=0.837 total time=   1.4s\n",
      "[CV 2/5] END randomforestclassifier__criterion=gini, randomforestclassifier__max_features=0.33, randomforestclassifier__min_samples_leaf=5, randomforestclassifier__min_samples_split=2, randomforestclassifier__n_estimators=150;, score=0.833 total time=   1.3s\n",
      "[CV 3/5] END randomforestclassifier__criterion=gini, randomforestclassifier__max_features=0.33, randomforestclassifier__min_samples_leaf=5, randomforestclassifier__min_samples_split=2, randomforestclassifier__n_estimators=150;, score=0.811 total time=   1.3s\n",
      "[CV 4/5] END randomforestclassifier__criterion=gini, randomforestclassifier__max_features=0.33, randomforestclassifier__min_samples_leaf=5, randomforestclassifier__min_samples_split=2, randomforestclassifier__n_estimators=150;, score=0.829 total time=   1.3s\n",
      "[CV 5/5] END randomforestclassifier__criterion=gini, randomforestclassifier__max_features=0.33, randomforestclassifier__min_samples_leaf=5, randomforestclassifier__min_samples_split=2, randomforestclassifier__n_estimators=150;, score=0.838 total time=   1.4s\n",
      "[CV 1/5] END randomforestclassifier__criterion=gini, randomforestclassifier__max_features=0.33, randomforestclassifier__min_samples_leaf=5, randomforestclassifier__min_samples_split=3, randomforestclassifier__n_estimators=50;, score=0.831 total time=   0.4s\n",
      "[CV 2/5] END randomforestclassifier__criterion=gini, randomforestclassifier__max_features=0.33, randomforestclassifier__min_samples_leaf=5, randomforestclassifier__min_samples_split=3, randomforestclassifier__n_estimators=50;, score=0.827 total time=   0.4s\n",
      "[CV 3/5] END randomforestclassifier__criterion=gini, randomforestclassifier__max_features=0.33, randomforestclassifier__min_samples_leaf=5, randomforestclassifier__min_samples_split=3, randomforestclassifier__n_estimators=50;, score=0.815 total time=   0.4s\n",
      "[CV 4/5] END randomforestclassifier__criterion=gini, randomforestclassifier__max_features=0.33, randomforestclassifier__min_samples_leaf=5, randomforestclassifier__min_samples_split=3, randomforestclassifier__n_estimators=50;, score=0.831 total time=   0.4s\n",
      "[CV 5/5] END randomforestclassifier__criterion=gini, randomforestclassifier__max_features=0.33, randomforestclassifier__min_samples_leaf=5, randomforestclassifier__min_samples_split=3, randomforestclassifier__n_estimators=50;, score=0.838 total time=   0.4s\n",
      "[CV 1/5] END randomforestclassifier__criterion=gini, randomforestclassifier__max_features=0.33, randomforestclassifier__min_samples_leaf=5, randomforestclassifier__min_samples_split=3, randomforestclassifier__n_estimators=100;, score=0.844 total time=   0.9s\n",
      "[CV 2/5] END randomforestclassifier__criterion=gini, randomforestclassifier__max_features=0.33, randomforestclassifier__min_samples_leaf=5, randomforestclassifier__min_samples_split=3, randomforestclassifier__n_estimators=100;, score=0.832 total time=   0.9s\n",
      "[CV 3/5] END randomforestclassifier__criterion=gini, randomforestclassifier__max_features=0.33, randomforestclassifier__min_samples_leaf=5, randomforestclassifier__min_samples_split=3, randomforestclassifier__n_estimators=100;, score=0.814 total time=   0.9s\n",
      "[CV 4/5] END randomforestclassifier__criterion=gini, randomforestclassifier__max_features=0.33, randomforestclassifier__min_samples_leaf=5, randomforestclassifier__min_samples_split=3, randomforestclassifier__n_estimators=100;, score=0.829 total time=   0.9s\n",
      "[CV 5/5] END randomforestclassifier__criterion=gini, randomforestclassifier__max_features=0.33, randomforestclassifier__min_samples_leaf=5, randomforestclassifier__min_samples_split=3, randomforestclassifier__n_estimators=100;, score=0.842 total time=   0.9s\n",
      "[CV 1/5] END randomforestclassifier__criterion=gini, randomforestclassifier__max_features=0.33, randomforestclassifier__min_samples_leaf=5, randomforestclassifier__min_samples_split=3, randomforestclassifier__n_estimators=150;, score=0.843 total time=   1.4s\n",
      "[CV 2/5] END randomforestclassifier__criterion=gini, randomforestclassifier__max_features=0.33, randomforestclassifier__min_samples_leaf=5, randomforestclassifier__min_samples_split=3, randomforestclassifier__n_estimators=150;, score=0.835 total time=   1.3s\n",
      "[CV 3/5] END randomforestclassifier__criterion=gini, randomforestclassifier__max_features=0.33, randomforestclassifier__min_samples_leaf=5, randomforestclassifier__min_samples_split=3, randomforestclassifier__n_estimators=150;, score=0.815 total time=   1.3s\n",
      "[CV 4/5] END randomforestclassifier__criterion=gini, randomforestclassifier__max_features=0.33, randomforestclassifier__min_samples_leaf=5, randomforestclassifier__min_samples_split=3, randomforestclassifier__n_estimators=150;, score=0.834 total time=   1.3s\n",
      "[CV 5/5] END randomforestclassifier__criterion=gini, randomforestclassifier__max_features=0.33, randomforestclassifier__min_samples_leaf=5, randomforestclassifier__min_samples_split=3, randomforestclassifier__n_estimators=150;, score=0.844 total time=   1.3s\n",
      "[CV 1/5] END randomforestclassifier__criterion=gini, randomforestclassifier__max_features=0.33, randomforestclassifier__min_samples_leaf=5, randomforestclassifier__min_samples_split=4, randomforestclassifier__n_estimators=50;, score=0.839 total time=   0.4s\n",
      "[CV 2/5] END randomforestclassifier__criterion=gini, randomforestclassifier__max_features=0.33, randomforestclassifier__min_samples_leaf=5, randomforestclassifier__min_samples_split=4, randomforestclassifier__n_estimators=50;, score=0.832 total time=   0.4s\n",
      "[CV 3/5] END randomforestclassifier__criterion=gini, randomforestclassifier__max_features=0.33, randomforestclassifier__min_samples_leaf=5, randomforestclassifier__min_samples_split=4, randomforestclassifier__n_estimators=50;, score=0.820 total time=   0.4s\n",
      "[CV 4/5] END randomforestclassifier__criterion=gini, randomforestclassifier__max_features=0.33, randomforestclassifier__min_samples_leaf=5, randomforestclassifier__min_samples_split=4, randomforestclassifier__n_estimators=50;, score=0.829 total time=   0.4s\n",
      "[CV 5/5] END randomforestclassifier__criterion=gini, randomforestclassifier__max_features=0.33, randomforestclassifier__min_samples_leaf=5, randomforestclassifier__min_samples_split=4, randomforestclassifier__n_estimators=50;, score=0.839 total time=   0.4s\n",
      "[CV 1/5] END randomforestclassifier__criterion=gini, randomforestclassifier__max_features=0.33, randomforestclassifier__min_samples_leaf=5, randomforestclassifier__min_samples_split=4, randomforestclassifier__n_estimators=100;, score=0.844 total time=   0.8s\n",
      "[CV 2/5] END randomforestclassifier__criterion=gini, randomforestclassifier__max_features=0.33, randomforestclassifier__min_samples_leaf=5, randomforestclassifier__min_samples_split=4, randomforestclassifier__n_estimators=100;, score=0.834 total time=   0.8s\n",
      "[CV 3/5] END randomforestclassifier__criterion=gini, randomforestclassifier__max_features=0.33, randomforestclassifier__min_samples_leaf=5, randomforestclassifier__min_samples_split=4, randomforestclassifier__n_estimators=100;, score=0.810 total time=   0.9s\n",
      "[CV 4/5] END randomforestclassifier__criterion=gini, randomforestclassifier__max_features=0.33, randomforestclassifier__min_samples_leaf=5, randomforestclassifier__min_samples_split=4, randomforestclassifier__n_estimators=100;, score=0.831 total time=   0.8s\n",
      "[CV 5/5] END randomforestclassifier__criterion=gini, randomforestclassifier__max_features=0.33, randomforestclassifier__min_samples_leaf=5, randomforestclassifier__min_samples_split=4, randomforestclassifier__n_estimators=100;, score=0.841 total time=   0.8s\n",
      "[CV 1/5] END randomforestclassifier__criterion=gini, randomforestclassifier__max_features=0.33, randomforestclassifier__min_samples_leaf=5, randomforestclassifier__min_samples_split=4, randomforestclassifier__n_estimators=150;, score=0.836 total time=   1.3s\n",
      "[CV 2/5] END randomforestclassifier__criterion=gini, randomforestclassifier__max_features=0.33, randomforestclassifier__min_samples_leaf=5, randomforestclassifier__min_samples_split=4, randomforestclassifier__n_estimators=150;, score=0.835 total time=   1.3s\n",
      "[CV 3/5] END randomforestclassifier__criterion=gini, randomforestclassifier__max_features=0.33, randomforestclassifier__min_samples_leaf=5, randomforestclassifier__min_samples_split=4, randomforestclassifier__n_estimators=150;, score=0.816 total time=   1.3s\n",
      "[CV 4/5] END randomforestclassifier__criterion=gini, randomforestclassifier__max_features=0.33, randomforestclassifier__min_samples_leaf=5, randomforestclassifier__min_samples_split=4, randomforestclassifier__n_estimators=150;, score=0.825 total time=   1.3s\n",
      "[CV 5/5] END randomforestclassifier__criterion=gini, randomforestclassifier__max_features=0.33, randomforestclassifier__min_samples_leaf=5, randomforestclassifier__min_samples_split=4, randomforestclassifier__n_estimators=150;, score=0.841 total time=   1.3s\n",
      "[CV 1/5] END randomforestclassifier__criterion=gini, randomforestclassifier__max_features=0.33, randomforestclassifier__min_samples_leaf=10, randomforestclassifier__min_samples_split=2, randomforestclassifier__n_estimators=50;, score=0.837 total time=   0.4s\n",
      "[CV 2/5] END randomforestclassifier__criterion=gini, randomforestclassifier__max_features=0.33, randomforestclassifier__min_samples_leaf=10, randomforestclassifier__min_samples_split=2, randomforestclassifier__n_estimators=50;, score=0.826 total time=   0.4s\n",
      "[CV 3/5] END randomforestclassifier__criterion=gini, randomforestclassifier__max_features=0.33, randomforestclassifier__min_samples_leaf=10, randomforestclassifier__min_samples_split=2, randomforestclassifier__n_estimators=50;, score=0.805 total time=   0.3s\n",
      "[CV 4/5] END randomforestclassifier__criterion=gini, randomforestclassifier__max_features=0.33, randomforestclassifier__min_samples_leaf=10, randomforestclassifier__min_samples_split=2, randomforestclassifier__n_estimators=50;, score=0.823 total time=   0.3s\n",
      "[CV 5/5] END randomforestclassifier__criterion=gini, randomforestclassifier__max_features=0.33, randomforestclassifier__min_samples_leaf=10, randomforestclassifier__min_samples_split=2, randomforestclassifier__n_estimators=50;, score=0.830 total time=   0.3s\n",
      "[CV 1/5] END randomforestclassifier__criterion=gini, randomforestclassifier__max_features=0.33, randomforestclassifier__min_samples_leaf=10, randomforestclassifier__min_samples_split=2, randomforestclassifier__n_estimators=100;, score=0.830 total time=   0.8s\n",
      "[CV 2/5] END randomforestclassifier__criterion=gini, randomforestclassifier__max_features=0.33, randomforestclassifier__min_samples_leaf=10, randomforestclassifier__min_samples_split=2, randomforestclassifier__n_estimators=100;, score=0.823 total time=   0.8s\n",
      "[CV 3/5] END randomforestclassifier__criterion=gini, randomforestclassifier__max_features=0.33, randomforestclassifier__min_samples_leaf=10, randomforestclassifier__min_samples_split=2, randomforestclassifier__n_estimators=100;, score=0.801 total time=   0.7s\n",
      "[CV 4/5] END randomforestclassifier__criterion=gini, randomforestclassifier__max_features=0.33, randomforestclassifier__min_samples_leaf=10, randomforestclassifier__min_samples_split=2, randomforestclassifier__n_estimators=100;, score=0.824 total time=   0.8s\n",
      "[CV 5/5] END randomforestclassifier__criterion=gini, randomforestclassifier__max_features=0.33, randomforestclassifier__min_samples_leaf=10, randomforestclassifier__min_samples_split=2, randomforestclassifier__n_estimators=100;, score=0.832 total time=   0.8s\n",
      "[CV 1/5] END randomforestclassifier__criterion=gini, randomforestclassifier__max_features=0.33, randomforestclassifier__min_samples_leaf=10, randomforestclassifier__min_samples_split=2, randomforestclassifier__n_estimators=150;, score=0.837 total time=   1.2s\n",
      "[CV 2/5] END randomforestclassifier__criterion=gini, randomforestclassifier__max_features=0.33, randomforestclassifier__min_samples_leaf=10, randomforestclassifier__min_samples_split=2, randomforestclassifier__n_estimators=150;, score=0.822 total time=   1.2s\n",
      "[CV 3/5] END randomforestclassifier__criterion=gini, randomforestclassifier__max_features=0.33, randomforestclassifier__min_samples_leaf=10, randomforestclassifier__min_samples_split=2, randomforestclassifier__n_estimators=150;, score=0.805 total time=   1.2s\n",
      "[CV 4/5] END randomforestclassifier__criterion=gini, randomforestclassifier__max_features=0.33, randomforestclassifier__min_samples_leaf=10, randomforestclassifier__min_samples_split=2, randomforestclassifier__n_estimators=150;, score=0.824 total time=   1.2s\n",
      "[CV 5/5] END randomforestclassifier__criterion=gini, randomforestclassifier__max_features=0.33, randomforestclassifier__min_samples_leaf=10, randomforestclassifier__min_samples_split=2, randomforestclassifier__n_estimators=150;, score=0.838 total time=   1.2s\n",
      "[CV 1/5] END randomforestclassifier__criterion=gini, randomforestclassifier__max_features=0.33, randomforestclassifier__min_samples_leaf=10, randomforestclassifier__min_samples_split=3, randomforestclassifier__n_estimators=50;, score=0.832 total time=   0.3s\n",
      "[CV 2/5] END randomforestclassifier__criterion=gini, randomforestclassifier__max_features=0.33, randomforestclassifier__min_samples_leaf=10, randomforestclassifier__min_samples_split=3, randomforestclassifier__n_estimators=50;, score=0.829 total time=   0.3s\n",
      "[CV 3/5] END randomforestclassifier__criterion=gini, randomforestclassifier__max_features=0.33, randomforestclassifier__min_samples_leaf=10, randomforestclassifier__min_samples_split=3, randomforestclassifier__n_estimators=50;, score=0.806 total time=   0.3s\n",
      "[CV 4/5] END randomforestclassifier__criterion=gini, randomforestclassifier__max_features=0.33, randomforestclassifier__min_samples_leaf=10, randomforestclassifier__min_samples_split=3, randomforestclassifier__n_estimators=50;, score=0.823 total time=   0.3s\n",
      "[CV 5/5] END randomforestclassifier__criterion=gini, randomforestclassifier__max_features=0.33, randomforestclassifier__min_samples_leaf=10, randomforestclassifier__min_samples_split=3, randomforestclassifier__n_estimators=50;, score=0.834 total time=   0.3s\n",
      "[CV 1/5] END randomforestclassifier__criterion=gini, randomforestclassifier__max_features=0.33, randomforestclassifier__min_samples_leaf=10, randomforestclassifier__min_samples_split=3, randomforestclassifier__n_estimators=100;, score=0.836 total time=   0.8s\n",
      "[CV 2/5] END randomforestclassifier__criterion=gini, randomforestclassifier__max_features=0.33, randomforestclassifier__min_samples_leaf=10, randomforestclassifier__min_samples_split=3, randomforestclassifier__n_estimators=100;, score=0.822 total time=   0.7s\n",
      "[CV 3/5] END randomforestclassifier__criterion=gini, randomforestclassifier__max_features=0.33, randomforestclassifier__min_samples_leaf=10, randomforestclassifier__min_samples_split=3, randomforestclassifier__n_estimators=100;, score=0.806 total time=   0.8s\n",
      "[CV 4/5] END randomforestclassifier__criterion=gini, randomforestclassifier__max_features=0.33, randomforestclassifier__min_samples_leaf=10, randomforestclassifier__min_samples_split=3, randomforestclassifier__n_estimators=100;, score=0.822 total time=   0.7s\n",
      "[CV 5/5] END randomforestclassifier__criterion=gini, randomforestclassifier__max_features=0.33, randomforestclassifier__min_samples_leaf=10, randomforestclassifier__min_samples_split=3, randomforestclassifier__n_estimators=100;, score=0.837 total time=   0.7s\n",
      "[CV 1/5] END randomforestclassifier__criterion=gini, randomforestclassifier__max_features=0.33, randomforestclassifier__min_samples_leaf=10, randomforestclassifier__min_samples_split=3, randomforestclassifier__n_estimators=150;, score=0.835 total time=   1.2s\n",
      "[CV 2/5] END randomforestclassifier__criterion=gini, randomforestclassifier__max_features=0.33, randomforestclassifier__min_samples_leaf=10, randomforestclassifier__min_samples_split=3, randomforestclassifier__n_estimators=150;, score=0.824 total time=   1.1s\n",
      "[CV 3/5] END randomforestclassifier__criterion=gini, randomforestclassifier__max_features=0.33, randomforestclassifier__min_samples_leaf=10, randomforestclassifier__min_samples_split=3, randomforestclassifier__n_estimators=150;, score=0.803 total time=   1.2s\n",
      "[CV 4/5] END randomforestclassifier__criterion=gini, randomforestclassifier__max_features=0.33, randomforestclassifier__min_samples_leaf=10, randomforestclassifier__min_samples_split=3, randomforestclassifier__n_estimators=150;, score=0.825 total time=   1.3s\n",
      "[CV 5/5] END randomforestclassifier__criterion=gini, randomforestclassifier__max_features=0.33, randomforestclassifier__min_samples_leaf=10, randomforestclassifier__min_samples_split=3, randomforestclassifier__n_estimators=150;, score=0.833 total time=   1.2s\n",
      "[CV 1/5] END randomforestclassifier__criterion=gini, randomforestclassifier__max_features=0.33, randomforestclassifier__min_samples_leaf=10, randomforestclassifier__min_samples_split=4, randomforestclassifier__n_estimators=50;, score=0.832 total time=   0.3s\n",
      "[CV 2/5] END randomforestclassifier__criterion=gini, randomforestclassifier__max_features=0.33, randomforestclassifier__min_samples_leaf=10, randomforestclassifier__min_samples_split=4, randomforestclassifier__n_estimators=50;, score=0.819 total time=   0.3s\n",
      "[CV 3/5] END randomforestclassifier__criterion=gini, randomforestclassifier__max_features=0.33, randomforestclassifier__min_samples_leaf=10, randomforestclassifier__min_samples_split=4, randomforestclassifier__n_estimators=50;, score=0.810 total time=   0.3s\n",
      "[CV 4/5] END randomforestclassifier__criterion=gini, randomforestclassifier__max_features=0.33, randomforestclassifier__min_samples_leaf=10, randomforestclassifier__min_samples_split=4, randomforestclassifier__n_estimators=50;, score=0.822 total time=   0.3s\n",
      "[CV 5/5] END randomforestclassifier__criterion=gini, randomforestclassifier__max_features=0.33, randomforestclassifier__min_samples_leaf=10, randomforestclassifier__min_samples_split=4, randomforestclassifier__n_estimators=50;, score=0.833 total time=   0.3s\n",
      "[CV 1/5] END randomforestclassifier__criterion=gini, randomforestclassifier__max_features=0.33, randomforestclassifier__min_samples_leaf=10, randomforestclassifier__min_samples_split=4, randomforestclassifier__n_estimators=100;, score=0.832 total time=   0.7s\n",
      "[CV 2/5] END randomforestclassifier__criterion=gini, randomforestclassifier__max_features=0.33, randomforestclassifier__min_samples_leaf=10, randomforestclassifier__min_samples_split=4, randomforestclassifier__n_estimators=100;, score=0.826 total time=   0.7s\n",
      "[CV 3/5] END randomforestclassifier__criterion=gini, randomforestclassifier__max_features=0.33, randomforestclassifier__min_samples_leaf=10, randomforestclassifier__min_samples_split=4, randomforestclassifier__n_estimators=100;, score=0.805 total time=   0.8s\n",
      "[CV 4/5] END randomforestclassifier__criterion=gini, randomforestclassifier__max_features=0.33, randomforestclassifier__min_samples_leaf=10, randomforestclassifier__min_samples_split=4, randomforestclassifier__n_estimators=100;, score=0.819 total time=   0.8s\n",
      "[CV 5/5] END randomforestclassifier__criterion=gini, randomforestclassifier__max_features=0.33, randomforestclassifier__min_samples_leaf=10, randomforestclassifier__min_samples_split=4, randomforestclassifier__n_estimators=100;, score=0.836 total time=   0.7s\n",
      "[CV 1/5] END randomforestclassifier__criterion=gini, randomforestclassifier__max_features=0.33, randomforestclassifier__min_samples_leaf=10, randomforestclassifier__min_samples_split=4, randomforestclassifier__n_estimators=150;, score=0.837 total time=   1.1s\n",
      "[CV 2/5] END randomforestclassifier__criterion=gini, randomforestclassifier__max_features=0.33, randomforestclassifier__min_samples_leaf=10, randomforestclassifier__min_samples_split=4, randomforestclassifier__n_estimators=150;, score=0.821 total time=   1.1s\n",
      "[CV 3/5] END randomforestclassifier__criterion=gini, randomforestclassifier__max_features=0.33, randomforestclassifier__min_samples_leaf=10, randomforestclassifier__min_samples_split=4, randomforestclassifier__n_estimators=150;, score=0.806 total time=   1.2s\n",
      "[CV 4/5] END randomforestclassifier__criterion=gini, randomforestclassifier__max_features=0.33, randomforestclassifier__min_samples_leaf=10, randomforestclassifier__min_samples_split=4, randomforestclassifier__n_estimators=150;, score=0.825 total time=   1.2s\n",
      "[CV 5/5] END randomforestclassifier__criterion=gini, randomforestclassifier__max_features=0.33, randomforestclassifier__min_samples_leaf=10, randomforestclassifier__min_samples_split=4, randomforestclassifier__n_estimators=150;, score=0.841 total time=   1.1s\n",
      "[CV 1/5] END randomforestclassifier__criterion=gini, randomforestclassifier__max_features=0.33, randomforestclassifier__min_samples_leaf=15, randomforestclassifier__min_samples_split=2, randomforestclassifier__n_estimators=50;, score=0.838 total time=   0.3s\n",
      "[CV 2/5] END randomforestclassifier__criterion=gini, randomforestclassifier__max_features=0.33, randomforestclassifier__min_samples_leaf=15, randomforestclassifier__min_samples_split=2, randomforestclassifier__n_estimators=50;, score=0.823 total time=   0.3s\n",
      "[CV 3/5] END randomforestclassifier__criterion=gini, randomforestclassifier__max_features=0.33, randomforestclassifier__min_samples_leaf=15, randomforestclassifier__min_samples_split=2, randomforestclassifier__n_estimators=50;, score=0.804 total time=   0.3s\n",
      "[CV 4/5] END randomforestclassifier__criterion=gini, randomforestclassifier__max_features=0.33, randomforestclassifier__min_samples_leaf=15, randomforestclassifier__min_samples_split=2, randomforestclassifier__n_estimators=50;, score=0.822 total time=   0.3s\n",
      "[CV 5/5] END randomforestclassifier__criterion=gini, randomforestclassifier__max_features=0.33, randomforestclassifier__min_samples_leaf=15, randomforestclassifier__min_samples_split=2, randomforestclassifier__n_estimators=50;, score=0.830 total time=   0.4s\n",
      "[CV 1/5] END randomforestclassifier__criterion=gini, randomforestclassifier__max_features=0.33, randomforestclassifier__min_samples_leaf=15, randomforestclassifier__min_samples_split=2, randomforestclassifier__n_estimators=100;, score=0.829 total time=   0.7s\n",
      "[CV 2/5] END randomforestclassifier__criterion=gini, randomforestclassifier__max_features=0.33, randomforestclassifier__min_samples_leaf=15, randomforestclassifier__min_samples_split=2, randomforestclassifier__n_estimators=100;, score=0.816 total time=   0.7s\n",
      "[CV 3/5] END randomforestclassifier__criterion=gini, randomforestclassifier__max_features=0.33, randomforestclassifier__min_samples_leaf=15, randomforestclassifier__min_samples_split=2, randomforestclassifier__n_estimators=100;, score=0.803 total time=   0.7s\n",
      "[CV 4/5] END randomforestclassifier__criterion=gini, randomforestclassifier__max_features=0.33, randomforestclassifier__min_samples_leaf=15, randomforestclassifier__min_samples_split=2, randomforestclassifier__n_estimators=100;, score=0.819 total time=   0.7s\n",
      "[CV 5/5] END randomforestclassifier__criterion=gini, randomforestclassifier__max_features=0.33, randomforestclassifier__min_samples_leaf=15, randomforestclassifier__min_samples_split=2, randomforestclassifier__n_estimators=100;, score=0.826 total time=   0.8s\n",
      "[CV 1/5] END randomforestclassifier__criterion=gini, randomforestclassifier__max_features=0.33, randomforestclassifier__min_samples_leaf=15, randomforestclassifier__min_samples_split=2, randomforestclassifier__n_estimators=150;, score=0.837 total time=   1.2s\n",
      "[CV 2/5] END randomforestclassifier__criterion=gini, randomforestclassifier__max_features=0.33, randomforestclassifier__min_samples_leaf=15, randomforestclassifier__min_samples_split=2, randomforestclassifier__n_estimators=150;, score=0.822 total time=   1.1s\n",
      "[CV 3/5] END randomforestclassifier__criterion=gini, randomforestclassifier__max_features=0.33, randomforestclassifier__min_samples_leaf=15, randomforestclassifier__min_samples_split=2, randomforestclassifier__n_estimators=150;, score=0.801 total time=   1.1s\n",
      "[CV 4/5] END randomforestclassifier__criterion=gini, randomforestclassifier__max_features=0.33, randomforestclassifier__min_samples_leaf=15, randomforestclassifier__min_samples_split=2, randomforestclassifier__n_estimators=150;, score=0.819 total time=   1.1s\n",
      "[CV 5/5] END randomforestclassifier__criterion=gini, randomforestclassifier__max_features=0.33, randomforestclassifier__min_samples_leaf=15, randomforestclassifier__min_samples_split=2, randomforestclassifier__n_estimators=150;, score=0.828 total time=   1.2s\n",
      "[CV 1/5] END randomforestclassifier__criterion=gini, randomforestclassifier__max_features=0.33, randomforestclassifier__min_samples_leaf=15, randomforestclassifier__min_samples_split=3, randomforestclassifier__n_estimators=50;, score=0.835 total time=   0.3s\n",
      "[CV 2/5] END randomforestclassifier__criterion=gini, randomforestclassifier__max_features=0.33, randomforestclassifier__min_samples_leaf=15, randomforestclassifier__min_samples_split=3, randomforestclassifier__n_estimators=50;, score=0.814 total time=   0.3s\n",
      "[CV 3/5] END randomforestclassifier__criterion=gini, randomforestclassifier__max_features=0.33, randomforestclassifier__min_samples_leaf=15, randomforestclassifier__min_samples_split=3, randomforestclassifier__n_estimators=50;, score=0.805 total time=   0.3s\n",
      "[CV 4/5] END randomforestclassifier__criterion=gini, randomforestclassifier__max_features=0.33, randomforestclassifier__min_samples_leaf=15, randomforestclassifier__min_samples_split=3, randomforestclassifier__n_estimators=50;, score=0.819 total time=   0.3s\n",
      "[CV 5/5] END randomforestclassifier__criterion=gini, randomforestclassifier__max_features=0.33, randomforestclassifier__min_samples_leaf=15, randomforestclassifier__min_samples_split=3, randomforestclassifier__n_estimators=50;, score=0.827 total time=   0.3s\n",
      "[CV 1/5] END randomforestclassifier__criterion=gini, randomforestclassifier__max_features=0.33, randomforestclassifier__min_samples_leaf=15, randomforestclassifier__min_samples_split=3, randomforestclassifier__n_estimators=100;, score=0.829 total time=   0.7s\n",
      "[CV 2/5] END randomforestclassifier__criterion=gini, randomforestclassifier__max_features=0.33, randomforestclassifier__min_samples_leaf=15, randomforestclassifier__min_samples_split=3, randomforestclassifier__n_estimators=100;, score=0.819 total time=   0.7s\n",
      "[CV 3/5] END randomforestclassifier__criterion=gini, randomforestclassifier__max_features=0.33, randomforestclassifier__min_samples_leaf=15, randomforestclassifier__min_samples_split=3, randomforestclassifier__n_estimators=100;, score=0.806 total time=   0.8s\n",
      "[CV 4/5] END randomforestclassifier__criterion=gini, randomforestclassifier__max_features=0.33, randomforestclassifier__min_samples_leaf=15, randomforestclassifier__min_samples_split=3, randomforestclassifier__n_estimators=100;, score=0.819 total time=   0.8s\n",
      "[CV 5/5] END randomforestclassifier__criterion=gini, randomforestclassifier__max_features=0.33, randomforestclassifier__min_samples_leaf=15, randomforestclassifier__min_samples_split=3, randomforestclassifier__n_estimators=100;, score=0.831 total time=   0.7s\n",
      "[CV 1/5] END randomforestclassifier__criterion=gini, randomforestclassifier__max_features=0.33, randomforestclassifier__min_samples_leaf=15, randomforestclassifier__min_samples_split=3, randomforestclassifier__n_estimators=150;, score=0.830 total time=   1.1s\n",
      "[CV 2/5] END randomforestclassifier__criterion=gini, randomforestclassifier__max_features=0.33, randomforestclassifier__min_samples_leaf=15, randomforestclassifier__min_samples_split=3, randomforestclassifier__n_estimators=150;, score=0.822 total time=   1.1s\n",
      "[CV 3/5] END randomforestclassifier__criterion=gini, randomforestclassifier__max_features=0.33, randomforestclassifier__min_samples_leaf=15, randomforestclassifier__min_samples_split=3, randomforestclassifier__n_estimators=150;, score=0.806 total time=   1.1s\n",
      "[CV 4/5] END randomforestclassifier__criterion=gini, randomforestclassifier__max_features=0.33, randomforestclassifier__min_samples_leaf=15, randomforestclassifier__min_samples_split=3, randomforestclassifier__n_estimators=150;, score=0.819 total time=   1.2s\n",
      "[CV 5/5] END randomforestclassifier__criterion=gini, randomforestclassifier__max_features=0.33, randomforestclassifier__min_samples_leaf=15, randomforestclassifier__min_samples_split=3, randomforestclassifier__n_estimators=150;, score=0.829 total time=   1.1s\n",
      "[CV 1/5] END randomforestclassifier__criterion=gini, randomforestclassifier__max_features=0.33, randomforestclassifier__min_samples_leaf=15, randomforestclassifier__min_samples_split=4, randomforestclassifier__n_estimators=50;, score=0.838 total time=   0.4s\n",
      "[CV 2/5] END randomforestclassifier__criterion=gini, randomforestclassifier__max_features=0.33, randomforestclassifier__min_samples_leaf=15, randomforestclassifier__min_samples_split=4, randomforestclassifier__n_estimators=50;, score=0.819 total time=   0.3s\n",
      "[CV 3/5] END randomforestclassifier__criterion=gini, randomforestclassifier__max_features=0.33, randomforestclassifier__min_samples_leaf=15, randomforestclassifier__min_samples_split=4, randomforestclassifier__n_estimators=50;, score=0.802 total time=   0.3s\n",
      "[CV 4/5] END randomforestclassifier__criterion=gini, randomforestclassifier__max_features=0.33, randomforestclassifier__min_samples_leaf=15, randomforestclassifier__min_samples_split=4, randomforestclassifier__n_estimators=50;, score=0.819 total time=   0.4s\n",
      "[CV 5/5] END randomforestclassifier__criterion=gini, randomforestclassifier__max_features=0.33, randomforestclassifier__min_samples_leaf=15, randomforestclassifier__min_samples_split=4, randomforestclassifier__n_estimators=50;, score=0.833 total time=   0.3s\n",
      "[CV 1/5] END randomforestclassifier__criterion=gini, randomforestclassifier__max_features=0.33, randomforestclassifier__min_samples_leaf=15, randomforestclassifier__min_samples_split=4, randomforestclassifier__n_estimators=100;, score=0.836 total time=   0.7s\n",
      "[CV 2/5] END randomforestclassifier__criterion=gini, randomforestclassifier__max_features=0.33, randomforestclassifier__min_samples_leaf=15, randomforestclassifier__min_samples_split=4, randomforestclassifier__n_estimators=100;, score=0.824 total time=   0.8s\n",
      "[CV 3/5] END randomforestclassifier__criterion=gini, randomforestclassifier__max_features=0.33, randomforestclassifier__min_samples_leaf=15, randomforestclassifier__min_samples_split=4, randomforestclassifier__n_estimators=100;, score=0.801 total time=   0.7s\n",
      "[CV 4/5] END randomforestclassifier__criterion=gini, randomforestclassifier__max_features=0.33, randomforestclassifier__min_samples_leaf=15, randomforestclassifier__min_samples_split=4, randomforestclassifier__n_estimators=100;, score=0.814 total time=   0.7s\n",
      "[CV 5/5] END randomforestclassifier__criterion=gini, randomforestclassifier__max_features=0.33, randomforestclassifier__min_samples_leaf=15, randomforestclassifier__min_samples_split=4, randomforestclassifier__n_estimators=100;, score=0.826 total time=   0.7s\n",
      "[CV 1/5] END randomforestclassifier__criterion=gini, randomforestclassifier__max_features=0.33, randomforestclassifier__min_samples_leaf=15, randomforestclassifier__min_samples_split=4, randomforestclassifier__n_estimators=150;, score=0.835 total time=   1.3s\n",
      "[CV 2/5] END randomforestclassifier__criterion=gini, randomforestclassifier__max_features=0.33, randomforestclassifier__min_samples_leaf=15, randomforestclassifier__min_samples_split=4, randomforestclassifier__n_estimators=150;, score=0.818 total time=   1.2s\n",
      "[CV 3/5] END randomforestclassifier__criterion=gini, randomforestclassifier__max_features=0.33, randomforestclassifier__min_samples_leaf=15, randomforestclassifier__min_samples_split=4, randomforestclassifier__n_estimators=150;, score=0.801 total time=   1.2s\n",
      "[CV 4/5] END randomforestclassifier__criterion=gini, randomforestclassifier__max_features=0.33, randomforestclassifier__min_samples_leaf=15, randomforestclassifier__min_samples_split=4, randomforestclassifier__n_estimators=150;, score=0.819 total time=   1.2s\n",
      "[CV 5/5] END randomforestclassifier__criterion=gini, randomforestclassifier__max_features=0.33, randomforestclassifier__min_samples_leaf=15, randomforestclassifier__min_samples_split=4, randomforestclassifier__n_estimators=150;, score=0.831 total time=   1.3s\n",
      "[CV 1/5] END randomforestclassifier__criterion=entropy, randomforestclassifier__max_features=sqrt, randomforestclassifier__min_samples_leaf=1, randomforestclassifier__min_samples_split=2, randomforestclassifier__n_estimators=50;, score=0.841 total time=   0.6s\n",
      "[CV 2/5] END randomforestclassifier__criterion=entropy, randomforestclassifier__max_features=sqrt, randomforestclassifier__min_samples_leaf=1, randomforestclassifier__min_samples_split=2, randomforestclassifier__n_estimators=50;, score=0.841 total time=   0.5s\n",
      "[CV 3/5] END randomforestclassifier__criterion=entropy, randomforestclassifier__max_features=sqrt, randomforestclassifier__min_samples_leaf=1, randomforestclassifier__min_samples_split=2, randomforestclassifier__n_estimators=50;, score=0.829 total time=   0.5s\n",
      "[CV 4/5] END randomforestclassifier__criterion=entropy, randomforestclassifier__max_features=sqrt, randomforestclassifier__min_samples_leaf=1, randomforestclassifier__min_samples_split=2, randomforestclassifier__n_estimators=50;, score=0.840 total time=   0.5s\n",
      "[CV 5/5] END randomforestclassifier__criterion=entropy, randomforestclassifier__max_features=sqrt, randomforestclassifier__min_samples_leaf=1, randomforestclassifier__min_samples_split=2, randomforestclassifier__n_estimators=50;, score=0.849 total time=   0.6s\n",
      "[CV 1/5] END randomforestclassifier__criterion=entropy, randomforestclassifier__max_features=sqrt, randomforestclassifier__min_samples_leaf=1, randomforestclassifier__min_samples_split=2, randomforestclassifier__n_estimators=100;, score=0.844 total time=   1.1s\n",
      "[CV 2/5] END randomforestclassifier__criterion=entropy, randomforestclassifier__max_features=sqrt, randomforestclassifier__min_samples_leaf=1, randomforestclassifier__min_samples_split=2, randomforestclassifier__n_estimators=100;, score=0.839 total time=   1.1s\n",
      "[CV 3/5] END randomforestclassifier__criterion=entropy, randomforestclassifier__max_features=sqrt, randomforestclassifier__min_samples_leaf=1, randomforestclassifier__min_samples_split=2, randomforestclassifier__n_estimators=100;, score=0.831 total time=   1.2s\n",
      "[CV 4/5] END randomforestclassifier__criterion=entropy, randomforestclassifier__max_features=sqrt, randomforestclassifier__min_samples_leaf=1, randomforestclassifier__min_samples_split=2, randomforestclassifier__n_estimators=100;, score=0.837 total time=   1.1s\n",
      "[CV 5/5] END randomforestclassifier__criterion=entropy, randomforestclassifier__max_features=sqrt, randomforestclassifier__min_samples_leaf=1, randomforestclassifier__min_samples_split=2, randomforestclassifier__n_estimators=100;, score=0.846 total time=   1.2s\n",
      "[CV 1/5] END randomforestclassifier__criterion=entropy, randomforestclassifier__max_features=sqrt, randomforestclassifier__min_samples_leaf=1, randomforestclassifier__min_samples_split=2, randomforestclassifier__n_estimators=150;, score=0.842 total time=   1.8s\n",
      "[CV 2/5] END randomforestclassifier__criterion=entropy, randomforestclassifier__max_features=sqrt, randomforestclassifier__min_samples_leaf=1, randomforestclassifier__min_samples_split=2, randomforestclassifier__n_estimators=150;, score=0.841 total time=   1.7s\n",
      "[CV 3/5] END randomforestclassifier__criterion=entropy, randomforestclassifier__max_features=sqrt, randomforestclassifier__min_samples_leaf=1, randomforestclassifier__min_samples_split=2, randomforestclassifier__n_estimators=150;, score=0.826 total time=   1.6s\n",
      "[CV 4/5] END randomforestclassifier__criterion=entropy, randomforestclassifier__max_features=sqrt, randomforestclassifier__min_samples_leaf=1, randomforestclassifier__min_samples_split=2, randomforestclassifier__n_estimators=150;, score=0.836 total time=   1.6s\n",
      "[CV 5/5] END randomforestclassifier__criterion=entropy, randomforestclassifier__max_features=sqrt, randomforestclassifier__min_samples_leaf=1, randomforestclassifier__min_samples_split=2, randomforestclassifier__n_estimators=150;, score=0.843 total time=   1.6s\n",
      "[CV 1/5] END randomforestclassifier__criterion=entropy, randomforestclassifier__max_features=sqrt, randomforestclassifier__min_samples_leaf=1, randomforestclassifier__min_samples_split=3, randomforestclassifier__n_estimators=50;, score=0.839 total time=   0.5s\n",
      "[CV 2/5] END randomforestclassifier__criterion=entropy, randomforestclassifier__max_features=sqrt, randomforestclassifier__min_samples_leaf=1, randomforestclassifier__min_samples_split=3, randomforestclassifier__n_estimators=50;, score=0.844 total time=   0.5s\n",
      "[CV 3/5] END randomforestclassifier__criterion=entropy, randomforestclassifier__max_features=sqrt, randomforestclassifier__min_samples_leaf=1, randomforestclassifier__min_samples_split=3, randomforestclassifier__n_estimators=50;, score=0.832 total time=   0.5s\n",
      "[CV 4/5] END randomforestclassifier__criterion=entropy, randomforestclassifier__max_features=sqrt, randomforestclassifier__min_samples_leaf=1, randomforestclassifier__min_samples_split=3, randomforestclassifier__n_estimators=50;, score=0.837 total time=   0.5s\n",
      "[CV 5/5] END randomforestclassifier__criterion=entropy, randomforestclassifier__max_features=sqrt, randomforestclassifier__min_samples_leaf=1, randomforestclassifier__min_samples_split=3, randomforestclassifier__n_estimators=50;, score=0.849 total time=   0.5s\n",
      "[CV 1/5] END randomforestclassifier__criterion=entropy, randomforestclassifier__max_features=sqrt, randomforestclassifier__min_samples_leaf=1, randomforestclassifier__min_samples_split=3, randomforestclassifier__n_estimators=100;, score=0.844 total time=   1.0s\n",
      "[CV 2/5] END randomforestclassifier__criterion=entropy, randomforestclassifier__max_features=sqrt, randomforestclassifier__min_samples_leaf=1, randomforestclassifier__min_samples_split=3, randomforestclassifier__n_estimators=100;, score=0.842 total time=   1.1s\n",
      "[CV 3/5] END randomforestclassifier__criterion=entropy, randomforestclassifier__max_features=sqrt, randomforestclassifier__min_samples_leaf=1, randomforestclassifier__min_samples_split=3, randomforestclassifier__n_estimators=100;, score=0.828 total time=   1.1s\n",
      "[CV 4/5] END randomforestclassifier__criterion=entropy, randomforestclassifier__max_features=sqrt, randomforestclassifier__min_samples_leaf=1, randomforestclassifier__min_samples_split=3, randomforestclassifier__n_estimators=100;, score=0.835 total time=   1.0s\n",
      "[CV 5/5] END randomforestclassifier__criterion=entropy, randomforestclassifier__max_features=sqrt, randomforestclassifier__min_samples_leaf=1, randomforestclassifier__min_samples_split=3, randomforestclassifier__n_estimators=100;, score=0.844 total time=   1.0s\n",
      "[CV 1/5] END randomforestclassifier__criterion=entropy, randomforestclassifier__max_features=sqrt, randomforestclassifier__min_samples_leaf=1, randomforestclassifier__min_samples_split=3, randomforestclassifier__n_estimators=150;, score=0.842 total time=   1.7s\n",
      "[CV 2/5] END randomforestclassifier__criterion=entropy, randomforestclassifier__max_features=sqrt, randomforestclassifier__min_samples_leaf=1, randomforestclassifier__min_samples_split=3, randomforestclassifier__n_estimators=150;, score=0.841 total time=   1.8s\n",
      "[CV 3/5] END randomforestclassifier__criterion=entropy, randomforestclassifier__max_features=sqrt, randomforestclassifier__min_samples_leaf=1, randomforestclassifier__min_samples_split=3, randomforestclassifier__n_estimators=150;, score=0.829 total time=   1.7s\n",
      "[CV 4/5] END randomforestclassifier__criterion=entropy, randomforestclassifier__max_features=sqrt, randomforestclassifier__min_samples_leaf=1, randomforestclassifier__min_samples_split=3, randomforestclassifier__n_estimators=150;, score=0.831 total time=   1.7s\n",
      "[CV 5/5] END randomforestclassifier__criterion=entropy, randomforestclassifier__max_features=sqrt, randomforestclassifier__min_samples_leaf=1, randomforestclassifier__min_samples_split=3, randomforestclassifier__n_estimators=150;, score=0.840 total time=   1.7s\n",
      "[CV 1/5] END randomforestclassifier__criterion=entropy, randomforestclassifier__max_features=sqrt, randomforestclassifier__min_samples_leaf=1, randomforestclassifier__min_samples_split=4, randomforestclassifier__n_estimators=50;, score=0.840 total time=   0.5s\n",
      "[CV 2/5] END randomforestclassifier__criterion=entropy, randomforestclassifier__max_features=sqrt, randomforestclassifier__min_samples_leaf=1, randomforestclassifier__min_samples_split=4, randomforestclassifier__n_estimators=50;, score=0.844 total time=   0.5s\n",
      "[CV 3/5] END randomforestclassifier__criterion=entropy, randomforestclassifier__max_features=sqrt, randomforestclassifier__min_samples_leaf=1, randomforestclassifier__min_samples_split=4, randomforestclassifier__n_estimators=50;, score=0.830 total time=   0.5s\n",
      "[CV 4/5] END randomforestclassifier__criterion=entropy, randomforestclassifier__max_features=sqrt, randomforestclassifier__min_samples_leaf=1, randomforestclassifier__min_samples_split=4, randomforestclassifier__n_estimators=50;, score=0.834 total time=   0.5s\n",
      "[CV 5/5] END randomforestclassifier__criterion=entropy, randomforestclassifier__max_features=sqrt, randomforestclassifier__min_samples_leaf=1, randomforestclassifier__min_samples_split=4, randomforestclassifier__n_estimators=50;, score=0.837 total time=   0.5s\n",
      "[CV 1/5] END randomforestclassifier__criterion=entropy, randomforestclassifier__max_features=sqrt, randomforestclassifier__min_samples_leaf=1, randomforestclassifier__min_samples_split=4, randomforestclassifier__n_estimators=100;, score=0.849 total time=   1.1s\n",
      "[CV 2/5] END randomforestclassifier__criterion=entropy, randomforestclassifier__max_features=sqrt, randomforestclassifier__min_samples_leaf=1, randomforestclassifier__min_samples_split=4, randomforestclassifier__n_estimators=100;, score=0.846 total time=   1.1s\n",
      "[CV 3/5] END randomforestclassifier__criterion=entropy, randomforestclassifier__max_features=sqrt, randomforestclassifier__min_samples_leaf=1, randomforestclassifier__min_samples_split=4, randomforestclassifier__n_estimators=100;, score=0.828 total time=   1.1s\n",
      "[CV 4/5] END randomforestclassifier__criterion=entropy, randomforestclassifier__max_features=sqrt, randomforestclassifier__min_samples_leaf=1, randomforestclassifier__min_samples_split=4, randomforestclassifier__n_estimators=100;, score=0.837 total time=   1.1s\n",
      "[CV 5/5] END randomforestclassifier__criterion=entropy, randomforestclassifier__max_features=sqrt, randomforestclassifier__min_samples_leaf=1, randomforestclassifier__min_samples_split=4, randomforestclassifier__n_estimators=100;, score=0.848 total time=   1.0s\n",
      "[CV 1/5] END randomforestclassifier__criterion=entropy, randomforestclassifier__max_features=sqrt, randomforestclassifier__min_samples_leaf=1, randomforestclassifier__min_samples_split=4, randomforestclassifier__n_estimators=150;, score=0.839 total time=   1.6s\n",
      "[CV 2/5] END randomforestclassifier__criterion=entropy, randomforestclassifier__max_features=sqrt, randomforestclassifier__min_samples_leaf=1, randomforestclassifier__min_samples_split=4, randomforestclassifier__n_estimators=150;, score=0.842 total time=   1.7s\n",
      "[CV 3/5] END randomforestclassifier__criterion=entropy, randomforestclassifier__max_features=sqrt, randomforestclassifier__min_samples_leaf=1, randomforestclassifier__min_samples_split=4, randomforestclassifier__n_estimators=150;, score=0.829 total time=   1.7s\n",
      "[CV 4/5] END randomforestclassifier__criterion=entropy, randomforestclassifier__max_features=sqrt, randomforestclassifier__min_samples_leaf=1, randomforestclassifier__min_samples_split=4, randomforestclassifier__n_estimators=150;, score=0.840 total time=   1.7s\n",
      "[CV 5/5] END randomforestclassifier__criterion=entropy, randomforestclassifier__max_features=sqrt, randomforestclassifier__min_samples_leaf=1, randomforestclassifier__min_samples_split=4, randomforestclassifier__n_estimators=150;, score=0.848 total time=   1.8s\n",
      "[CV 1/5] END randomforestclassifier__criterion=entropy, randomforestclassifier__max_features=sqrt, randomforestclassifier__min_samples_leaf=5, randomforestclassifier__min_samples_split=2, randomforestclassifier__n_estimators=50;, score=0.841 total time=   0.5s\n",
      "[CV 2/5] END randomforestclassifier__criterion=entropy, randomforestclassifier__max_features=sqrt, randomforestclassifier__min_samples_leaf=5, randomforestclassifier__min_samples_split=2, randomforestclassifier__n_estimators=50;, score=0.838 total time=   0.5s\n",
      "[CV 3/5] END randomforestclassifier__criterion=entropy, randomforestclassifier__max_features=sqrt, randomforestclassifier__min_samples_leaf=5, randomforestclassifier__min_samples_split=2, randomforestclassifier__n_estimators=50;, score=0.818 total time=   0.5s\n",
      "[CV 4/5] END randomforestclassifier__criterion=entropy, randomforestclassifier__max_features=sqrt, randomforestclassifier__min_samples_leaf=5, randomforestclassifier__min_samples_split=2, randomforestclassifier__n_estimators=50;, score=0.828 total time=   0.4s\n",
      "[CV 5/5] END randomforestclassifier__criterion=entropy, randomforestclassifier__max_features=sqrt, randomforestclassifier__min_samples_leaf=5, randomforestclassifier__min_samples_split=2, randomforestclassifier__n_estimators=50;, score=0.839 total time=   0.5s\n",
      "[CV 1/5] END randomforestclassifier__criterion=entropy, randomforestclassifier__max_features=sqrt, randomforestclassifier__min_samples_leaf=5, randomforestclassifier__min_samples_split=2, randomforestclassifier__n_estimators=100;, score=0.838 total time=   1.0s\n",
      "[CV 2/5] END randomforestclassifier__criterion=entropy, randomforestclassifier__max_features=sqrt, randomforestclassifier__min_samples_leaf=5, randomforestclassifier__min_samples_split=2, randomforestclassifier__n_estimators=100;, score=0.833 total time=   1.0s\n",
      "[CV 3/5] END randomforestclassifier__criterion=entropy, randomforestclassifier__max_features=sqrt, randomforestclassifier__min_samples_leaf=5, randomforestclassifier__min_samples_split=2, randomforestclassifier__n_estimators=100;, score=0.821 total time=   1.0s\n",
      "[CV 4/5] END randomforestclassifier__criterion=entropy, randomforestclassifier__max_features=sqrt, randomforestclassifier__min_samples_leaf=5, randomforestclassifier__min_samples_split=2, randomforestclassifier__n_estimators=100;, score=0.834 total time=   1.0s\n",
      "[CV 5/5] END randomforestclassifier__criterion=entropy, randomforestclassifier__max_features=sqrt, randomforestclassifier__min_samples_leaf=5, randomforestclassifier__min_samples_split=2, randomforestclassifier__n_estimators=100;, score=0.841 total time=   1.0s\n",
      "[CV 1/5] END randomforestclassifier__criterion=entropy, randomforestclassifier__max_features=sqrt, randomforestclassifier__min_samples_leaf=5, randomforestclassifier__min_samples_split=2, randomforestclassifier__n_estimators=150;, score=0.839 total time=   1.5s\n",
      "[CV 2/5] END randomforestclassifier__criterion=entropy, randomforestclassifier__max_features=sqrt, randomforestclassifier__min_samples_leaf=5, randomforestclassifier__min_samples_split=2, randomforestclassifier__n_estimators=150;, score=0.832 total time=   1.5s\n",
      "[CV 3/5] END randomforestclassifier__criterion=entropy, randomforestclassifier__max_features=sqrt, randomforestclassifier__min_samples_leaf=5, randomforestclassifier__min_samples_split=2, randomforestclassifier__n_estimators=150;, score=0.819 total time=   1.5s\n",
      "[CV 4/5] END randomforestclassifier__criterion=entropy, randomforestclassifier__max_features=sqrt, randomforestclassifier__min_samples_leaf=5, randomforestclassifier__min_samples_split=2, randomforestclassifier__n_estimators=150;, score=0.834 total time=   1.5s\n",
      "[CV 5/5] END randomforestclassifier__criterion=entropy, randomforestclassifier__max_features=sqrt, randomforestclassifier__min_samples_leaf=5, randomforestclassifier__min_samples_split=2, randomforestclassifier__n_estimators=150;, score=0.837 total time=   1.4s\n",
      "[CV 1/5] END randomforestclassifier__criterion=entropy, randomforestclassifier__max_features=sqrt, randomforestclassifier__min_samples_leaf=5, randomforestclassifier__min_samples_split=3, randomforestclassifier__n_estimators=50;, score=0.841 total time=   0.4s\n",
      "[CV 2/5] END randomforestclassifier__criterion=entropy, randomforestclassifier__max_features=sqrt, randomforestclassifier__min_samples_leaf=5, randomforestclassifier__min_samples_split=3, randomforestclassifier__n_estimators=50;, score=0.839 total time=   0.4s\n",
      "[CV 3/5] END randomforestclassifier__criterion=entropy, randomforestclassifier__max_features=sqrt, randomforestclassifier__min_samples_leaf=5, randomforestclassifier__min_samples_split=3, randomforestclassifier__n_estimators=50;, score=0.813 total time=   0.4s\n",
      "[CV 4/5] END randomforestclassifier__criterion=entropy, randomforestclassifier__max_features=sqrt, randomforestclassifier__min_samples_leaf=5, randomforestclassifier__min_samples_split=3, randomforestclassifier__n_estimators=50;, score=0.836 total time=   0.4s\n",
      "[CV 5/5] END randomforestclassifier__criterion=entropy, randomforestclassifier__max_features=sqrt, randomforestclassifier__min_samples_leaf=5, randomforestclassifier__min_samples_split=3, randomforestclassifier__n_estimators=50;, score=0.831 total time=   0.4s\n",
      "[CV 1/5] END randomforestclassifier__criterion=entropy, randomforestclassifier__max_features=sqrt, randomforestclassifier__min_samples_leaf=5, randomforestclassifier__min_samples_split=3, randomforestclassifier__n_estimators=100;, score=0.843 total time=   1.0s\n",
      "[CV 2/5] END randomforestclassifier__criterion=entropy, randomforestclassifier__max_features=sqrt, randomforestclassifier__min_samples_leaf=5, randomforestclassifier__min_samples_split=3, randomforestclassifier__n_estimators=100;, score=0.835 total time=   0.9s\n",
      "[CV 3/5] END randomforestclassifier__criterion=entropy, randomforestclassifier__max_features=sqrt, randomforestclassifier__min_samples_leaf=5, randomforestclassifier__min_samples_split=3, randomforestclassifier__n_estimators=100;, score=0.818 total time=   0.9s\n",
      "[CV 4/5] END randomforestclassifier__criterion=entropy, randomforestclassifier__max_features=sqrt, randomforestclassifier__min_samples_leaf=5, randomforestclassifier__min_samples_split=3, randomforestclassifier__n_estimators=100;, score=0.831 total time=   0.9s\n",
      "[CV 5/5] END randomforestclassifier__criterion=entropy, randomforestclassifier__max_features=sqrt, randomforestclassifier__min_samples_leaf=5, randomforestclassifier__min_samples_split=3, randomforestclassifier__n_estimators=100;, score=0.839 total time=   0.9s\n",
      "[CV 1/5] END randomforestclassifier__criterion=entropy, randomforestclassifier__max_features=sqrt, randomforestclassifier__min_samples_leaf=5, randomforestclassifier__min_samples_split=3, randomforestclassifier__n_estimators=150;, score=0.838 total time=   1.4s\n",
      "[CV 2/5] END randomforestclassifier__criterion=entropy, randomforestclassifier__max_features=sqrt, randomforestclassifier__min_samples_leaf=5, randomforestclassifier__min_samples_split=3, randomforestclassifier__n_estimators=150;, score=0.835 total time=   1.4s\n",
      "[CV 3/5] END randomforestclassifier__criterion=entropy, randomforestclassifier__max_features=sqrt, randomforestclassifier__min_samples_leaf=5, randomforestclassifier__min_samples_split=3, randomforestclassifier__n_estimators=150;, score=0.821 total time=   1.4s\n",
      "[CV 4/5] END randomforestclassifier__criterion=entropy, randomforestclassifier__max_features=sqrt, randomforestclassifier__min_samples_leaf=5, randomforestclassifier__min_samples_split=3, randomforestclassifier__n_estimators=150;, score=0.827 total time=   1.4s\n",
      "[CV 5/5] END randomforestclassifier__criterion=entropy, randomforestclassifier__max_features=sqrt, randomforestclassifier__min_samples_leaf=5, randomforestclassifier__min_samples_split=3, randomforestclassifier__n_estimators=150;, score=0.836 total time=   1.4s\n",
      "[CV 1/5] END randomforestclassifier__criterion=entropy, randomforestclassifier__max_features=sqrt, randomforestclassifier__min_samples_leaf=5, randomforestclassifier__min_samples_split=4, randomforestclassifier__n_estimators=50;, score=0.841 total time=   0.4s\n",
      "[CV 2/5] END randomforestclassifier__criterion=entropy, randomforestclassifier__max_features=sqrt, randomforestclassifier__min_samples_leaf=5, randomforestclassifier__min_samples_split=4, randomforestclassifier__n_estimators=50;, score=0.831 total time=   0.4s\n",
      "[CV 3/5] END randomforestclassifier__criterion=entropy, randomforestclassifier__max_features=sqrt, randomforestclassifier__min_samples_leaf=5, randomforestclassifier__min_samples_split=4, randomforestclassifier__n_estimators=50;, score=0.818 total time=   0.4s\n",
      "[CV 4/5] END randomforestclassifier__criterion=entropy, randomforestclassifier__max_features=sqrt, randomforestclassifier__min_samples_leaf=5, randomforestclassifier__min_samples_split=4, randomforestclassifier__n_estimators=50;, score=0.827 total time=   0.4s\n",
      "[CV 5/5] END randomforestclassifier__criterion=entropy, randomforestclassifier__max_features=sqrt, randomforestclassifier__min_samples_leaf=5, randomforestclassifier__min_samples_split=4, randomforestclassifier__n_estimators=50;, score=0.840 total time=   0.5s\n",
      "[CV 1/5] END randomforestclassifier__criterion=entropy, randomforestclassifier__max_features=sqrt, randomforestclassifier__min_samples_leaf=5, randomforestclassifier__min_samples_split=4, randomforestclassifier__n_estimators=100;, score=0.839 total time=   0.9s\n",
      "[CV 2/5] END randomforestclassifier__criterion=entropy, randomforestclassifier__max_features=sqrt, randomforestclassifier__min_samples_leaf=5, randomforestclassifier__min_samples_split=4, randomforestclassifier__n_estimators=100;, score=0.828 total time=   0.9s\n",
      "[CV 3/5] END randomforestclassifier__criterion=entropy, randomforestclassifier__max_features=sqrt, randomforestclassifier__min_samples_leaf=5, randomforestclassifier__min_samples_split=4, randomforestclassifier__n_estimators=100;, score=0.814 total time=   0.9s\n",
      "[CV 4/5] END randomforestclassifier__criterion=entropy, randomforestclassifier__max_features=sqrt, randomforestclassifier__min_samples_leaf=5, randomforestclassifier__min_samples_split=4, randomforestclassifier__n_estimators=100;, score=0.833 total time=   0.9s\n",
      "[CV 5/5] END randomforestclassifier__criterion=entropy, randomforestclassifier__max_features=sqrt, randomforestclassifier__min_samples_leaf=5, randomforestclassifier__min_samples_split=4, randomforestclassifier__n_estimators=100;, score=0.839 total time=   0.9s\n",
      "[CV 1/5] END randomforestclassifier__criterion=entropy, randomforestclassifier__max_features=sqrt, randomforestclassifier__min_samples_leaf=5, randomforestclassifier__min_samples_split=4, randomforestclassifier__n_estimators=150;, score=0.840 total time=   1.4s\n",
      "[CV 2/5] END randomforestclassifier__criterion=entropy, randomforestclassifier__max_features=sqrt, randomforestclassifier__min_samples_leaf=5, randomforestclassifier__min_samples_split=4, randomforestclassifier__n_estimators=150;, score=0.832 total time=   1.4s\n",
      "[CV 3/5] END randomforestclassifier__criterion=entropy, randomforestclassifier__max_features=sqrt, randomforestclassifier__min_samples_leaf=5, randomforestclassifier__min_samples_split=4, randomforestclassifier__n_estimators=150;, score=0.819 total time=   1.4s\n",
      "[CV 4/5] END randomforestclassifier__criterion=entropy, randomforestclassifier__max_features=sqrt, randomforestclassifier__min_samples_leaf=5, randomforestclassifier__min_samples_split=4, randomforestclassifier__n_estimators=150;, score=0.829 total time=   1.5s\n",
      "[CV 5/5] END randomforestclassifier__criterion=entropy, randomforestclassifier__max_features=sqrt, randomforestclassifier__min_samples_leaf=5, randomforestclassifier__min_samples_split=4, randomforestclassifier__n_estimators=150;, score=0.840 total time=   1.4s\n",
      "[CV 1/5] END randomforestclassifier__criterion=entropy, randomforestclassifier__max_features=sqrt, randomforestclassifier__min_samples_leaf=10, randomforestclassifier__min_samples_split=2, randomforestclassifier__n_estimators=50;, score=0.835 total time=   0.4s\n",
      "[CV 2/5] END randomforestclassifier__criterion=entropy, randomforestclassifier__max_features=sqrt, randomforestclassifier__min_samples_leaf=10, randomforestclassifier__min_samples_split=2, randomforestclassifier__n_estimators=50;, score=0.818 total time=   0.4s\n",
      "[CV 3/5] END randomforestclassifier__criterion=entropy, randomforestclassifier__max_features=sqrt, randomforestclassifier__min_samples_leaf=10, randomforestclassifier__min_samples_split=2, randomforestclassifier__n_estimators=50;, score=0.802 total time=   0.4s\n",
      "[CV 4/5] END randomforestclassifier__criterion=entropy, randomforestclassifier__max_features=sqrt, randomforestclassifier__min_samples_leaf=10, randomforestclassifier__min_samples_split=2, randomforestclassifier__n_estimators=50;, score=0.819 total time=   0.4s\n",
      "[CV 5/5] END randomforestclassifier__criterion=entropy, randomforestclassifier__max_features=sqrt, randomforestclassifier__min_samples_leaf=10, randomforestclassifier__min_samples_split=2, randomforestclassifier__n_estimators=50;, score=0.828 total time=   0.4s\n",
      "[CV 1/5] END randomforestclassifier__criterion=entropy, randomforestclassifier__max_features=sqrt, randomforestclassifier__min_samples_leaf=10, randomforestclassifier__min_samples_split=2, randomforestclassifier__n_estimators=100;, score=0.834 total time=   0.9s\n",
      "[CV 2/5] END randomforestclassifier__criterion=entropy, randomforestclassifier__max_features=sqrt, randomforestclassifier__min_samples_leaf=10, randomforestclassifier__min_samples_split=2, randomforestclassifier__n_estimators=100;, score=0.828 total time=   0.8s\n",
      "[CV 3/5] END randomforestclassifier__criterion=entropy, randomforestclassifier__max_features=sqrt, randomforestclassifier__min_samples_leaf=10, randomforestclassifier__min_samples_split=2, randomforestclassifier__n_estimators=100;, score=0.811 total time=   0.8s\n",
      "[CV 4/5] END randomforestclassifier__criterion=entropy, randomforestclassifier__max_features=sqrt, randomforestclassifier__min_samples_leaf=10, randomforestclassifier__min_samples_split=2, randomforestclassifier__n_estimators=100;, score=0.825 total time=   0.8s\n",
      "[CV 5/5] END randomforestclassifier__criterion=entropy, randomforestclassifier__max_features=sqrt, randomforestclassifier__min_samples_leaf=10, randomforestclassifier__min_samples_split=2, randomforestclassifier__n_estimators=100;, score=0.829 total time=   0.8s\n",
      "[CV 1/5] END randomforestclassifier__criterion=entropy, randomforestclassifier__max_features=sqrt, randomforestclassifier__min_samples_leaf=10, randomforestclassifier__min_samples_split=2, randomforestclassifier__n_estimators=150;, score=0.834 total time=   1.3s\n",
      "[CV 2/5] END randomforestclassifier__criterion=entropy, randomforestclassifier__max_features=sqrt, randomforestclassifier__min_samples_leaf=10, randomforestclassifier__min_samples_split=2, randomforestclassifier__n_estimators=150;, score=0.831 total time=   1.3s\n",
      "[CV 3/5] END randomforestclassifier__criterion=entropy, randomforestclassifier__max_features=sqrt, randomforestclassifier__min_samples_leaf=10, randomforestclassifier__min_samples_split=2, randomforestclassifier__n_estimators=150;, score=0.802 total time=   1.3s\n",
      "[CV 4/5] END randomforestclassifier__criterion=entropy, randomforestclassifier__max_features=sqrt, randomforestclassifier__min_samples_leaf=10, randomforestclassifier__min_samples_split=2, randomforestclassifier__n_estimators=150;, score=0.823 total time=   1.3s\n",
      "[CV 5/5] END randomforestclassifier__criterion=entropy, randomforestclassifier__max_features=sqrt, randomforestclassifier__min_samples_leaf=10, randomforestclassifier__min_samples_split=2, randomforestclassifier__n_estimators=150;, score=0.841 total time=   1.3s\n",
      "[CV 1/5] END randomforestclassifier__criterion=entropy, randomforestclassifier__max_features=sqrt, randomforestclassifier__min_samples_leaf=10, randomforestclassifier__min_samples_split=3, randomforestclassifier__n_estimators=50;, score=0.826 total time=   0.4s\n",
      "[CV 2/5] END randomforestclassifier__criterion=entropy, randomforestclassifier__max_features=sqrt, randomforestclassifier__min_samples_leaf=10, randomforestclassifier__min_samples_split=3, randomforestclassifier__n_estimators=50;, score=0.825 total time=   0.4s\n",
      "[CV 3/5] END randomforestclassifier__criterion=entropy, randomforestclassifier__max_features=sqrt, randomforestclassifier__min_samples_leaf=10, randomforestclassifier__min_samples_split=3, randomforestclassifier__n_estimators=50;, score=0.806 total time=   0.4s\n",
      "[CV 4/5] END randomforestclassifier__criterion=entropy, randomforestclassifier__max_features=sqrt, randomforestclassifier__min_samples_leaf=10, randomforestclassifier__min_samples_split=3, randomforestclassifier__n_estimators=50;, score=0.827 total time=   0.4s\n",
      "[CV 5/5] END randomforestclassifier__criterion=entropy, randomforestclassifier__max_features=sqrt, randomforestclassifier__min_samples_leaf=10, randomforestclassifier__min_samples_split=3, randomforestclassifier__n_estimators=50;, score=0.836 total time=   0.4s\n",
      "[CV 1/5] END randomforestclassifier__criterion=entropy, randomforestclassifier__max_features=sqrt, randomforestclassifier__min_samples_leaf=10, randomforestclassifier__min_samples_split=3, randomforestclassifier__n_estimators=100;, score=0.832 total time=   0.8s\n",
      "[CV 2/5] END randomforestclassifier__criterion=entropy, randomforestclassifier__max_features=sqrt, randomforestclassifier__min_samples_leaf=10, randomforestclassifier__min_samples_split=3, randomforestclassifier__n_estimators=100;, score=0.822 total time=   0.9s\n",
      "[CV 3/5] END randomforestclassifier__criterion=entropy, randomforestclassifier__max_features=sqrt, randomforestclassifier__min_samples_leaf=10, randomforestclassifier__min_samples_split=3, randomforestclassifier__n_estimators=100;, score=0.806 total time=   0.8s\n",
      "[CV 4/5] END randomforestclassifier__criterion=entropy, randomforestclassifier__max_features=sqrt, randomforestclassifier__min_samples_leaf=10, randomforestclassifier__min_samples_split=3, randomforestclassifier__n_estimators=100;, score=0.822 total time=   0.8s\n",
      "[CV 5/5] END randomforestclassifier__criterion=entropy, randomforestclassifier__max_features=sqrt, randomforestclassifier__min_samples_leaf=10, randomforestclassifier__min_samples_split=3, randomforestclassifier__n_estimators=100;, score=0.833 total time=   0.8s\n",
      "[CV 1/5] END randomforestclassifier__criterion=entropy, randomforestclassifier__max_features=sqrt, randomforestclassifier__min_samples_leaf=10, randomforestclassifier__min_samples_split=3, randomforestclassifier__n_estimators=150;, score=0.832 total time=   1.3s\n",
      "[CV 2/5] END randomforestclassifier__criterion=entropy, randomforestclassifier__max_features=sqrt, randomforestclassifier__min_samples_leaf=10, randomforestclassifier__min_samples_split=3, randomforestclassifier__n_estimators=150;, score=0.822 total time=   1.3s\n",
      "[CV 3/5] END randomforestclassifier__criterion=entropy, randomforestclassifier__max_features=sqrt, randomforestclassifier__min_samples_leaf=10, randomforestclassifier__min_samples_split=3, randomforestclassifier__n_estimators=150;, score=0.803 total time=   1.2s\n",
      "[CV 4/5] END randomforestclassifier__criterion=entropy, randomforestclassifier__max_features=sqrt, randomforestclassifier__min_samples_leaf=10, randomforestclassifier__min_samples_split=3, randomforestclassifier__n_estimators=150;, score=0.824 total time=   1.3s\n",
      "[CV 5/5] END randomforestclassifier__criterion=entropy, randomforestclassifier__max_features=sqrt, randomforestclassifier__min_samples_leaf=10, randomforestclassifier__min_samples_split=3, randomforestclassifier__n_estimators=150;, score=0.828 total time=   1.3s\n",
      "[CV 1/5] END randomforestclassifier__criterion=entropy, randomforestclassifier__max_features=sqrt, randomforestclassifier__min_samples_leaf=10, randomforestclassifier__min_samples_split=4, randomforestclassifier__n_estimators=50;, score=0.839 total time=   0.4s\n",
      "[CV 2/5] END randomforestclassifier__criterion=entropy, randomforestclassifier__max_features=sqrt, randomforestclassifier__min_samples_leaf=10, randomforestclassifier__min_samples_split=4, randomforestclassifier__n_estimators=50;, score=0.818 total time=   0.4s\n",
      "[CV 3/5] END randomforestclassifier__criterion=entropy, randomforestclassifier__max_features=sqrt, randomforestclassifier__min_samples_leaf=10, randomforestclassifier__min_samples_split=4, randomforestclassifier__n_estimators=50;, score=0.804 total time=   0.4s\n",
      "[CV 4/5] END randomforestclassifier__criterion=entropy, randomforestclassifier__max_features=sqrt, randomforestclassifier__min_samples_leaf=10, randomforestclassifier__min_samples_split=4, randomforestclassifier__n_estimators=50;, score=0.824 total time=   0.4s\n",
      "[CV 5/5] END randomforestclassifier__criterion=entropy, randomforestclassifier__max_features=sqrt, randomforestclassifier__min_samples_leaf=10, randomforestclassifier__min_samples_split=4, randomforestclassifier__n_estimators=50;, score=0.829 total time=   0.4s\n",
      "[CV 1/5] END randomforestclassifier__criterion=entropy, randomforestclassifier__max_features=sqrt, randomforestclassifier__min_samples_leaf=10, randomforestclassifier__min_samples_split=4, randomforestclassifier__n_estimators=100;, score=0.836 total time=   0.8s\n",
      "[CV 2/5] END randomforestclassifier__criterion=entropy, randomforestclassifier__max_features=sqrt, randomforestclassifier__min_samples_leaf=10, randomforestclassifier__min_samples_split=4, randomforestclassifier__n_estimators=100;, score=0.823 total time=   0.8s\n",
      "[CV 3/5] END randomforestclassifier__criterion=entropy, randomforestclassifier__max_features=sqrt, randomforestclassifier__min_samples_leaf=10, randomforestclassifier__min_samples_split=4, randomforestclassifier__n_estimators=100;, score=0.806 total time=   0.9s\n",
      "[CV 4/5] END randomforestclassifier__criterion=entropy, randomforestclassifier__max_features=sqrt, randomforestclassifier__min_samples_leaf=10, randomforestclassifier__min_samples_split=4, randomforestclassifier__n_estimators=100;, score=0.824 total time=   0.8s\n",
      "[CV 5/5] END randomforestclassifier__criterion=entropy, randomforestclassifier__max_features=sqrt, randomforestclassifier__min_samples_leaf=10, randomforestclassifier__min_samples_split=4, randomforestclassifier__n_estimators=100;, score=0.834 total time=   0.8s\n",
      "[CV 1/5] END randomforestclassifier__criterion=entropy, randomforestclassifier__max_features=sqrt, randomforestclassifier__min_samples_leaf=10, randomforestclassifier__min_samples_split=4, randomforestclassifier__n_estimators=150;, score=0.832 total time=   1.3s\n",
      "[CV 2/5] END randomforestclassifier__criterion=entropy, randomforestclassifier__max_features=sqrt, randomforestclassifier__min_samples_leaf=10, randomforestclassifier__min_samples_split=4, randomforestclassifier__n_estimators=150;, score=0.824 total time=   1.3s\n",
      "[CV 3/5] END randomforestclassifier__criterion=entropy, randomforestclassifier__max_features=sqrt, randomforestclassifier__min_samples_leaf=10, randomforestclassifier__min_samples_split=4, randomforestclassifier__n_estimators=150;, score=0.808 total time=   1.3s\n",
      "[CV 4/5] END randomforestclassifier__criterion=entropy, randomforestclassifier__max_features=sqrt, randomforestclassifier__min_samples_leaf=10, randomforestclassifier__min_samples_split=4, randomforestclassifier__n_estimators=150;, score=0.825 total time=   1.3s\n",
      "[CV 5/5] END randomforestclassifier__criterion=entropy, randomforestclassifier__max_features=sqrt, randomforestclassifier__min_samples_leaf=10, randomforestclassifier__min_samples_split=4, randomforestclassifier__n_estimators=150;, score=0.833 total time=   1.3s\n",
      "[CV 1/5] END randomforestclassifier__criterion=entropy, randomforestclassifier__max_features=sqrt, randomforestclassifier__min_samples_leaf=15, randomforestclassifier__min_samples_split=2, randomforestclassifier__n_estimators=50;, score=0.829 total time=   0.4s\n",
      "[CV 2/5] END randomforestclassifier__criterion=entropy, randomforestclassifier__max_features=sqrt, randomforestclassifier__min_samples_leaf=15, randomforestclassifier__min_samples_split=2, randomforestclassifier__n_estimators=50;, score=0.818 total time=   0.4s\n",
      "[CV 3/5] END randomforestclassifier__criterion=entropy, randomforestclassifier__max_features=sqrt, randomforestclassifier__min_samples_leaf=15, randomforestclassifier__min_samples_split=2, randomforestclassifier__n_estimators=50;, score=0.799 total time=   0.4s\n",
      "[CV 4/5] END randomforestclassifier__criterion=entropy, randomforestclassifier__max_features=sqrt, randomforestclassifier__min_samples_leaf=15, randomforestclassifier__min_samples_split=2, randomforestclassifier__n_estimators=50;, score=0.816 total time=   0.4s\n",
      "[CV 5/5] END randomforestclassifier__criterion=entropy, randomforestclassifier__max_features=sqrt, randomforestclassifier__min_samples_leaf=15, randomforestclassifier__min_samples_split=2, randomforestclassifier__n_estimators=50;, score=0.832 total time=   0.4s\n",
      "[CV 1/5] END randomforestclassifier__criterion=entropy, randomforestclassifier__max_features=sqrt, randomforestclassifier__min_samples_leaf=15, randomforestclassifier__min_samples_split=2, randomforestclassifier__n_estimators=100;, score=0.832 total time=   0.9s\n",
      "[CV 2/5] END randomforestclassifier__criterion=entropy, randomforestclassifier__max_features=sqrt, randomforestclassifier__min_samples_leaf=15, randomforestclassifier__min_samples_split=2, randomforestclassifier__n_estimators=100;, score=0.816 total time=   0.8s\n",
      "[CV 3/5] END randomforestclassifier__criterion=entropy, randomforestclassifier__max_features=sqrt, randomforestclassifier__min_samples_leaf=15, randomforestclassifier__min_samples_split=2, randomforestclassifier__n_estimators=100;, score=0.802 total time=   0.8s\n",
      "[CV 4/5] END randomforestclassifier__criterion=entropy, randomforestclassifier__max_features=sqrt, randomforestclassifier__min_samples_leaf=15, randomforestclassifier__min_samples_split=2, randomforestclassifier__n_estimators=100;, score=0.820 total time=   0.8s\n",
      "[CV 5/5] END randomforestclassifier__criterion=entropy, randomforestclassifier__max_features=sqrt, randomforestclassifier__min_samples_leaf=15, randomforestclassifier__min_samples_split=2, randomforestclassifier__n_estimators=100;, score=0.826 total time=   0.8s\n",
      "[CV 1/5] END randomforestclassifier__criterion=entropy, randomforestclassifier__max_features=sqrt, randomforestclassifier__min_samples_leaf=15, randomforestclassifier__min_samples_split=2, randomforestclassifier__n_estimators=150;, score=0.829 total time=   1.2s\n",
      "[CV 2/5] END randomforestclassifier__criterion=entropy, randomforestclassifier__max_features=sqrt, randomforestclassifier__min_samples_leaf=15, randomforestclassifier__min_samples_split=2, randomforestclassifier__n_estimators=150;, score=0.821 total time=   1.2s\n",
      "[CV 3/5] END randomforestclassifier__criterion=entropy, randomforestclassifier__max_features=sqrt, randomforestclassifier__min_samples_leaf=15, randomforestclassifier__min_samples_split=2, randomforestclassifier__n_estimators=150;, score=0.806 total time=   1.2s\n",
      "[CV 4/5] END randomforestclassifier__criterion=entropy, randomforestclassifier__max_features=sqrt, randomforestclassifier__min_samples_leaf=15, randomforestclassifier__min_samples_split=2, randomforestclassifier__n_estimators=150;, score=0.819 total time=   1.2s\n",
      "[CV 5/5] END randomforestclassifier__criterion=entropy, randomforestclassifier__max_features=sqrt, randomforestclassifier__min_samples_leaf=15, randomforestclassifier__min_samples_split=2, randomforestclassifier__n_estimators=150;, score=0.829 total time=   1.2s\n",
      "[CV 1/5] END randomforestclassifier__criterion=entropy, randomforestclassifier__max_features=sqrt, randomforestclassifier__min_samples_leaf=15, randomforestclassifier__min_samples_split=3, randomforestclassifier__n_estimators=50;, score=0.827 total time=   0.4s\n",
      "[CV 2/5] END randomforestclassifier__criterion=entropy, randomforestclassifier__max_features=sqrt, randomforestclassifier__min_samples_leaf=15, randomforestclassifier__min_samples_split=3, randomforestclassifier__n_estimators=50;, score=0.822 total time=   0.4s\n",
      "[CV 3/5] END randomforestclassifier__criterion=entropy, randomforestclassifier__max_features=sqrt, randomforestclassifier__min_samples_leaf=15, randomforestclassifier__min_samples_split=3, randomforestclassifier__n_estimators=50;, score=0.802 total time=   0.4s\n",
      "[CV 4/5] END randomforestclassifier__criterion=entropy, randomforestclassifier__max_features=sqrt, randomforestclassifier__min_samples_leaf=15, randomforestclassifier__min_samples_split=3, randomforestclassifier__n_estimators=50;, score=0.815 total time=   0.4s\n",
      "[CV 5/5] END randomforestclassifier__criterion=entropy, randomforestclassifier__max_features=sqrt, randomforestclassifier__min_samples_leaf=15, randomforestclassifier__min_samples_split=3, randomforestclassifier__n_estimators=50;, score=0.822 total time=   0.4s\n",
      "[CV 1/5] END randomforestclassifier__criterion=entropy, randomforestclassifier__max_features=sqrt, randomforestclassifier__min_samples_leaf=15, randomforestclassifier__min_samples_split=3, randomforestclassifier__n_estimators=100;, score=0.831 total time=   0.8s\n",
      "[CV 2/5] END randomforestclassifier__criterion=entropy, randomforestclassifier__max_features=sqrt, randomforestclassifier__min_samples_leaf=15, randomforestclassifier__min_samples_split=3, randomforestclassifier__n_estimators=100;, score=0.820 total time=   0.8s\n",
      "[CV 3/5] END randomforestclassifier__criterion=entropy, randomforestclassifier__max_features=sqrt, randomforestclassifier__min_samples_leaf=15, randomforestclassifier__min_samples_split=3, randomforestclassifier__n_estimators=100;, score=0.799 total time=   0.8s\n",
      "[CV 4/5] END randomforestclassifier__criterion=entropy, randomforestclassifier__max_features=sqrt, randomforestclassifier__min_samples_leaf=15, randomforestclassifier__min_samples_split=3, randomforestclassifier__n_estimators=100;, score=0.819 total time=   0.8s\n",
      "[CV 5/5] END randomforestclassifier__criterion=entropy, randomforestclassifier__max_features=sqrt, randomforestclassifier__min_samples_leaf=15, randomforestclassifier__min_samples_split=3, randomforestclassifier__n_estimators=100;, score=0.826 total time=   0.8s\n",
      "[CV 1/5] END randomforestclassifier__criterion=entropy, randomforestclassifier__max_features=sqrt, randomforestclassifier__min_samples_leaf=15, randomforestclassifier__min_samples_split=3, randomforestclassifier__n_estimators=150;, score=0.832 total time=   1.2s\n",
      "[CV 2/5] END randomforestclassifier__criterion=entropy, randomforestclassifier__max_features=sqrt, randomforestclassifier__min_samples_leaf=15, randomforestclassifier__min_samples_split=3, randomforestclassifier__n_estimators=150;, score=0.821 total time=   1.2s\n",
      "[CV 3/5] END randomforestclassifier__criterion=entropy, randomforestclassifier__max_features=sqrt, randomforestclassifier__min_samples_leaf=15, randomforestclassifier__min_samples_split=3, randomforestclassifier__n_estimators=150;, score=0.804 total time=   1.2s\n",
      "[CV 4/5] END randomforestclassifier__criterion=entropy, randomforestclassifier__max_features=sqrt, randomforestclassifier__min_samples_leaf=15, randomforestclassifier__min_samples_split=3, randomforestclassifier__n_estimators=150;, score=0.818 total time=   1.2s\n",
      "[CV 5/5] END randomforestclassifier__criterion=entropy, randomforestclassifier__max_features=sqrt, randomforestclassifier__min_samples_leaf=15, randomforestclassifier__min_samples_split=3, randomforestclassifier__n_estimators=150;, score=0.838 total time=   1.2s\n",
      "[CV 1/5] END randomforestclassifier__criterion=entropy, randomforestclassifier__max_features=sqrt, randomforestclassifier__min_samples_leaf=15, randomforestclassifier__min_samples_split=4, randomforestclassifier__n_estimators=50;, score=0.833 total time=   0.3s\n",
      "[CV 2/5] END randomforestclassifier__criterion=entropy, randomforestclassifier__max_features=sqrt, randomforestclassifier__min_samples_leaf=15, randomforestclassifier__min_samples_split=4, randomforestclassifier__n_estimators=50;, score=0.821 total time=   0.4s\n",
      "[CV 3/5] END randomforestclassifier__criterion=entropy, randomforestclassifier__max_features=sqrt, randomforestclassifier__min_samples_leaf=15, randomforestclassifier__min_samples_split=4, randomforestclassifier__n_estimators=50;, score=0.801 total time=   0.3s\n",
      "[CV 4/5] END randomforestclassifier__criterion=entropy, randomforestclassifier__max_features=sqrt, randomforestclassifier__min_samples_leaf=15, randomforestclassifier__min_samples_split=4, randomforestclassifier__n_estimators=50;, score=0.823 total time=   0.4s\n",
      "[CV 5/5] END randomforestclassifier__criterion=entropy, randomforestclassifier__max_features=sqrt, randomforestclassifier__min_samples_leaf=15, randomforestclassifier__min_samples_split=4, randomforestclassifier__n_estimators=50;, score=0.825 total time=   0.3s\n",
      "[CV 1/5] END randomforestclassifier__criterion=entropy, randomforestclassifier__max_features=sqrt, randomforestclassifier__min_samples_leaf=15, randomforestclassifier__min_samples_split=4, randomforestclassifier__n_estimators=100;, score=0.824 total time=   0.8s\n",
      "[CV 2/5] END randomforestclassifier__criterion=entropy, randomforestclassifier__max_features=sqrt, randomforestclassifier__min_samples_leaf=15, randomforestclassifier__min_samples_split=4, randomforestclassifier__n_estimators=100;, score=0.816 total time=   0.8s\n",
      "[CV 3/5] END randomforestclassifier__criterion=entropy, randomforestclassifier__max_features=sqrt, randomforestclassifier__min_samples_leaf=15, randomforestclassifier__min_samples_split=4, randomforestclassifier__n_estimators=100;, score=0.801 total time=   0.8s\n",
      "[CV 4/5] END randomforestclassifier__criterion=entropy, randomforestclassifier__max_features=sqrt, randomforestclassifier__min_samples_leaf=15, randomforestclassifier__min_samples_split=4, randomforestclassifier__n_estimators=100;, score=0.819 total time=   0.7s\n",
      "[CV 5/5] END randomforestclassifier__criterion=entropy, randomforestclassifier__max_features=sqrt, randomforestclassifier__min_samples_leaf=15, randomforestclassifier__min_samples_split=4, randomforestclassifier__n_estimators=100;, score=0.824 total time=   0.8s\n",
      "[CV 1/5] END randomforestclassifier__criterion=entropy, randomforestclassifier__max_features=sqrt, randomforestclassifier__min_samples_leaf=15, randomforestclassifier__min_samples_split=4, randomforestclassifier__n_estimators=150;, score=0.826 total time=   1.2s\n",
      "[CV 2/5] END randomforestclassifier__criterion=entropy, randomforestclassifier__max_features=sqrt, randomforestclassifier__min_samples_leaf=15, randomforestclassifier__min_samples_split=4, randomforestclassifier__n_estimators=150;, score=0.825 total time=   1.2s\n",
      "[CV 3/5] END randomforestclassifier__criterion=entropy, randomforestclassifier__max_features=sqrt, randomforestclassifier__min_samples_leaf=15, randomforestclassifier__min_samples_split=4, randomforestclassifier__n_estimators=150;, score=0.796 total time=   1.2s\n",
      "[CV 4/5] END randomforestclassifier__criterion=entropy, randomforestclassifier__max_features=sqrt, randomforestclassifier__min_samples_leaf=15, randomforestclassifier__min_samples_split=4, randomforestclassifier__n_estimators=150;, score=0.816 total time=   1.2s\n",
      "[CV 5/5] END randomforestclassifier__criterion=entropy, randomforestclassifier__max_features=sqrt, randomforestclassifier__min_samples_leaf=15, randomforestclassifier__min_samples_split=4, randomforestclassifier__n_estimators=150;, score=0.831 total time=   1.2s\n",
      "[CV 1/5] END randomforestclassifier__criterion=entropy, randomforestclassifier__max_features=0.33, randomforestclassifier__min_samples_leaf=1, randomforestclassifier__min_samples_split=2, randomforestclassifier__n_estimators=50;, score=0.844 total time=   0.6s\n",
      "[CV 2/5] END randomforestclassifier__criterion=entropy, randomforestclassifier__max_features=0.33, randomforestclassifier__min_samples_leaf=1, randomforestclassifier__min_samples_split=2, randomforestclassifier__n_estimators=50;, score=0.836 total time=   0.6s\n",
      "[CV 3/5] END randomforestclassifier__criterion=entropy, randomforestclassifier__max_features=0.33, randomforestclassifier__min_samples_leaf=1, randomforestclassifier__min_samples_split=2, randomforestclassifier__n_estimators=50;, score=0.825 total time=   0.6s\n",
      "[CV 4/5] END randomforestclassifier__criterion=entropy, randomforestclassifier__max_features=0.33, randomforestclassifier__min_samples_leaf=1, randomforestclassifier__min_samples_split=2, randomforestclassifier__n_estimators=50;, score=0.844 total time=   0.6s\n",
      "[CV 5/5] END randomforestclassifier__criterion=entropy, randomforestclassifier__max_features=0.33, randomforestclassifier__min_samples_leaf=1, randomforestclassifier__min_samples_split=2, randomforestclassifier__n_estimators=50;, score=0.844 total time=   0.6s\n",
      "[CV 1/5] END randomforestclassifier__criterion=entropy, randomforestclassifier__max_features=0.33, randomforestclassifier__min_samples_leaf=1, randomforestclassifier__min_samples_split=2, randomforestclassifier__n_estimators=100;, score=0.844 total time=   1.3s\n",
      "[CV 2/5] END randomforestclassifier__criterion=entropy, randomforestclassifier__max_features=0.33, randomforestclassifier__min_samples_leaf=1, randomforestclassifier__min_samples_split=2, randomforestclassifier__n_estimators=100;, score=0.841 total time=   1.3s\n",
      "[CV 3/5] END randomforestclassifier__criterion=entropy, randomforestclassifier__max_features=0.33, randomforestclassifier__min_samples_leaf=1, randomforestclassifier__min_samples_split=2, randomforestclassifier__n_estimators=100;, score=0.829 total time=   1.2s\n",
      "[CV 4/5] END randomforestclassifier__criterion=entropy, randomforestclassifier__max_features=0.33, randomforestclassifier__min_samples_leaf=1, randomforestclassifier__min_samples_split=2, randomforestclassifier__n_estimators=100;, score=0.839 total time=   1.2s\n",
      "[CV 5/5] END randomforestclassifier__criterion=entropy, randomforestclassifier__max_features=0.33, randomforestclassifier__min_samples_leaf=1, randomforestclassifier__min_samples_split=2, randomforestclassifier__n_estimators=100;, score=0.850 total time=   1.3s\n",
      "[CV 1/5] END randomforestclassifier__criterion=entropy, randomforestclassifier__max_features=0.33, randomforestclassifier__min_samples_leaf=1, randomforestclassifier__min_samples_split=2, randomforestclassifier__n_estimators=150;, score=0.844 total time=   2.0s\n",
      "[CV 2/5] END randomforestclassifier__criterion=entropy, randomforestclassifier__max_features=0.33, randomforestclassifier__min_samples_leaf=1, randomforestclassifier__min_samples_split=2, randomforestclassifier__n_estimators=150;, score=0.840 total time=   1.9s\n",
      "[CV 3/5] END randomforestclassifier__criterion=entropy, randomforestclassifier__max_features=0.33, randomforestclassifier__min_samples_leaf=1, randomforestclassifier__min_samples_split=2, randomforestclassifier__n_estimators=150;, score=0.828 total time=   2.0s\n",
      "[CV 4/5] END randomforestclassifier__criterion=entropy, randomforestclassifier__max_features=0.33, randomforestclassifier__min_samples_leaf=1, randomforestclassifier__min_samples_split=2, randomforestclassifier__n_estimators=150;, score=0.834 total time=   1.9s\n",
      "[CV 5/5] END randomforestclassifier__criterion=entropy, randomforestclassifier__max_features=0.33, randomforestclassifier__min_samples_leaf=1, randomforestclassifier__min_samples_split=2, randomforestclassifier__n_estimators=150;, score=0.842 total time=   1.9s\n",
      "[CV 1/5] END randomforestclassifier__criterion=entropy, randomforestclassifier__max_features=0.33, randomforestclassifier__min_samples_leaf=1, randomforestclassifier__min_samples_split=3, randomforestclassifier__n_estimators=50;, score=0.839 total time=   0.6s\n",
      "[CV 2/5] END randomforestclassifier__criterion=entropy, randomforestclassifier__max_features=0.33, randomforestclassifier__min_samples_leaf=1, randomforestclassifier__min_samples_split=3, randomforestclassifier__n_estimators=50;, score=0.844 total time=   0.6s\n",
      "[CV 3/5] END randomforestclassifier__criterion=entropy, randomforestclassifier__max_features=0.33, randomforestclassifier__min_samples_leaf=1, randomforestclassifier__min_samples_split=3, randomforestclassifier__n_estimators=50;, score=0.832 total time=   0.6s\n",
      "[CV 4/5] END randomforestclassifier__criterion=entropy, randomforestclassifier__max_features=0.33, randomforestclassifier__min_samples_leaf=1, randomforestclassifier__min_samples_split=3, randomforestclassifier__n_estimators=50;, score=0.834 total time=   0.6s\n",
      "[CV 5/5] END randomforestclassifier__criterion=entropy, randomforestclassifier__max_features=0.33, randomforestclassifier__min_samples_leaf=1, randomforestclassifier__min_samples_split=3, randomforestclassifier__n_estimators=50;, score=0.841 total time=   0.6s\n",
      "[CV 1/5] END randomforestclassifier__criterion=entropy, randomforestclassifier__max_features=0.33, randomforestclassifier__min_samples_leaf=1, randomforestclassifier__min_samples_split=3, randomforestclassifier__n_estimators=100;, score=0.842 total time=   1.3s\n",
      "[CV 2/5] END randomforestclassifier__criterion=entropy, randomforestclassifier__max_features=0.33, randomforestclassifier__min_samples_leaf=1, randomforestclassifier__min_samples_split=3, randomforestclassifier__n_estimators=100;, score=0.840 total time=   1.3s\n",
      "[CV 3/5] END randomforestclassifier__criterion=entropy, randomforestclassifier__max_features=0.33, randomforestclassifier__min_samples_leaf=1, randomforestclassifier__min_samples_split=3, randomforestclassifier__n_estimators=100;, score=0.830 total time=   1.3s\n",
      "[CV 4/5] END randomforestclassifier__criterion=entropy, randomforestclassifier__max_features=0.33, randomforestclassifier__min_samples_leaf=1, randomforestclassifier__min_samples_split=3, randomforestclassifier__n_estimators=100;, score=0.843 total time=   1.3s\n",
      "[CV 5/5] END randomforestclassifier__criterion=entropy, randomforestclassifier__max_features=0.33, randomforestclassifier__min_samples_leaf=1, randomforestclassifier__min_samples_split=3, randomforestclassifier__n_estimators=100;, score=0.844 total time=   1.3s\n",
      "[CV 1/5] END randomforestclassifier__criterion=entropy, randomforestclassifier__max_features=0.33, randomforestclassifier__min_samples_leaf=1, randomforestclassifier__min_samples_split=3, randomforestclassifier__n_estimators=150;, score=0.843 total time=   1.9s\n",
      "[CV 2/5] END randomforestclassifier__criterion=entropy, randomforestclassifier__max_features=0.33, randomforestclassifier__min_samples_leaf=1, randomforestclassifier__min_samples_split=3, randomforestclassifier__n_estimators=150;, score=0.846 total time=   2.0s\n",
      "[CV 3/5] END randomforestclassifier__criterion=entropy, randomforestclassifier__max_features=0.33, randomforestclassifier__min_samples_leaf=1, randomforestclassifier__min_samples_split=3, randomforestclassifier__n_estimators=150;, score=0.826 total time=   2.0s\n",
      "[CV 4/5] END randomforestclassifier__criterion=entropy, randomforestclassifier__max_features=0.33, randomforestclassifier__min_samples_leaf=1, randomforestclassifier__min_samples_split=3, randomforestclassifier__n_estimators=150;, score=0.835 total time=   1.9s\n",
      "[CV 5/5] END randomforestclassifier__criterion=entropy, randomforestclassifier__max_features=0.33, randomforestclassifier__min_samples_leaf=1, randomforestclassifier__min_samples_split=3, randomforestclassifier__n_estimators=150;, score=0.844 total time=   2.0s\n",
      "[CV 1/5] END randomforestclassifier__criterion=entropy, randomforestclassifier__max_features=0.33, randomforestclassifier__min_samples_leaf=1, randomforestclassifier__min_samples_split=4, randomforestclassifier__n_estimators=50;, score=0.848 total time=   0.6s\n",
      "[CV 2/5] END randomforestclassifier__criterion=entropy, randomforestclassifier__max_features=0.33, randomforestclassifier__min_samples_leaf=1, randomforestclassifier__min_samples_split=4, randomforestclassifier__n_estimators=50;, score=0.846 total time=   0.6s\n",
      "[CV 3/5] END randomforestclassifier__criterion=entropy, randomforestclassifier__max_features=0.33, randomforestclassifier__min_samples_leaf=1, randomforestclassifier__min_samples_split=4, randomforestclassifier__n_estimators=50;, score=0.836 total time=   0.6s\n",
      "[CV 4/5] END randomforestclassifier__criterion=entropy, randomforestclassifier__max_features=0.33, randomforestclassifier__min_samples_leaf=1, randomforestclassifier__min_samples_split=4, randomforestclassifier__n_estimators=50;, score=0.836 total time=   0.6s\n",
      "[CV 5/5] END randomforestclassifier__criterion=entropy, randomforestclassifier__max_features=0.33, randomforestclassifier__min_samples_leaf=1, randomforestclassifier__min_samples_split=4, randomforestclassifier__n_estimators=50;, score=0.844 total time=   0.6s\n",
      "[CV 1/5] END randomforestclassifier__criterion=entropy, randomforestclassifier__max_features=0.33, randomforestclassifier__min_samples_leaf=1, randomforestclassifier__min_samples_split=4, randomforestclassifier__n_estimators=100;, score=0.839 total time=   1.3s\n",
      "[CV 2/5] END randomforestclassifier__criterion=entropy, randomforestclassifier__max_features=0.33, randomforestclassifier__min_samples_leaf=1, randomforestclassifier__min_samples_split=4, randomforestclassifier__n_estimators=100;, score=0.847 total time=   1.3s\n",
      "[CV 3/5] END randomforestclassifier__criterion=entropy, randomforestclassifier__max_features=0.33, randomforestclassifier__min_samples_leaf=1, randomforestclassifier__min_samples_split=4, randomforestclassifier__n_estimators=100;, score=0.833 total time=   1.2s\n",
      "[CV 4/5] END randomforestclassifier__criterion=entropy, randomforestclassifier__max_features=0.33, randomforestclassifier__min_samples_leaf=1, randomforestclassifier__min_samples_split=4, randomforestclassifier__n_estimators=100;, score=0.839 total time=   1.2s\n",
      "[CV 5/5] END randomforestclassifier__criterion=entropy, randomforestclassifier__max_features=0.33, randomforestclassifier__min_samples_leaf=1, randomforestclassifier__min_samples_split=4, randomforestclassifier__n_estimators=100;, score=0.847 total time=   1.3s\n",
      "[CV 1/5] END randomforestclassifier__criterion=entropy, randomforestclassifier__max_features=0.33, randomforestclassifier__min_samples_leaf=1, randomforestclassifier__min_samples_split=4, randomforestclassifier__n_estimators=150;, score=0.846 total time=   1.9s\n",
      "[CV 2/5] END randomforestclassifier__criterion=entropy, randomforestclassifier__max_features=0.33, randomforestclassifier__min_samples_leaf=1, randomforestclassifier__min_samples_split=4, randomforestclassifier__n_estimators=150;, score=0.839 total time=   1.9s\n",
      "[CV 3/5] END randomforestclassifier__criterion=entropy, randomforestclassifier__max_features=0.33, randomforestclassifier__min_samples_leaf=1, randomforestclassifier__min_samples_split=4, randomforestclassifier__n_estimators=150;, score=0.824 total time=   1.9s\n",
      "[CV 4/5] END randomforestclassifier__criterion=entropy, randomforestclassifier__max_features=0.33, randomforestclassifier__min_samples_leaf=1, randomforestclassifier__min_samples_split=4, randomforestclassifier__n_estimators=150;, score=0.836 total time=   1.9s\n",
      "[CV 5/5] END randomforestclassifier__criterion=entropy, randomforestclassifier__max_features=0.33, randomforestclassifier__min_samples_leaf=1, randomforestclassifier__min_samples_split=4, randomforestclassifier__n_estimators=150;, score=0.849 total time=   2.0s\n",
      "[CV 1/5] END randomforestclassifier__criterion=entropy, randomforestclassifier__max_features=0.33, randomforestclassifier__min_samples_leaf=5, randomforestclassifier__min_samples_split=2, randomforestclassifier__n_estimators=50;, score=0.846 total time=   0.5s\n",
      "[CV 2/5] END randomforestclassifier__criterion=entropy, randomforestclassifier__max_features=0.33, randomforestclassifier__min_samples_leaf=5, randomforestclassifier__min_samples_split=2, randomforestclassifier__n_estimators=50;, score=0.827 total time=   0.5s\n",
      "[CV 3/5] END randomforestclassifier__criterion=entropy, randomforestclassifier__max_features=0.33, randomforestclassifier__min_samples_leaf=5, randomforestclassifier__min_samples_split=2, randomforestclassifier__n_estimators=50;, score=0.815 total time=   0.6s\n",
      "[CV 4/5] END randomforestclassifier__criterion=entropy, randomforestclassifier__max_features=0.33, randomforestclassifier__min_samples_leaf=5, randomforestclassifier__min_samples_split=2, randomforestclassifier__n_estimators=50;, score=0.828 total time=   0.5s\n",
      "[CV 5/5] END randomforestclassifier__criterion=entropy, randomforestclassifier__max_features=0.33, randomforestclassifier__min_samples_leaf=5, randomforestclassifier__min_samples_split=2, randomforestclassifier__n_estimators=50;, score=0.844 total time=   0.5s\n",
      "[CV 1/5] END randomforestclassifier__criterion=entropy, randomforestclassifier__max_features=0.33, randomforestclassifier__min_samples_leaf=5, randomforestclassifier__min_samples_split=2, randomforestclassifier__n_estimators=100;, score=0.839 total time=   1.1s\n",
      "[CV 2/5] END randomforestclassifier__criterion=entropy, randomforestclassifier__max_features=0.33, randomforestclassifier__min_samples_leaf=5, randomforestclassifier__min_samples_split=2, randomforestclassifier__n_estimators=100;, score=0.829 total time=   1.1s\n",
      "[CV 3/5] END randomforestclassifier__criterion=entropy, randomforestclassifier__max_features=0.33, randomforestclassifier__min_samples_leaf=5, randomforestclassifier__min_samples_split=2, randomforestclassifier__n_estimators=100;, score=0.812 total time=   1.1s\n",
      "[CV 4/5] END randomforestclassifier__criterion=entropy, randomforestclassifier__max_features=0.33, randomforestclassifier__min_samples_leaf=5, randomforestclassifier__min_samples_split=2, randomforestclassifier__n_estimators=100;, score=0.830 total time=   1.2s\n",
      "[CV 5/5] END randomforestclassifier__criterion=entropy, randomforestclassifier__max_features=0.33, randomforestclassifier__min_samples_leaf=5, randomforestclassifier__min_samples_split=2, randomforestclassifier__n_estimators=100;, score=0.839 total time=   1.1s\n",
      "[CV 1/5] END randomforestclassifier__criterion=entropy, randomforestclassifier__max_features=0.33, randomforestclassifier__min_samples_leaf=5, randomforestclassifier__min_samples_split=2, randomforestclassifier__n_estimators=150;, score=0.837 total time=   1.7s\n",
      "[CV 2/5] END randomforestclassifier__criterion=entropy, randomforestclassifier__max_features=0.33, randomforestclassifier__min_samples_leaf=5, randomforestclassifier__min_samples_split=2, randomforestclassifier__n_estimators=150;, score=0.836 total time=   1.8s\n",
      "[CV 3/5] END randomforestclassifier__criterion=entropy, randomforestclassifier__max_features=0.33, randomforestclassifier__min_samples_leaf=5, randomforestclassifier__min_samples_split=2, randomforestclassifier__n_estimators=150;, score=0.816 total time=   1.8s\n",
      "[CV 4/5] END randomforestclassifier__criterion=entropy, randomforestclassifier__max_features=0.33, randomforestclassifier__min_samples_leaf=5, randomforestclassifier__min_samples_split=2, randomforestclassifier__n_estimators=150;, score=0.827 total time=   1.8s\n",
      "[CV 5/5] END randomforestclassifier__criterion=entropy, randomforestclassifier__max_features=0.33, randomforestclassifier__min_samples_leaf=5, randomforestclassifier__min_samples_split=2, randomforestclassifier__n_estimators=150;, score=0.836 total time=   1.7s\n",
      "[CV 1/5] END randomforestclassifier__criterion=entropy, randomforestclassifier__max_features=0.33, randomforestclassifier__min_samples_leaf=5, randomforestclassifier__min_samples_split=3, randomforestclassifier__n_estimators=50;, score=0.842 total time=   0.6s\n",
      "[CV 2/5] END randomforestclassifier__criterion=entropy, randomforestclassifier__max_features=0.33, randomforestclassifier__min_samples_leaf=5, randomforestclassifier__min_samples_split=3, randomforestclassifier__n_estimators=50;, score=0.828 total time=   0.5s\n",
      "[CV 3/5] END randomforestclassifier__criterion=entropy, randomforestclassifier__max_features=0.33, randomforestclassifier__min_samples_leaf=5, randomforestclassifier__min_samples_split=3, randomforestclassifier__n_estimators=50;, score=0.812 total time=   0.5s\n",
      "[CV 4/5] END randomforestclassifier__criterion=entropy, randomforestclassifier__max_features=0.33, randomforestclassifier__min_samples_leaf=5, randomforestclassifier__min_samples_split=3, randomforestclassifier__n_estimators=50;, score=0.831 total time=   0.5s\n",
      "[CV 5/5] END randomforestclassifier__criterion=entropy, randomforestclassifier__max_features=0.33, randomforestclassifier__min_samples_leaf=5, randomforestclassifier__min_samples_split=3, randomforestclassifier__n_estimators=50;, score=0.834 total time=   0.5s\n",
      "[CV 1/5] END randomforestclassifier__criterion=entropy, randomforestclassifier__max_features=0.33, randomforestclassifier__min_samples_leaf=5, randomforestclassifier__min_samples_split=3, randomforestclassifier__n_estimators=100;, score=0.841 total time=   1.1s\n",
      "[CV 2/5] END randomforestclassifier__criterion=entropy, randomforestclassifier__max_features=0.33, randomforestclassifier__min_samples_leaf=5, randomforestclassifier__min_samples_split=3, randomforestclassifier__n_estimators=100;, score=0.832 total time=   1.1s\n",
      "[CV 3/5] END randomforestclassifier__criterion=entropy, randomforestclassifier__max_features=0.33, randomforestclassifier__min_samples_leaf=5, randomforestclassifier__min_samples_split=3, randomforestclassifier__n_estimators=100;, score=0.815 total time=   1.1s\n",
      "[CV 4/5] END randomforestclassifier__criterion=entropy, randomforestclassifier__max_features=0.33, randomforestclassifier__min_samples_leaf=5, randomforestclassifier__min_samples_split=3, randomforestclassifier__n_estimators=100;, score=0.833 total time=   1.1s\n",
      "[CV 5/5] END randomforestclassifier__criterion=entropy, randomforestclassifier__max_features=0.33, randomforestclassifier__min_samples_leaf=5, randomforestclassifier__min_samples_split=3, randomforestclassifier__n_estimators=100;, score=0.836 total time=   1.1s\n",
      "[CV 1/5] END randomforestclassifier__criterion=entropy, randomforestclassifier__max_features=0.33, randomforestclassifier__min_samples_leaf=5, randomforestclassifier__min_samples_split=3, randomforestclassifier__n_estimators=150;, score=0.836 total time=   1.8s\n",
      "[CV 2/5] END randomforestclassifier__criterion=entropy, randomforestclassifier__max_features=0.33, randomforestclassifier__min_samples_leaf=5, randomforestclassifier__min_samples_split=3, randomforestclassifier__n_estimators=150;, score=0.832 total time=   1.7s\n",
      "[CV 3/5] END randomforestclassifier__criterion=entropy, randomforestclassifier__max_features=0.33, randomforestclassifier__min_samples_leaf=5, randomforestclassifier__min_samples_split=3, randomforestclassifier__n_estimators=150;, score=0.817 total time=   1.7s\n",
      "[CV 4/5] END randomforestclassifier__criterion=entropy, randomforestclassifier__max_features=0.33, randomforestclassifier__min_samples_leaf=5, randomforestclassifier__min_samples_split=3, randomforestclassifier__n_estimators=150;, score=0.833 total time=   1.8s\n",
      "[CV 5/5] END randomforestclassifier__criterion=entropy, randomforestclassifier__max_features=0.33, randomforestclassifier__min_samples_leaf=5, randomforestclassifier__min_samples_split=3, randomforestclassifier__n_estimators=150;, score=0.843 total time=   1.7s\n",
      "[CV 1/5] END randomforestclassifier__criterion=entropy, randomforestclassifier__max_features=0.33, randomforestclassifier__min_samples_leaf=5, randomforestclassifier__min_samples_split=4, randomforestclassifier__n_estimators=50;, score=0.842 total time=   0.5s\n",
      "[CV 2/5] END randomforestclassifier__criterion=entropy, randomforestclassifier__max_features=0.33, randomforestclassifier__min_samples_leaf=5, randomforestclassifier__min_samples_split=4, randomforestclassifier__n_estimators=50;, score=0.832 total time=   0.6s\n",
      "[CV 3/5] END randomforestclassifier__criterion=entropy, randomforestclassifier__max_features=0.33, randomforestclassifier__min_samples_leaf=5, randomforestclassifier__min_samples_split=4, randomforestclassifier__n_estimators=50;, score=0.818 total time=   0.5s\n",
      "[CV 4/5] END randomforestclassifier__criterion=entropy, randomforestclassifier__max_features=0.33, randomforestclassifier__min_samples_leaf=5, randomforestclassifier__min_samples_split=4, randomforestclassifier__n_estimators=50;, score=0.830 total time=   0.6s\n",
      "[CV 5/5] END randomforestclassifier__criterion=entropy, randomforestclassifier__max_features=0.33, randomforestclassifier__min_samples_leaf=5, randomforestclassifier__min_samples_split=4, randomforestclassifier__n_estimators=50;, score=0.841 total time=   0.5s\n",
      "[CV 1/5] END randomforestclassifier__criterion=entropy, randomforestclassifier__max_features=0.33, randomforestclassifier__min_samples_leaf=5, randomforestclassifier__min_samples_split=4, randomforestclassifier__n_estimators=100;, score=0.842 total time=   1.1s\n",
      "[CV 2/5] END randomforestclassifier__criterion=entropy, randomforestclassifier__max_features=0.33, randomforestclassifier__min_samples_leaf=5, randomforestclassifier__min_samples_split=4, randomforestclassifier__n_estimators=100;, score=0.826 total time=   1.1s\n",
      "[CV 3/5] END randomforestclassifier__criterion=entropy, randomforestclassifier__max_features=0.33, randomforestclassifier__min_samples_leaf=5, randomforestclassifier__min_samples_split=4, randomforestclassifier__n_estimators=100;, score=0.811 total time=   1.2s\n",
      "[CV 4/5] END randomforestclassifier__criterion=entropy, randomforestclassifier__max_features=0.33, randomforestclassifier__min_samples_leaf=5, randomforestclassifier__min_samples_split=4, randomforestclassifier__n_estimators=100;, score=0.831 total time=   1.2s\n",
      "[CV 5/5] END randomforestclassifier__criterion=entropy, randomforestclassifier__max_features=0.33, randomforestclassifier__min_samples_leaf=5, randomforestclassifier__min_samples_split=4, randomforestclassifier__n_estimators=100;, score=0.840 total time=   1.2s\n",
      "[CV 1/5] END randomforestclassifier__criterion=entropy, randomforestclassifier__max_features=0.33, randomforestclassifier__min_samples_leaf=5, randomforestclassifier__min_samples_split=4, randomforestclassifier__n_estimators=150;, score=0.841 total time=   1.7s\n",
      "[CV 2/5] END randomforestclassifier__criterion=entropy, randomforestclassifier__max_features=0.33, randomforestclassifier__min_samples_leaf=5, randomforestclassifier__min_samples_split=4, randomforestclassifier__n_estimators=150;, score=0.837 total time=   1.8s\n",
      "[CV 3/5] END randomforestclassifier__criterion=entropy, randomforestclassifier__max_features=0.33, randomforestclassifier__min_samples_leaf=5, randomforestclassifier__min_samples_split=4, randomforestclassifier__n_estimators=150;, score=0.816 total time=   1.7s\n",
      "[CV 4/5] END randomforestclassifier__criterion=entropy, randomforestclassifier__max_features=0.33, randomforestclassifier__min_samples_leaf=5, randomforestclassifier__min_samples_split=4, randomforestclassifier__n_estimators=150;, score=0.831 total time=   1.7s\n",
      "[CV 5/5] END randomforestclassifier__criterion=entropy, randomforestclassifier__max_features=0.33, randomforestclassifier__min_samples_leaf=5, randomforestclassifier__min_samples_split=4, randomforestclassifier__n_estimators=150;, score=0.840 total time=   1.7s\n",
      "[CV 1/5] END randomforestclassifier__criterion=entropy, randomforestclassifier__max_features=0.33, randomforestclassifier__min_samples_leaf=10, randomforestclassifier__min_samples_split=2, randomforestclassifier__n_estimators=50;, score=0.838 total time=   0.5s\n",
      "[CV 2/5] END randomforestclassifier__criterion=entropy, randomforestclassifier__max_features=0.33, randomforestclassifier__min_samples_leaf=10, randomforestclassifier__min_samples_split=2, randomforestclassifier__n_estimators=50;, score=0.827 total time=   0.5s\n",
      "[CV 3/5] END randomforestclassifier__criterion=entropy, randomforestclassifier__max_features=0.33, randomforestclassifier__min_samples_leaf=10, randomforestclassifier__min_samples_split=2, randomforestclassifier__n_estimators=50;, score=0.809 total time=   0.5s\n",
      "[CV 4/5] END randomforestclassifier__criterion=entropy, randomforestclassifier__max_features=0.33, randomforestclassifier__min_samples_leaf=10, randomforestclassifier__min_samples_split=2, randomforestclassifier__n_estimators=50;, score=0.825 total time=   0.5s\n",
      "[CV 5/5] END randomforestclassifier__criterion=entropy, randomforestclassifier__max_features=0.33, randomforestclassifier__min_samples_leaf=10, randomforestclassifier__min_samples_split=2, randomforestclassifier__n_estimators=50;, score=0.834 total time=   0.5s\n",
      "[CV 1/5] END randomforestclassifier__criterion=entropy, randomforestclassifier__max_features=0.33, randomforestclassifier__min_samples_leaf=10, randomforestclassifier__min_samples_split=2, randomforestclassifier__n_estimators=100;, score=0.837 total time=   1.1s\n",
      "[CV 2/5] END randomforestclassifier__criterion=entropy, randomforestclassifier__max_features=0.33, randomforestclassifier__min_samples_leaf=10, randomforestclassifier__min_samples_split=2, randomforestclassifier__n_estimators=100;, score=0.824 total time=   1.0s\n",
      "[CV 3/5] END randomforestclassifier__criterion=entropy, randomforestclassifier__max_features=0.33, randomforestclassifier__min_samples_leaf=10, randomforestclassifier__min_samples_split=2, randomforestclassifier__n_estimators=100;, score=0.805 total time=   1.0s\n",
      "[CV 4/5] END randomforestclassifier__criterion=entropy, randomforestclassifier__max_features=0.33, randomforestclassifier__min_samples_leaf=10, randomforestclassifier__min_samples_split=2, randomforestclassifier__n_estimators=100;, score=0.823 total time=   1.0s\n",
      "[CV 5/5] END randomforestclassifier__criterion=entropy, randomforestclassifier__max_features=0.33, randomforestclassifier__min_samples_leaf=10, randomforestclassifier__min_samples_split=2, randomforestclassifier__n_estimators=100;, score=0.837 total time=   1.0s\n",
      "[CV 1/5] END randomforestclassifier__criterion=entropy, randomforestclassifier__max_features=0.33, randomforestclassifier__min_samples_leaf=10, randomforestclassifier__min_samples_split=2, randomforestclassifier__n_estimators=150;, score=0.836 total time=   1.6s\n",
      "[CV 2/5] END randomforestclassifier__criterion=entropy, randomforestclassifier__max_features=0.33, randomforestclassifier__min_samples_leaf=10, randomforestclassifier__min_samples_split=2, randomforestclassifier__n_estimators=150;, score=0.826 total time=   1.6s\n",
      "[CV 3/5] END randomforestclassifier__criterion=entropy, randomforestclassifier__max_features=0.33, randomforestclassifier__min_samples_leaf=10, randomforestclassifier__min_samples_split=2, randomforestclassifier__n_estimators=150;, score=0.814 total time=   1.6s\n",
      "[CV 4/5] END randomforestclassifier__criterion=entropy, randomforestclassifier__max_features=0.33, randomforestclassifier__min_samples_leaf=10, randomforestclassifier__min_samples_split=2, randomforestclassifier__n_estimators=150;, score=0.825 total time=   1.6s\n",
      "[CV 5/5] END randomforestclassifier__criterion=entropy, randomforestclassifier__max_features=0.33, randomforestclassifier__min_samples_leaf=10, randomforestclassifier__min_samples_split=2, randomforestclassifier__n_estimators=150;, score=0.834 total time=   1.6s\n",
      "[CV 1/5] END randomforestclassifier__criterion=entropy, randomforestclassifier__max_features=0.33, randomforestclassifier__min_samples_leaf=10, randomforestclassifier__min_samples_split=3, randomforestclassifier__n_estimators=50;, score=0.834 total time=   0.5s\n",
      "[CV 2/5] END randomforestclassifier__criterion=entropy, randomforestclassifier__max_features=0.33, randomforestclassifier__min_samples_leaf=10, randomforestclassifier__min_samples_split=3, randomforestclassifier__n_estimators=50;, score=0.826 total time=   0.5s\n",
      "[CV 3/5] END randomforestclassifier__criterion=entropy, randomforestclassifier__max_features=0.33, randomforestclassifier__min_samples_leaf=10, randomforestclassifier__min_samples_split=3, randomforestclassifier__n_estimators=50;, score=0.806 total time=   0.5s\n",
      "[CV 4/5] END randomforestclassifier__criterion=entropy, randomforestclassifier__max_features=0.33, randomforestclassifier__min_samples_leaf=10, randomforestclassifier__min_samples_split=3, randomforestclassifier__n_estimators=50;, score=0.823 total time=   0.5s\n",
      "[CV 5/5] END randomforestclassifier__criterion=entropy, randomforestclassifier__max_features=0.33, randomforestclassifier__min_samples_leaf=10, randomforestclassifier__min_samples_split=3, randomforestclassifier__n_estimators=50;, score=0.834 total time=   0.5s\n",
      "[CV 1/5] END randomforestclassifier__criterion=entropy, randomforestclassifier__max_features=0.33, randomforestclassifier__min_samples_leaf=10, randomforestclassifier__min_samples_split=3, randomforestclassifier__n_estimators=100;, score=0.834 total time=   1.0s\n",
      "[CV 2/5] END randomforestclassifier__criterion=entropy, randomforestclassifier__max_features=0.33, randomforestclassifier__min_samples_leaf=10, randomforestclassifier__min_samples_split=3, randomforestclassifier__n_estimators=100;, score=0.826 total time=   1.0s\n",
      "[CV 3/5] END randomforestclassifier__criterion=entropy, randomforestclassifier__max_features=0.33, randomforestclassifier__min_samples_leaf=10, randomforestclassifier__min_samples_split=3, randomforestclassifier__n_estimators=100;, score=0.804 total time=   1.0s\n",
      "[CV 4/5] END randomforestclassifier__criterion=entropy, randomforestclassifier__max_features=0.33, randomforestclassifier__min_samples_leaf=10, randomforestclassifier__min_samples_split=3, randomforestclassifier__n_estimators=100;, score=0.826 total time=   1.0s\n",
      "[CV 5/5] END randomforestclassifier__criterion=entropy, randomforestclassifier__max_features=0.33, randomforestclassifier__min_samples_leaf=10, randomforestclassifier__min_samples_split=3, randomforestclassifier__n_estimators=100;, score=0.837 total time=   1.0s\n",
      "[CV 1/5] END randomforestclassifier__criterion=entropy, randomforestclassifier__max_features=0.33, randomforestclassifier__min_samples_leaf=10, randomforestclassifier__min_samples_split=3, randomforestclassifier__n_estimators=150;, score=0.833 total time=   1.6s\n",
      "[CV 2/5] END randomforestclassifier__criterion=entropy, randomforestclassifier__max_features=0.33, randomforestclassifier__min_samples_leaf=10, randomforestclassifier__min_samples_split=3, randomforestclassifier__n_estimators=150;, score=0.825 total time=   1.7s\n",
      "[CV 3/5] END randomforestclassifier__criterion=entropy, randomforestclassifier__max_features=0.33, randomforestclassifier__min_samples_leaf=10, randomforestclassifier__min_samples_split=3, randomforestclassifier__n_estimators=150;, score=0.804 total time=   1.5s\n",
      "[CV 4/5] END randomforestclassifier__criterion=entropy, randomforestclassifier__max_features=0.33, randomforestclassifier__min_samples_leaf=10, randomforestclassifier__min_samples_split=3, randomforestclassifier__n_estimators=150;, score=0.825 total time=   1.6s\n",
      "[CV 5/5] END randomforestclassifier__criterion=entropy, randomforestclassifier__max_features=0.33, randomforestclassifier__min_samples_leaf=10, randomforestclassifier__min_samples_split=3, randomforestclassifier__n_estimators=150;, score=0.834 total time=   1.7s\n",
      "[CV 1/5] END randomforestclassifier__criterion=entropy, randomforestclassifier__max_features=0.33, randomforestclassifier__min_samples_leaf=10, randomforestclassifier__min_samples_split=4, randomforestclassifier__n_estimators=50;, score=0.838 total time=   0.5s\n",
      "[CV 2/5] END randomforestclassifier__criterion=entropy, randomforestclassifier__max_features=0.33, randomforestclassifier__min_samples_leaf=10, randomforestclassifier__min_samples_split=4, randomforestclassifier__n_estimators=50;, score=0.821 total time=   0.5s\n",
      "[CV 3/5] END randomforestclassifier__criterion=entropy, randomforestclassifier__max_features=0.33, randomforestclassifier__min_samples_leaf=10, randomforestclassifier__min_samples_split=4, randomforestclassifier__n_estimators=50;, score=0.810 total time=   0.5s\n",
      "[CV 4/5] END randomforestclassifier__criterion=entropy, randomforestclassifier__max_features=0.33, randomforestclassifier__min_samples_leaf=10, randomforestclassifier__min_samples_split=4, randomforestclassifier__n_estimators=50;, score=0.821 total time=   0.5s\n",
      "[CV 5/5] END randomforestclassifier__criterion=entropy, randomforestclassifier__max_features=0.33, randomforestclassifier__min_samples_leaf=10, randomforestclassifier__min_samples_split=4, randomforestclassifier__n_estimators=50;, score=0.831 total time=   0.5s\n",
      "[CV 1/5] END randomforestclassifier__criterion=entropy, randomforestclassifier__max_features=0.33, randomforestclassifier__min_samples_leaf=10, randomforestclassifier__min_samples_split=4, randomforestclassifier__n_estimators=100;, score=0.834 total time=   1.0s\n",
      "[CV 2/5] END randomforestclassifier__criterion=entropy, randomforestclassifier__max_features=0.33, randomforestclassifier__min_samples_leaf=10, randomforestclassifier__min_samples_split=4, randomforestclassifier__n_estimators=100;, score=0.833 total time=   1.1s\n",
      "[CV 3/5] END randomforestclassifier__criterion=entropy, randomforestclassifier__max_features=0.33, randomforestclassifier__min_samples_leaf=10, randomforestclassifier__min_samples_split=4, randomforestclassifier__n_estimators=100;, score=0.804 total time=   1.0s\n",
      "[CV 4/5] END randomforestclassifier__criterion=entropy, randomforestclassifier__max_features=0.33, randomforestclassifier__min_samples_leaf=10, randomforestclassifier__min_samples_split=4, randomforestclassifier__n_estimators=100;, score=0.826 total time=   1.0s\n",
      "[CV 5/5] END randomforestclassifier__criterion=entropy, randomforestclassifier__max_features=0.33, randomforestclassifier__min_samples_leaf=10, randomforestclassifier__min_samples_split=4, randomforestclassifier__n_estimators=100;, score=0.835 total time=   1.1s\n",
      "[CV 1/5] END randomforestclassifier__criterion=entropy, randomforestclassifier__max_features=0.33, randomforestclassifier__min_samples_leaf=10, randomforestclassifier__min_samples_split=4, randomforestclassifier__n_estimators=150;, score=0.836 total time=   1.6s\n",
      "[CV 2/5] END randomforestclassifier__criterion=entropy, randomforestclassifier__max_features=0.33, randomforestclassifier__min_samples_leaf=10, randomforestclassifier__min_samples_split=4, randomforestclassifier__n_estimators=150;, score=0.829 total time=   1.6s\n",
      "[CV 3/5] END randomforestclassifier__criterion=entropy, randomforestclassifier__max_features=0.33, randomforestclassifier__min_samples_leaf=10, randomforestclassifier__min_samples_split=4, randomforestclassifier__n_estimators=150;, score=0.809 total time=   1.6s\n",
      "[CV 4/5] END randomforestclassifier__criterion=entropy, randomforestclassifier__max_features=0.33, randomforestclassifier__min_samples_leaf=10, randomforestclassifier__min_samples_split=4, randomforestclassifier__n_estimators=150;, score=0.822 total time=   1.6s\n",
      "[CV 5/5] END randomforestclassifier__criterion=entropy, randomforestclassifier__max_features=0.33, randomforestclassifier__min_samples_leaf=10, randomforestclassifier__min_samples_split=4, randomforestclassifier__n_estimators=150;, score=0.841 total time=   1.7s\n",
      "[CV 1/5] END randomforestclassifier__criterion=entropy, randomforestclassifier__max_features=0.33, randomforestclassifier__min_samples_leaf=15, randomforestclassifier__min_samples_split=2, randomforestclassifier__n_estimators=50;, score=0.837 total time=   0.5s\n",
      "[CV 2/5] END randomforestclassifier__criterion=entropy, randomforestclassifier__max_features=0.33, randomforestclassifier__min_samples_leaf=15, randomforestclassifier__min_samples_split=2, randomforestclassifier__n_estimators=50;, score=0.819 total time=   0.5s\n",
      "[CV 3/5] END randomforestclassifier__criterion=entropy, randomforestclassifier__max_features=0.33, randomforestclassifier__min_samples_leaf=15, randomforestclassifier__min_samples_split=2, randomforestclassifier__n_estimators=50;, score=0.805 total time=   0.5s\n",
      "[CV 4/5] END randomforestclassifier__criterion=entropy, randomforestclassifier__max_features=0.33, randomforestclassifier__min_samples_leaf=15, randomforestclassifier__min_samples_split=2, randomforestclassifier__n_estimators=50;, score=0.818 total time=   0.5s\n",
      "[CV 5/5] END randomforestclassifier__criterion=entropy, randomforestclassifier__max_features=0.33, randomforestclassifier__min_samples_leaf=15, randomforestclassifier__min_samples_split=2, randomforestclassifier__n_estimators=50;, score=0.832 total time=   0.5s\n",
      "[CV 1/5] END randomforestclassifier__criterion=entropy, randomforestclassifier__max_features=0.33, randomforestclassifier__min_samples_leaf=15, randomforestclassifier__min_samples_split=2, randomforestclassifier__n_estimators=100;, score=0.834 total time=   1.0s\n",
      "[CV 2/5] END randomforestclassifier__criterion=entropy, randomforestclassifier__max_features=0.33, randomforestclassifier__min_samples_leaf=15, randomforestclassifier__min_samples_split=2, randomforestclassifier__n_estimators=100;, score=0.825 total time=   1.0s\n",
      "[CV 3/5] END randomforestclassifier__criterion=entropy, randomforestclassifier__max_features=0.33, randomforestclassifier__min_samples_leaf=15, randomforestclassifier__min_samples_split=2, randomforestclassifier__n_estimators=100;, score=0.800 total time=   1.0s\n",
      "[CV 4/5] END randomforestclassifier__criterion=entropy, randomforestclassifier__max_features=0.33, randomforestclassifier__min_samples_leaf=15, randomforestclassifier__min_samples_split=2, randomforestclassifier__n_estimators=100;, score=0.818 total time=   0.9s\n",
      "[CV 5/5] END randomforestclassifier__criterion=entropy, randomforestclassifier__max_features=0.33, randomforestclassifier__min_samples_leaf=15, randomforestclassifier__min_samples_split=2, randomforestclassifier__n_estimators=100;, score=0.828 total time=   1.0s\n",
      "[CV 1/5] END randomforestclassifier__criterion=entropy, randomforestclassifier__max_features=0.33, randomforestclassifier__min_samples_leaf=15, randomforestclassifier__min_samples_split=2, randomforestclassifier__n_estimators=150;, score=0.837 total time=   1.5s\n",
      "[CV 2/5] END randomforestclassifier__criterion=entropy, randomforestclassifier__max_features=0.33, randomforestclassifier__min_samples_leaf=15, randomforestclassifier__min_samples_split=2, randomforestclassifier__n_estimators=150;, score=0.824 total time=   1.5s\n",
      "[CV 3/5] END randomforestclassifier__criterion=entropy, randomforestclassifier__max_features=0.33, randomforestclassifier__min_samples_leaf=15, randomforestclassifier__min_samples_split=2, randomforestclassifier__n_estimators=150;, score=0.809 total time=   1.5s\n",
      "[CV 4/5] END randomforestclassifier__criterion=entropy, randomforestclassifier__max_features=0.33, randomforestclassifier__min_samples_leaf=15, randomforestclassifier__min_samples_split=2, randomforestclassifier__n_estimators=150;, score=0.811 total time=   1.5s\n",
      "[CV 5/5] END randomforestclassifier__criterion=entropy, randomforestclassifier__max_features=0.33, randomforestclassifier__min_samples_leaf=15, randomforestclassifier__min_samples_split=2, randomforestclassifier__n_estimators=150;, score=0.829 total time=   1.5s\n",
      "[CV 1/5] END randomforestclassifier__criterion=entropy, randomforestclassifier__max_features=0.33, randomforestclassifier__min_samples_leaf=15, randomforestclassifier__min_samples_split=3, randomforestclassifier__n_estimators=50;, score=0.829 total time=   0.4s\n",
      "[CV 2/5] END randomforestclassifier__criterion=entropy, randomforestclassifier__max_features=0.33, randomforestclassifier__min_samples_leaf=15, randomforestclassifier__min_samples_split=3, randomforestclassifier__n_estimators=50;, score=0.822 total time=   0.5s\n",
      "[CV 3/5] END randomforestclassifier__criterion=entropy, randomforestclassifier__max_features=0.33, randomforestclassifier__min_samples_leaf=15, randomforestclassifier__min_samples_split=3, randomforestclassifier__n_estimators=50;, score=0.802 total time=   0.5s\n",
      "[CV 4/5] END randomforestclassifier__criterion=entropy, randomforestclassifier__max_features=0.33, randomforestclassifier__min_samples_leaf=15, randomforestclassifier__min_samples_split=3, randomforestclassifier__n_estimators=50;, score=0.822 total time=   0.4s\n",
      "[CV 5/5] END randomforestclassifier__criterion=entropy, randomforestclassifier__max_features=0.33, randomforestclassifier__min_samples_leaf=15, randomforestclassifier__min_samples_split=3, randomforestclassifier__n_estimators=50;, score=0.826 total time=   0.5s\n",
      "[CV 1/5] END randomforestclassifier__criterion=entropy, randomforestclassifier__max_features=0.33, randomforestclassifier__min_samples_leaf=15, randomforestclassifier__min_samples_split=3, randomforestclassifier__n_estimators=100;, score=0.841 total time=   1.0s\n",
      "[CV 2/5] END randomforestclassifier__criterion=entropy, randomforestclassifier__max_features=0.33, randomforestclassifier__min_samples_leaf=15, randomforestclassifier__min_samples_split=3, randomforestclassifier__n_estimators=100;, score=0.824 total time=   0.9s\n",
      "[CV 3/5] END randomforestclassifier__criterion=entropy, randomforestclassifier__max_features=0.33, randomforestclassifier__min_samples_leaf=15, randomforestclassifier__min_samples_split=3, randomforestclassifier__n_estimators=100;, score=0.796 total time=   1.0s\n",
      "[CV 4/5] END randomforestclassifier__criterion=entropy, randomforestclassifier__max_features=0.33, randomforestclassifier__min_samples_leaf=15, randomforestclassifier__min_samples_split=3, randomforestclassifier__n_estimators=100;, score=0.820 total time=   1.0s\n",
      "[CV 5/5] END randomforestclassifier__criterion=entropy, randomforestclassifier__max_features=0.33, randomforestclassifier__min_samples_leaf=15, randomforestclassifier__min_samples_split=3, randomforestclassifier__n_estimators=100;, score=0.829 total time=   1.0s\n",
      "[CV 1/5] END randomforestclassifier__criterion=entropy, randomforestclassifier__max_features=0.33, randomforestclassifier__min_samples_leaf=15, randomforestclassifier__min_samples_split=3, randomforestclassifier__n_estimators=150;, score=0.839 total time=   1.5s\n",
      "[CV 2/5] END randomforestclassifier__criterion=entropy, randomforestclassifier__max_features=0.33, randomforestclassifier__min_samples_leaf=15, randomforestclassifier__min_samples_split=3, randomforestclassifier__n_estimators=150;, score=0.819 total time=   1.5s\n",
      "[CV 3/5] END randomforestclassifier__criterion=entropy, randomforestclassifier__max_features=0.33, randomforestclassifier__min_samples_leaf=15, randomforestclassifier__min_samples_split=3, randomforestclassifier__n_estimators=150;, score=0.806 total time=   1.5s\n",
      "[CV 4/5] END randomforestclassifier__criterion=entropy, randomforestclassifier__max_features=0.33, randomforestclassifier__min_samples_leaf=15, randomforestclassifier__min_samples_split=3, randomforestclassifier__n_estimators=150;, score=0.819 total time=   1.4s\n",
      "[CV 5/5] END randomforestclassifier__criterion=entropy, randomforestclassifier__max_features=0.33, randomforestclassifier__min_samples_leaf=15, randomforestclassifier__min_samples_split=3, randomforestclassifier__n_estimators=150;, score=0.833 total time=   1.5s\n",
      "[CV 1/5] END randomforestclassifier__criterion=entropy, randomforestclassifier__max_features=0.33, randomforestclassifier__min_samples_leaf=15, randomforestclassifier__min_samples_split=4, randomforestclassifier__n_estimators=50;, score=0.832 total time=   0.5s\n",
      "[CV 2/5] END randomforestclassifier__criterion=entropy, randomforestclassifier__max_features=0.33, randomforestclassifier__min_samples_leaf=15, randomforestclassifier__min_samples_split=4, randomforestclassifier__n_estimators=50;, score=0.821 total time=   0.5s\n",
      "[CV 3/5] END randomforestclassifier__criterion=entropy, randomforestclassifier__max_features=0.33, randomforestclassifier__min_samples_leaf=15, randomforestclassifier__min_samples_split=4, randomforestclassifier__n_estimators=50;, score=0.801 total time=   0.4s\n",
      "[CV 4/5] END randomforestclassifier__criterion=entropy, randomforestclassifier__max_features=0.33, randomforestclassifier__min_samples_leaf=15, randomforestclassifier__min_samples_split=4, randomforestclassifier__n_estimators=50;, score=0.821 total time=   0.4s\n",
      "[CV 5/5] END randomforestclassifier__criterion=entropy, randomforestclassifier__max_features=0.33, randomforestclassifier__min_samples_leaf=15, randomforestclassifier__min_samples_split=4, randomforestclassifier__n_estimators=50;, score=0.833 total time=   0.5s\n",
      "[CV 1/5] END randomforestclassifier__criterion=entropy, randomforestclassifier__max_features=0.33, randomforestclassifier__min_samples_leaf=15, randomforestclassifier__min_samples_split=4, randomforestclassifier__n_estimators=100;, score=0.837 total time=   0.9s\n",
      "[CV 2/5] END randomforestclassifier__criterion=entropy, randomforestclassifier__max_features=0.33, randomforestclassifier__min_samples_leaf=15, randomforestclassifier__min_samples_split=4, randomforestclassifier__n_estimators=100;, score=0.822 total time=   1.0s\n",
      "[CV 3/5] END randomforestclassifier__criterion=entropy, randomforestclassifier__max_features=0.33, randomforestclassifier__min_samples_leaf=15, randomforestclassifier__min_samples_split=4, randomforestclassifier__n_estimators=100;, score=0.801 total time=   1.0s\n",
      "[CV 4/5] END randomforestclassifier__criterion=entropy, randomforestclassifier__max_features=0.33, randomforestclassifier__min_samples_leaf=15, randomforestclassifier__min_samples_split=4, randomforestclassifier__n_estimators=100;, score=0.819 total time=   1.0s\n",
      "[CV 5/5] END randomforestclassifier__criterion=entropy, randomforestclassifier__max_features=0.33, randomforestclassifier__min_samples_leaf=15, randomforestclassifier__min_samples_split=4, randomforestclassifier__n_estimators=100;, score=0.829 total time=   1.0s\n",
      "[CV 1/5] END randomforestclassifier__criterion=entropy, randomforestclassifier__max_features=0.33, randomforestclassifier__min_samples_leaf=15, randomforestclassifier__min_samples_split=4, randomforestclassifier__n_estimators=150;, score=0.833 total time=   1.5s\n",
      "[CV 2/5] END randomforestclassifier__criterion=entropy, randomforestclassifier__max_features=0.33, randomforestclassifier__min_samples_leaf=15, randomforestclassifier__min_samples_split=4, randomforestclassifier__n_estimators=150;, score=0.825 total time=   1.5s\n",
      "[CV 3/5] END randomforestclassifier__criterion=entropy, randomforestclassifier__max_features=0.33, randomforestclassifier__min_samples_leaf=15, randomforestclassifier__min_samples_split=4, randomforestclassifier__n_estimators=150;, score=0.805 total time=   1.4s\n",
      "[CV 4/5] END randomforestclassifier__criterion=entropy, randomforestclassifier__max_features=0.33, randomforestclassifier__min_samples_leaf=15, randomforestclassifier__min_samples_split=4, randomforestclassifier__n_estimators=150;, score=0.820 total time=   1.5s\n",
      "[CV 5/5] END randomforestclassifier__criterion=entropy, randomforestclassifier__max_features=0.33, randomforestclassifier__min_samples_leaf=15, randomforestclassifier__min_samples_split=4, randomforestclassifier__n_estimators=150;, score=0.829 total time=   1.5s\n"
     ]
    },
    {
     "data": {
      "text/plain": [
       "GridSearchCV(cv=5,\n",
       "             estimator=Pipeline(steps=[('columntransformer',\n",
       "                                        ColumnTransformer(transformers=[('minmaxscaler',\n",
       "                                                                         MinMaxScaler(),\n",
       "                                                                         [0, 3,\n",
       "                                                                          4, 5,\n",
       "                                                                          6, 7,\n",
       "                                                                          8,\n",
       "                                                                          9]),\n",
       "                                                                        ('onehotencoder',\n",
       "                                                                         OneHotEncoder(sparse=False),\n",
       "                                                                         [1,\n",
       "                                                                          2])])),\n",
       "                                       ('smote', SMOTE(random_state=10)),\n",
       "                                       ('randomforestclassifier',\n",
       "                                        RandomForestClassifier())]),\n",
       "             param_grid={'randomforestclassifier__criterion': ['gini',\n",
       "                                                               'entropy'],\n",
       "                         'randomforestclassifier__max_features': ['sqrt', 0.33],\n",
       "                         'randomforestclassifier__min_samples_leaf': [1, 5, 10,\n",
       "                                                                      15],\n",
       "                         'randomforestclassifier__min_samples_split': [2, 3, 4],\n",
       "                         'randomforestclassifier__n_estimators': [50, 100,\n",
       "                                                                  150]},\n",
       "             scoring='accuracy', verbose=3)"
      ]
     },
     "execution_count": 16,
     "metadata": {},
     "output_type": "execute_result"
    }
   ],
   "source": [
    "rf_grid.fit(X_train, y_train)"
   ]
  },
  {
   "cell_type": "code",
   "execution_count": 17,
   "metadata": {
    "execution": {
     "iopub.execute_input": "2022-11-22T04:55:53.823703Z",
     "iopub.status.busy": "2022-11-22T04:55:53.823703Z",
     "iopub.status.idle": "2022-11-22T04:55:53.838739Z",
     "shell.execute_reply": "2022-11-22T04:55:53.837734Z",
     "shell.execute_reply.started": "2022-11-22T04:55:53.823703Z"
    }
   },
   "outputs": [
    {
     "name": "stdout",
     "output_type": "stream",
     "text": [
      "{'randomforestclassifier__criterion': 'entropy', 'randomforestclassifier__max_features': 0.33, 'randomforestclassifier__min_samples_leaf': 1, 'randomforestclassifier__min_samples_split': 4, 'randomforestclassifier__n_estimators': 50}\n"
     ]
    }
   ],
   "source": [
    "print(rf_grid.best_params_)"
   ]
  },
  {
   "cell_type": "code",
   "execution_count": 18,
   "metadata": {
    "execution": {
     "iopub.execute_input": "2022-11-22T04:55:53.839696Z",
     "iopub.status.busy": "2022-11-22T04:55:53.839696Z",
     "iopub.status.idle": "2022-11-22T04:55:53.853696Z",
     "shell.execute_reply": "2022-11-22T04:55:53.852734Z",
     "shell.execute_reply.started": "2022-11-22T04:55:53.839696Z"
    }
   },
   "outputs": [
    {
     "name": "stdout",
     "output_type": "stream",
     "text": [
      "0.8418571428571429\n"
     ]
    }
   ],
   "source": [
    "print(rf_grid.best_score_)"
   ]
  },
  {
   "cell_type": "code",
   "execution_count": 19,
   "metadata": {
    "execution": {
     "iopub.execute_input": "2022-11-22T04:55:53.854696Z",
     "iopub.status.busy": "2022-11-22T04:55:53.854696Z",
     "iopub.status.idle": "2022-11-22T04:55:53.962357Z",
     "shell.execute_reply": "2022-11-22T04:55:53.961357Z",
     "shell.execute_reply.started": "2022-11-22T04:55:53.854696Z"
    }
   },
   "outputs": [
    {
     "name": "stdout",
     "output_type": "stream",
     "text": [
      "Training Data Score: 0.9941428571428571\n",
      "Testing Data Score: 0.8383333333333334\n"
     ]
    }
   ],
   "source": [
    "print(f\"Training Data Score: {rf_grid.score(X_train, y_train)}\")\n",
    "print(f\"Testing Data Score: {rf_grid.score(X_test, y_test)}\")"
   ]
  },
  {
   "cell_type": "code",
   "execution_count": 20,
   "metadata": {
    "execution": {
     "iopub.execute_input": "2022-11-22T04:55:53.963319Z",
     "iopub.status.busy": "2022-11-22T04:55:53.963319Z",
     "iopub.status.idle": "2022-11-22T04:55:54.008324Z",
     "shell.execute_reply": "2022-11-22T04:55:54.007324Z",
     "shell.execute_reply.started": "2022-11-22T04:55:53.963319Z"
    }
   },
   "outputs": [
    {
     "name": "stdout",
     "output_type": "stream",
     "text": [
      "First 10 Predictions:   [0 0 0 0 1 1 0 0 0 0]\n",
      "First 10 Actual labels: [1, 0, 0, 0, 0, 1, 0, 0, 0, 0]\n"
     ]
    }
   ],
   "source": [
    "predictions = rf_grid.predict(X_test)\n",
    "print(f\"First 10 Predictions:   {predictions[:10]}\")\n",
    "print(f\"First 10 Actual labels: {y_test[:10].tolist()}\")"
   ]
  },
  {
   "cell_type": "code",
   "execution_count": 21,
   "metadata": {
    "execution": {
     "iopub.execute_input": "2022-11-22T04:55:54.010327Z",
     "iopub.status.busy": "2022-11-22T04:55:54.009325Z",
     "iopub.status.idle": "2022-11-22T04:55:54.023850Z",
     "shell.execute_reply": "2022-11-22T04:55:54.022847Z",
     "shell.execute_reply.started": "2022-11-22T04:55:54.010327Z"
    }
   },
   "outputs": [
    {
     "data": {
      "text/html": [
       "<div>\n",
       "<style scoped>\n",
       "    .dataframe tbody tr th:only-of-type {\n",
       "        vertical-align: middle;\n",
       "    }\n",
       "\n",
       "    .dataframe tbody tr th {\n",
       "        vertical-align: top;\n",
       "    }\n",
       "\n",
       "    .dataframe thead th {\n",
       "        text-align: right;\n",
       "    }\n",
       "</style>\n",
       "<table border=\"1\" class=\"dataframe\">\n",
       "  <thead>\n",
       "    <tr style=\"text-align: right;\">\n",
       "      <th></th>\n",
       "      <th>Prediction</th>\n",
       "      <th>Actual</th>\n",
       "    </tr>\n",
       "  </thead>\n",
       "  <tbody>\n",
       "    <tr>\n",
       "      <th>0</th>\n",
       "      <td>0</td>\n",
       "      <td>1</td>\n",
       "    </tr>\n",
       "    <tr>\n",
       "      <th>1</th>\n",
       "      <td>0</td>\n",
       "      <td>0</td>\n",
       "    </tr>\n",
       "    <tr>\n",
       "      <th>2</th>\n",
       "      <td>0</td>\n",
       "      <td>0</td>\n",
       "    </tr>\n",
       "    <tr>\n",
       "      <th>3</th>\n",
       "      <td>0</td>\n",
       "      <td>0</td>\n",
       "    </tr>\n",
       "    <tr>\n",
       "      <th>4</th>\n",
       "      <td>1</td>\n",
       "      <td>0</td>\n",
       "    </tr>\n",
       "    <tr>\n",
       "      <th>...</th>\n",
       "      <td>...</td>\n",
       "      <td>...</td>\n",
       "    </tr>\n",
       "    <tr>\n",
       "      <th>2995</th>\n",
       "      <td>0</td>\n",
       "      <td>0</td>\n",
       "    </tr>\n",
       "    <tr>\n",
       "      <th>2996</th>\n",
       "      <td>0</td>\n",
       "      <td>0</td>\n",
       "    </tr>\n",
       "    <tr>\n",
       "      <th>2997</th>\n",
       "      <td>0</td>\n",
       "      <td>0</td>\n",
       "    </tr>\n",
       "    <tr>\n",
       "      <th>2998</th>\n",
       "      <td>0</td>\n",
       "      <td>0</td>\n",
       "    </tr>\n",
       "    <tr>\n",
       "      <th>2999</th>\n",
       "      <td>0</td>\n",
       "      <td>0</td>\n",
       "    </tr>\n",
       "  </tbody>\n",
       "</table>\n",
       "<p>3000 rows × 2 columns</p>\n",
       "</div>"
      ],
      "text/plain": [
       "      Prediction  Actual\n",
       "0              0       1\n",
       "1              0       0\n",
       "2              0       0\n",
       "3              0       0\n",
       "4              1       0\n",
       "...          ...     ...\n",
       "2995           0       0\n",
       "2996           0       0\n",
       "2997           0       0\n",
       "2998           0       0\n",
       "2999           0       0\n",
       "\n",
       "[3000 rows x 2 columns]"
      ]
     },
     "execution_count": 21,
     "metadata": {},
     "output_type": "execute_result"
    }
   ],
   "source": [
    "pd.DataFrame({\"Prediction\": predictions, \"Actual\": y_test}).reset_index(drop=True)"
   ]
  },
  {
   "cell_type": "code",
   "execution_count": 22,
   "metadata": {
    "execution": {
     "iopub.execute_input": "2022-11-22T04:55:54.025850Z",
     "iopub.status.busy": "2022-11-22T04:55:54.025850Z",
     "iopub.status.idle": "2022-11-22T04:55:54.039845Z",
     "shell.execute_reply": "2022-11-22T04:55:54.038846Z",
     "shell.execute_reply.started": "2022-11-22T04:55:54.025850Z"
    }
   },
   "outputs": [
    {
     "name": "stdout",
     "output_type": "stream",
     "text": [
      "[[2137  252]\n",
      " [ 233  378]]\n"
     ]
    }
   ],
   "source": [
    "cm = confusion_matrix(y_test, predictions)\n",
    "print(cm)"
   ]
  },
  {
   "cell_type": "code",
   "execution_count": 23,
   "metadata": {
    "execution": {
     "iopub.execute_input": "2022-11-22T04:55:54.040846Z",
     "iopub.status.busy": "2022-11-22T04:55:54.040846Z",
     "iopub.status.idle": "2022-11-22T04:55:54.055845Z",
     "shell.execute_reply": "2022-11-22T04:55:54.054846Z",
     "shell.execute_reply.started": "2022-11-22T04:55:54.040846Z"
    },
    "tags": []
   },
   "outputs": [
    {
     "name": "stdout",
     "output_type": "stream",
     "text": [
      "[[0.89 0.11]\n",
      " [0.38 0.62]]\n"
     ]
    }
   ],
   "source": [
    "cm = np.around(cm / cm.sum(axis=1)[:, np.newaxis], 2)\n",
    "print(cm)"
   ]
  },
  {
   "cell_type": "code",
   "execution_count": 24,
   "metadata": {
    "execution": {
     "iopub.execute_input": "2022-11-22T04:55:54.057846Z",
     "iopub.status.busy": "2022-11-22T04:55:54.056845Z",
     "iopub.status.idle": "2022-11-22T04:55:54.071845Z",
     "shell.execute_reply": "2022-11-22T04:55:54.070883Z",
     "shell.execute_reply.started": "2022-11-22T04:55:54.057846Z"
    }
   },
   "outputs": [
    {
     "name": "stdout",
     "output_type": "stream",
     "text": [
      "              precision    recall  f1-score   support\n",
      "\n",
      "           0       0.90      0.89      0.90      2389\n",
      "           1       0.60      0.62      0.61       611\n",
      "\n",
      "    accuracy                           0.84      3000\n",
      "   macro avg       0.75      0.76      0.75      3000\n",
      "weighted avg       0.84      0.84      0.84      3000\n",
      "\n"
     ]
    }
   ],
   "source": [
    "print(classification_report(y_test, predictions))"
   ]
  },
  {
   "cell_type": "code",
   "execution_count": 25,
   "metadata": {
    "execution": {
     "iopub.execute_input": "2022-11-22T04:55:54.072845Z",
     "iopub.status.busy": "2022-11-22T04:55:54.072845Z",
     "iopub.status.idle": "2022-11-22T04:55:54.087845Z",
     "shell.execute_reply": "2022-11-22T04:55:54.086856Z",
     "shell.execute_reply.started": "2022-11-22T04:55:54.072845Z"
    }
   },
   "outputs": [],
   "source": [
    "pred = rf_grid.predict(X_test[:1])"
   ]
  },
  {
   "cell_type": "code",
   "execution_count": 26,
   "metadata": {
    "execution": {
     "iopub.execute_input": "2022-11-22T04:55:54.089845Z",
     "iopub.status.busy": "2022-11-22T04:55:54.088844Z",
     "iopub.status.idle": "2022-11-22T04:55:54.103844Z",
     "shell.execute_reply": "2022-11-22T04:55:54.102843Z",
     "shell.execute_reply.started": "2022-11-22T04:55:54.089845Z"
    }
   },
   "outputs": [
    {
     "name": "stdout",
     "output_type": "stream",
     "text": [
      "Predicted classes: [0]\n",
      "Actual Labels: [1]\n"
     ]
    }
   ],
   "source": [
    "print(f\"Predicted classes: {pred}\")\n",
    "print(f\"Actual Labels: {list(y_test[:1])}\")"
   ]
  },
  {
   "cell_type": "code",
   "execution_count": 27,
   "metadata": {
    "execution": {
     "iopub.execute_input": "2022-11-22T04:55:54.104843Z",
     "iopub.status.busy": "2022-11-22T04:55:54.104843Z",
     "iopub.status.idle": "2022-11-22T04:55:54.166360Z",
     "shell.execute_reply": "2022-11-22T04:55:54.165358Z",
     "shell.execute_reply.started": "2022-11-22T04:55:54.104843Z"
    }
   },
   "outputs": [
    {
     "data": {
      "text/plain": [
       "['../models/nate_random_forest.sav']"
      ]
     },
     "execution_count": 27,
     "metadata": {},
     "output_type": "execute_result"
    }
   ],
   "source": [
    "import joblib\n",
    "\n",
    "filename = '../models/nate_random_forest.sav'\n",
    "joblib.dump(rf_grid, filename)"
   ]
  },
  {
   "cell_type": "code",
   "execution_count": 28,
   "metadata": {
    "execution": {
     "iopub.execute_input": "2022-11-22T04:55:54.169360Z",
     "iopub.status.busy": "2022-11-22T04:55:54.169360Z",
     "iopub.status.idle": "2022-11-22T04:55:54.260197Z",
     "shell.execute_reply": "2022-11-22T04:55:54.259239Z",
     "shell.execute_reply.started": "2022-11-22T04:55:54.169360Z"
    }
   },
   "outputs": [
    {
     "name": "stdout",
     "output_type": "stream",
     "text": [
      "0.8383333333333334\n"
     ]
    }
   ],
   "source": [
    "rf_model = joblib.load(filename)\n",
    "print(rf_model.score(X_test, y_test))"
   ]
  },
  {
   "cell_type": "code",
   "execution_count": null,
   "metadata": {},
   "outputs": [],
   "source": []
  }
 ],
 "metadata": {
  "kernelspec": {
   "display_name": "bank-churn",
   "language": "python",
   "name": "conda-env-bank-churn-py"
  },
  "language_info": {
   "codemirror_mode": {
    "name": "ipython",
    "version": 3
   },
   "file_extension": ".py",
   "mimetype": "text/x-python",
   "name": "python",
   "nbconvert_exporter": "python",
   "pygments_lexer": "ipython3",
   "version": "3.9.15"
  }
 },
 "nbformat": 4,
 "nbformat_minor": 4
}
